{
 "cells": [
  {
   "cell_type": "code",
   "execution_count": 1,
   "metadata": {},
   "outputs": [],
   "source": [
    "%matplotlib inline\n",
    "from matplotlib import pyplot as plt\n",
    "import torch\n",
    "import skorch"
   ]
  },
  {
   "cell_type": "code",
   "execution_count": 2,
   "metadata": {},
   "outputs": [],
   "source": [
    "from functools import partial"
   ]
  },
  {
   "cell_type": "code",
   "execution_count": 3,
   "metadata": {},
   "outputs": [],
   "source": [
    "import numpy as np"
   ]
  },
  {
   "cell_type": "code",
   "execution_count": 4,
   "metadata": {},
   "outputs": [],
   "source": [
    "from sklearn.model_selection import StratifiedKFold\n",
    "from sklearn.metrics import accuracy_score"
   ]
  },
  {
   "cell_type": "code",
   "execution_count": 5,
   "metadata": {},
   "outputs": [],
   "source": [
    "from deepspeech.model import DeepSpeech\n",
    "from deepspeech.model import SequenceWise\n",
    "from deepspeech.data.data_loader import SpectrogramParser\n",
    "from deepspeech.data.data_loader import BucketingSampler"
   ]
  },
  {
   "cell_type": "code",
   "execution_count": 8,
   "metadata": {},
   "outputs": [],
   "source": [
    "from data import dataset\n",
    "from utils import RNNValueExtractor\n",
    "from utils import Identity\n",
    "from utils import bucketing_dataloader\n",
    "from layers import ResidualRNN"
   ]
  },
  {
   "cell_type": "code",
   "execution_count": null,
   "metadata": {},
   "outputs": [],
   "source": []
  },
  {
   "cell_type": "code",
   "execution_count": 9,
   "metadata": {},
   "outputs": [],
   "source": [
    "base_model = DeepSpeech.load_model(\n",
    "    'models/librispeech_pretrained.pth'\n",
    ")\n",
    "audio_conf = DeepSpeech.get_audio_conf(base_model)\n",
    "parser = SpectrogramParser(audio_conf)"
   ]
  },
  {
   "cell_type": "code",
   "execution_count": 100,
   "metadata": {},
   "outputs": [],
   "source": [
    "ds_swear = dataset.SwearDataset(dataset.DEFAULT_PROVIDERS)"
   ]
  },
  {
   "cell_type": "code",
   "execution_count": 101,
   "metadata": {},
   "outputs": [],
   "source": [
    "X_swear, y_swear = ds_swear.load()"
   ]
  },
  {
   "cell_type": "code",
   "execution_count": 80,
   "metadata": {},
   "outputs": [],
   "source": [
    "ds = dataset.SwearBinaryAudioDataset(X_swear, y_swear, parser)"
   ]
  },
  {
   "cell_type": "code",
   "execution_count": 81,
   "metadata": {},
   "outputs": [],
   "source": [
    "X, y = ds.load()"
   ]
  },
  {
   "cell_type": "code",
   "execution_count": null,
   "metadata": {},
   "outputs": [],
   "source": []
  },
  {
   "cell_type": "code",
   "execution_count": 96,
   "metadata": {},
   "outputs": [],
   "source": []
  },
  {
   "cell_type": "code",
   "execution_count": 97,
   "metadata": {},
   "outputs": [],
   "source": []
  },
  {
   "cell_type": "code",
   "execution_count": 99,
   "metadata": {},
   "outputs": [
    {
     "data": {
      "text/plain": [
       "(7, 11)"
      ]
     },
     "execution_count": 99,
     "metadata": {},
     "output_type": "execute_result"
    }
   ],
   "source": []
  },
  {
   "cell_type": "markdown",
   "metadata": {},
   "source": [
    "General swear / noswear class balance"
   ]
  },
  {
   "cell_type": "code",
   "execution_count": 17,
   "metadata": {},
   "outputs": [
    {
     "data": {
      "image/png": "[encoded data removed]",
      "text/plain": [
       "<Figure size 432x288 with 1 Axes>"
      ]
     },
     "metadata": {
      "needs_background": "light"
     },
     "output_type": "display_data"
    }
   ],
   "source": [
    "plt.hist(y);"
   ]
  },
  {
   "cell_type": "code",
   "execution_count": null,
   "metadata": {},
   "outputs": [],
   "source": []
  },
  {
   "cell_type": "code",
   "execution_count": 18,
   "metadata": {},
   "outputs": [
    {
     "data": {
      "text/plain": [
       "(663, 233.85714285714286, 173.0)"
      ]
     },
     "execution_count": 18,
     "metadata": {},
     "output_type": "execute_result"
    }
   ],
   "source": [
    "seq_lens = np.array([x.shape[1] for x in X])\n",
    "max_seq_len = max(seq_lens)\n",
    "max_seq_len, np.mean(seq_lens), np.median(seq_lens)"
   ]
  },
  {
   "cell_type": "code",
   "execution_count": 19,
   "metadata": {},
   "outputs": [],
   "source": [
    "X_pad = np.zeros(\n",
    "    (len(X), X[0].shape[0], max_seq_len), \n",
    "    dtype='float32'\n",
    ")\n",
    "for i, _ in enumerate(X):\n",
    "    X_pad[i, :, :seq_lens[i]] = X[i]"
   ]
  },
  {
   "cell_type": "code",
   "execution_count": null,
   "metadata": {},
   "outputs": [],
   "source": []
  },
  {
   "cell_type": "code",
   "execution_count": 20,
   "metadata": {},
   "outputs": [],
   "source": [
    "split = StratifiedKFold(n_splits=5, shuffle=True, random_state=0)"
   ]
  },
  {
   "cell_type": "code",
   "execution_count": 21,
   "metadata": {},
   "outputs": [],
   "source": [
    "train_idcs, test_idcs = next(split.split(y, y=y))"
   ]
  },
  {
   "cell_type": "code",
   "execution_count": 22,
   "metadata": {},
   "outputs": [],
   "source": [
    "X_train = {'lens': seq_lens[train_idcs], 'X': X_pad[train_idcs]}\n",
    "y_train = np.array(y)[train_idcs]\n",
    "\n",
    "X_test = {'lens': seq_lens[test_idcs], 'X': X_pad[test_idcs]}\n",
    "y_test = np.array(y)[test_idcs]"
   ]
  },
  {
   "cell_type": "code",
   "execution_count": 23,
   "metadata": {},
   "outputs": [
    {
     "data": {
      "text/plain": [
       "(173, 44)"
      ]
     },
     "execution_count": 23,
     "metadata": {},
     "output_type": "execute_result"
    }
   ],
   "source": [
    "len(X_train['X']), len(X_test['X'])"
   ]
  },
  {
   "cell_type": "code",
   "execution_count": null,
   "metadata": {},
   "outputs": [],
   "source": []
  },
  {
   "cell_type": "code",
   "execution_count": null,
   "metadata": {},
   "outputs": [],
   "source": []
  },
  {
   "cell_type": "code",
   "execution_count": 43,
   "metadata": {},
   "outputs": [],
   "source": [
    "class NoSwearModel(torch.nn.Module):\n",
    "    def __init__(\n",
    "        self, \n",
    "        base_model, \n",
    "        residual=False, \n",
    "        n_hidden=10, \n",
    "        n_layer=1,\n",
    "        p_dropout=0.2\n",
    "    ):\n",
    "        super().__init__()\n",
    "        self.base_model = base_model\n",
    "        self.base_model.rnns = Identity()\n",
    "        self.base_model.lookahead = Identity()\n",
    "        self.base_model.fc = Identity()\n",
    "        self.base_model.inference_softmax = Identity()\n",
    "        \n",
    "        if residual:\n",
    "            self.rnn = torch.nn.Sequential(\n",
    "                torch.nn.GRU(     672, n_hidden, bias=False, batch_first=True),\n",
    "                RNNValueExtractor(),\n",
    "                ResidualRNN(torch.nn.GRU(n_hidden, n_hidden, bias=False, batch_first=True)),\n",
    "            )\n",
    "        else:\n",
    "            self.rnn = torch.nn.Sequential(\n",
    "                torch.nn.GRU(672, n_hidden, num_layers=n_layer, bias=False, batch_first=True),\n",
    "                RNNValueExtractor(),\n",
    "            )\n",
    "            \n",
    "        self.clf = torch.nn.Linear(n_hidden, 2)\n",
    "        self.dropout = torch.nn.Dropout(p=p_dropout)\n",
    "        \n",
    "    def forward(self, X, lens):\n",
    "        # run base model, output is NxTxH with\n",
    "        # T=Time, N=samples, H=hidden.\n",
    "        y_pre = self.base_model(X)\n",
    "        y_pre = self.dropout(y_pre)\n",
    "        \n",
    "        # run RNN over sequence and extract last item\n",
    "        y = self.rnn(y_pre)\n",
    "        # presumably we cannot use lens since cnns reduce that too\n",
    "        #y = y[:, lens - 1]\n",
    "        #y = y[:, -1]\n",
    "        i = y.mean(-1).argmax(1)\n",
    "        y = y[torch.arange(len(y)), i]\n",
    "        \n",
    "        y = self.dropout(y)\n",
    "        \n",
    "        # run classifier\n",
    "        y = self.clf(y)\n",
    "        y = torch.softmax(y, dim=-1)\n",
    "        return y"
   ]
  },
  {
   "cell_type": "code",
   "execution_count": null,
   "metadata": {},
   "outputs": [],
   "source": []
  },
  {
   "cell_type": "code",
   "execution_count": null,
   "metadata": {},
   "outputs": [],
   "source": []
  },
  {
   "cell_type": "code",
   "execution_count": 44,
   "metadata": {},
   "outputs": [],
   "source": [
    "def bucket(Xi, yi):\n",
    "    Xi['X'] = Xi['X'][:, :, :max(Xi['lens'])]\n",
    "    return Xi, yi"
   ]
  },
  {
   "cell_type": "code",
   "execution_count": 59,
   "metadata": {},
   "outputs": [],
   "source": [
    "torch.manual_seed(42)\n",
    "\n",
    "net = skorch.NeuralNetClassifier(\n",
    "    partial(NoSwearModel, base_model), \n",
    "    \n",
    "    iterator_train=bucketing_dataloader,\n",
    "    iterator_train__bucket_fn=bucket,\n",
    "    iterator_valid=bucketing_dataloader,\n",
    "    iterator_valid__bucket_fn=bucket,\n",
    "    \n",
    "    batch_size=64,\n",
    "    max_epochs=40,\n",
    "    device='cuda',\n",
    "    \n",
    "    module__p_dropout=0.5,\n",
    "    module__n_hidden=20,\n",
    "    module__residual=True,\n",
    "        \n",
    "    optimizer=torch.optim.RMSprop,\n",
    "    optimizer__lr=0.0001,\n",
    "    #optimizer__weight_decay=1e-4,\n",
    "    \n",
    "    callbacks=[\n",
    "        skorch.callbacks.Freezer('base_model.*'),\n",
    "        skorch.callbacks.Checkpoint(monitor='valid_acc_best'),\n",
    "    ]\n",
    ")"
   ]
  },
  {
   "cell_type": "code",
   "execution_count": 60,
   "metadata": {
    "scrolled": false
   },
   "outputs": [
    {
     "name": "stdout",
     "output_type": "stream",
     "text": [
      "Automatic pdb calling has been turned ON\n",
      "  epoch    train_loss    valid_acc    valid_loss    cp     dur\n",
      "-------  ------------  -----------  ------------  ----  ------\n",
      "      1        \u001b[36m0.8685\u001b[0m       \u001b[32m0.5714\u001b[0m        \u001b[35m0.7163\u001b[0m     +  0.2748\n",
      "      2        \u001b[36m0.8422\u001b[0m       0.5429        \u001b[35m0.7086\u001b[0m        0.2886\n",
      "      3        \u001b[36m0.7534\u001b[0m       0.5429        0.7099        0.3027\n",
      "      4        0.8138       0.4857        0.7204        0.3028\n",
      "      5        0.8156       0.4857        0.7214        0.3006\n",
      "      6        0.7884       0.4571        0.7316        0.3025\n",
      "      7        0.7780       0.4571        0.7356        0.3012\n",
      "      8        0.7701       0.5143        0.7340        0.3030\n",
      "      9        \u001b[36m0.7326\u001b[0m       0.5429        0.7381        0.3077\n",
      "     10        0.7428       0.5429        0.7288        0.3049\n",
      "     11        0.8088       0.5143        0.7288        0.2964\n",
      "     12        0.7776       0.4857        0.7424        0.3066\n",
      "     13        0.7671       0.5429        0.7261        0.3046\n",
      "     14        \u001b[36m0.7215\u001b[0m       0.5429        0.7312        0.2975\n",
      "     15        0.7592       0.5143        0.7418        0.3204\n",
      "     16        0.7857       0.4857        0.7436        0.3091\n",
      "     17        0.8008       0.4857        0.7294        0.3145\n",
      "     18        0.8059       0.4571        0.7313        0.3150\n",
      "     19        \u001b[36m0.6952\u001b[0m       0.4571        0.7336        0.3162\n",
      "     20        0.7643       0.4571        0.7353        0.2999\n",
      "     21        0.7451       0.4571        0.7360        0.3128\n",
      "     22        0.7815       0.4571        0.7382        0.3182\n",
      "     23        0.7189       0.4571        0.7394        0.3093\n",
      "     24        0.7372       0.4571        0.7419        0.3245\n",
      "     25        0.7898       0.4571        0.7455        0.3140\n",
      "     26        0.7437       0.4571        0.7500        0.3171\n",
      "     27        0.7676       0.4571        0.7510        0.3172\n",
      "     28        0.7830       0.4571        0.7534        0.3173\n",
      "     29        0.7226       0.4571        0.7510        0.3097\n",
      "     30        0.7487       0.4571        0.7513        0.3101\n",
      "     31        0.8128       0.4571        0.7439        0.3106\n",
      "     32        0.7487       0.4571        0.7488        0.3165\n",
      "     33        0.7445       0.4571        0.7530        0.3157\n",
      "     34        0.7365       0.4571        0.7523        0.3181\n",
      "     35        0.8269       0.4571        0.7527        0.3225\n",
      "     36        \u001b[36m0.6949\u001b[0m       0.4571        0.7544        0.3196\n",
      "     37        0.7997       0.4571        0.7561        0.3159\n",
      "     38        0.7360       0.4571        0.7466        0.3197\n",
      "     39        0.7865       0.4571        0.7364        0.3157\n",
      "     40        0.7610       0.4571        0.7560        0.3190\n"
     ]
    },
    {
     "data": {
      "text/plain": [
       "<class 'skorch.classifier.NeuralNetClassifier'>[initialized](\n",
       "  module_=NoSwearModel(\n",
       "    (base_model): DeepSpeech(\n",
       "      (conv): Sequential(\n",
       "        (0): Conv2d(1, 32, kernel_size=(41, 11), stride=(2, 2), padding=(0, 10))\n",
       "        (1): BatchNorm2d(32, eps=1e-05, momentum=0.1, affine=True, track_running_stats=True)\n",
       "        (2): Hardtanh(min_val=0, max_val=20, inplace)\n",
       "        (3): Conv2d(32, 32, kernel_size=(21, 11), stride=(2, 1))\n",
       "        (4): BatchNorm2d(32, eps=1e-05, momentum=0.1, affine=True, track_running_stats=True)\n",
       "        (5): Hardtanh(min_val=0, max_val=20, inplace)\n",
       "      )\n",
       "      (rnns): Identity()\n",
       "      (fc): Identity()\n",
       "      (inference_softmax): Identity()\n",
       "      (lookahead): Identity()\n",
       "    )\n",
       "    (rnn): Sequential(\n",
       "      (0): GRU(672, 20, bias=False, batch_first=True)\n",
       "      (1): RNNValueExtractor()\n",
       "      (2): ResidualRNN(\n",
       "        (rnn): GRU(20, 20, bias=False, batch_first=True)\n",
       "      )\n",
       "    )\n",
       "    (clf): Linear(in_features=20, out_features=2, bias=True)\n",
       "    (dropout): Dropout(p=0.5)\n",
       "  ),\n",
       ")"
      ]
     },
     "execution_count": 60,
     "metadata": {},
     "output_type": "execute_result"
    }
   ],
   "source": [
    "%pdb on\n",
    "net.fit(X_train, y_train)"
   ]
  },
  {
   "cell_type": "code",
   "execution_count": null,
   "metadata": {},
   "outputs": [],
   "source": []
  },
  {
   "cell_type": "code",
   "execution_count": 61,
   "metadata": {},
   "outputs": [
    {
     "data": {
      "text/plain": [
       "0.5454545454545454"
      ]
     },
     "execution_count": 61,
     "metadata": {},
     "output_type": "execute_result"
    }
   ],
   "source": [
    "accuracy_score(y_test, net.predict(X_test))"
   ]
  },
  {
   "cell_type": "code",
   "execution_count": null,
   "metadata": {},
   "outputs": [],
   "source": []
  },
  {
   "cell_type": "code",
   "execution_count": 62,
   "metadata": {},
   "outputs": [],
   "source": [
    "from sklearn.model_selection import GridSearchCV\n",
    "from skorch.helper import SliceDict"
   ]
  },
  {
   "cell_type": "code",
   "execution_count": 63,
   "metadata": {},
   "outputs": [
    {
     "name": "stdout",
     "output_type": "stream",
     "text": [
      "Re-initializing module because the following parameters were re-set: n_hidden, p_dropout, residual.\n",
      "Re-initializing optimizer because the following parameters were re-set: lr.\n"
     ]
    }
   ],
   "source": [
    "net.initialize();\n",
    "net.set_params(verbose=False);"
   ]
  },
  {
   "cell_type": "code",
   "execution_count": 64,
   "metadata": {},
   "outputs": [],
   "source": [
    "params = {\n",
    "    'optimizer__lr': [0.02, 0.002, 0.0002],\n",
    "    'optimizer__weight_decay': [0, 1e-4],\n",
    "    'optimizer': [torch.optim.RMSprop, torch.optim.Adam],\n",
    "    'module__p_dropout': [0, 0.5],\n",
    "    'module__n_hidden': [5, 10, 20, 40],\n",
    "    'module__n_layer': [1, 2],\n",
    "    'module__residual': [True, False],\n",
    "}"
   ]
  },
  {
   "cell_type": "code",
   "execution_count": 65,
   "metadata": {},
   "outputs": [],
   "source": [
    "gs = GridSearchCV(net, params, scoring='accuracy')"
   ]
  },
  {
   "cell_type": "code",
   "execution_count": 66,
   "metadata": {
    "scrolled": false
   },
   "outputs": [
    {
     "name": "stderr",
     "output_type": "stream",
     "text": [
      "/data/tietz/envs/noswear/lib/python3.5/site-packages/sklearn/model_selection/_split.py:2053: FutureWarning: You should specify a value for 'cv' instead of relying on the default value. The default value will change from 3 to 5 in version 0.22.\n",
      "  warnings.warn(CV_WARNING, FutureWarning)\n",
      "/data/tietz/envs/noswear/lib/python3.5/site-packages/sklearn/model_selection/_search.py:841: DeprecationWarning: The default of the `iid` parameter will change from True to False in version 0.22 and will be removed in 0.24. This will change numeric results when test-set sizes are unequal.\n",
      "  DeprecationWarning)\n"
     ]
    },
    {
     "name": "stdout",
     "output_type": "stream",
     "text": [
      "CPU times: user 4h 10min 33s, sys: 1h 23min 16s, total: 5h 33min 49s\n",
      "Wall time: 5h 33min 44s\n"
     ]
    },
    {
     "data": {
      "text/plain": [
       "GridSearchCV(cv='warn', error_score='raise-deprecating',\n",
       "       estimator=<class 'skorch.classifier.NeuralNetClassifier'>[initialized](\n",
       "  module_=NoSwearModel(\n",
       "    (base_model): DeepSpeech(\n",
       "      (conv): Sequential(\n",
       "        (0): Conv2d(1, 32, kernel_size=(41, 11), stride=(2, 2), padding=(0, 10))\n",
       "        (1): BatchNorm2d(32, eps=1e-05, momentum=0.1, affine=True, ... )\n",
       "    (clf): Linear(in_features=20, out_features=2, bias=True)\n",
       "    (dropout): Dropout(p=0.5)\n",
       "  ),\n",
       "),\n",
       "       fit_params=None, iid='warn', n_jobs=None,\n",
       "       param_grid={'optimizer': [<class 'torch.optim.rmsprop.RMSprop'>, <class 'torch.optim.adam.Adam'>], 'module__residual': [True, False], 'module__p_dropout': [0, 0.5], 'module__n_layer': [1, 2], 'optimizer__weight_decay': [0, 0.0001], 'optimizer__lr': [0.02, 0.002, 0.0002], 'module__n_hidden': [5, 10, 20, 40]},\n",
       "       pre_dispatch='2*n_jobs', refit=True, return_train_score='warn',\n",
       "       scoring='accuracy', verbose=0)"
      ]
     },
     "execution_count": 66,
     "metadata": {},
     "output_type": "execute_result"
    }
   ],
   "source": [
    "%%time\n",
    "gs.fit(SliceDict(**X_train), y_train);"
   ]
  },
  {
   "cell_type": "code",
   "execution_count": null,
   "metadata": {},
   "outputs": [],
   "source": []
  },
  {
   "cell_type": "code",
   "execution_count": 74,
   "metadata": {},
   "outputs": [],
   "source": [
    "import pandas as pd\n",
    "results = pd.DataFrame(gs.cv_results_)"
   ]
  },
  {
   "cell_type": "code",
   "execution_count": 77,
   "metadata": {},
   "outputs": [
    {
     "data": {
      "text/html": [
       "<div>\n",
       "<style scoped>\n",
       "    .dataframe tbody tr th:only-of-type {\n",
       "        vertical-align: middle;\n",
       "    }\n",
       "\n",
       "    .dataframe tbody tr th {\n",
       "        vertical-align: top;\n",
       "    }\n",
       "\n",
       "    .dataframe thead th {\n",
       "        text-align: right;\n",
       "    }\n",
       "</style>\n",
       "<table border=\"1\" class=\"dataframe\">\n",
       "  <thead>\n",
       "    <tr style=\"text-align: right;\">\n",
       "      <th></th>\n",
       "      <th>mean_fit_time</th>\n",
       "      <th>mean_score_time</th>\n",
       "      <th>mean_test_score</th>\n",
       "      <th>mean_train_score</th>\n",
       "      <th>param_module__n_hidden</th>\n",
       "      <th>param_module__n_layer</th>\n",
       "      <th>param_module__p_dropout</th>\n",
       "      <th>param_module__residual</th>\n",
       "      <th>param_optimizer</th>\n",
       "      <th>param_optimizer__lr</th>\n",
       "      <th>...</th>\n",
       "      <th>split0_test_score</th>\n",
       "      <th>split0_train_score</th>\n",
       "      <th>split1_test_score</th>\n",
       "      <th>split1_train_score</th>\n",
       "      <th>split2_test_score</th>\n",
       "      <th>split2_train_score</th>\n",
       "      <th>std_fit_time</th>\n",
       "      <th>std_score_time</th>\n",
       "      <th>std_test_score</th>\n",
       "      <th>std_train_score</th>\n",
       "    </tr>\n",
       "  </thead>\n",
       "  <tbody>\n",
       "    <tr>\n",
       "      <th>155</th>\n",
       "      <td>17.536851</td>\n",
       "      <td>0.182521</td>\n",
       "      <td>0.138728</td>\n",
       "      <td>0.673163</td>\n",
       "      <td>10</td>\n",
       "      <td>2</td>\n",
       "      <td>0</td>\n",
       "      <td>True</td>\n",
       "      <td>&lt;class 'torch.optim.adam.Adam'&gt;</td>\n",
       "      <td>0.0002</td>\n",
       "      <td>...</td>\n",
       "      <td>0.0</td>\n",
       "      <td>0.73913</td>\n",
       "      <td>0.413793</td>\n",
       "      <td>0.521739</td>\n",
       "      <td>0.000000</td>\n",
       "      <td>0.758621</td>\n",
       "      <td>0.122688</td>\n",
       "      <td>0.009504</td>\n",
       "      <td>0.195344</td>\n",
       "      <td>0.107368</td>\n",
       "    </tr>\n",
       "    <tr>\n",
       "      <th>41</th>\n",
       "      <td>16.155941</td>\n",
       "      <td>0.184054</td>\n",
       "      <td>0.144509</td>\n",
       "      <td>0.678961</td>\n",
       "      <td>5</td>\n",
       "      <td>1</td>\n",
       "      <td>0.5</td>\n",
       "      <td>False</td>\n",
       "      <td>&lt;class 'torch.optim.rmsprop.RMSprop'&gt;</td>\n",
       "      <td>0.0002</td>\n",
       "      <td>...</td>\n",
       "      <td>0.0</td>\n",
       "      <td>0.73913</td>\n",
       "      <td>0.431034</td>\n",
       "      <td>0.539130</td>\n",
       "      <td>0.000000</td>\n",
       "      <td>0.758621</td>\n",
       "      <td>0.104287</td>\n",
       "      <td>0.016025</td>\n",
       "      <td>0.203483</td>\n",
       "      <td>0.099194</td>\n",
       "    </tr>\n",
       "    <tr>\n",
       "      <th>92</th>\n",
       "      <td>17.130797</td>\n",
       "      <td>0.180400</td>\n",
       "      <td>0.144509</td>\n",
       "      <td>0.664493</td>\n",
       "      <td>5</td>\n",
       "      <td>2</td>\n",
       "      <td>0.5</td>\n",
       "      <td>False</td>\n",
       "      <td>&lt;class 'torch.optim.adam.Adam'&gt;</td>\n",
       "      <td>0.002</td>\n",
       "      <td>...</td>\n",
       "      <td>0.0</td>\n",
       "      <td>0.73913</td>\n",
       "      <td>0.431034</td>\n",
       "      <td>0.504348</td>\n",
       "      <td>0.000000</td>\n",
       "      <td>0.750000</td>\n",
       "      <td>0.273316</td>\n",
       "      <td>0.006085</td>\n",
       "      <td>0.203483</td>\n",
       "      <td>0.113326</td>\n",
       "    </tr>\n",
       "    <tr>\n",
       "      <th>232</th>\n",
       "      <td>16.109684</td>\n",
       "      <td>0.184262</td>\n",
       "      <td>0.156069</td>\n",
       "      <td>0.670315</td>\n",
       "      <td>20</td>\n",
       "      <td>1</td>\n",
       "      <td>0.5</td>\n",
       "      <td>False</td>\n",
       "      <td>&lt;class 'torch.optim.rmsprop.RMSprop'&gt;</td>\n",
       "      <td>0.0002</td>\n",
       "      <td>...</td>\n",
       "      <td>0.0</td>\n",
       "      <td>0.73913</td>\n",
       "      <td>0.448276</td>\n",
       "      <td>0.530435</td>\n",
       "      <td>0.017544</td>\n",
       "      <td>0.741379</td>\n",
       "      <td>0.183906</td>\n",
       "      <td>0.011124</td>\n",
       "      <td>0.207641</td>\n",
       "      <td>0.098914</td>\n",
       "    </tr>\n",
       "    <tr>\n",
       "      <th>58</th>\n",
       "      <td>17.600718</td>\n",
       "      <td>0.193797</td>\n",
       "      <td>0.156069</td>\n",
       "      <td>0.676037</td>\n",
       "      <td>5</td>\n",
       "      <td>2</td>\n",
       "      <td>0</td>\n",
       "      <td>True</td>\n",
       "      <td>&lt;class 'torch.optim.adam.Adam'&gt;</td>\n",
       "      <td>0.0002</td>\n",
       "      <td>...</td>\n",
       "      <td>0.0</td>\n",
       "      <td>0.73913</td>\n",
       "      <td>0.448276</td>\n",
       "      <td>0.521739</td>\n",
       "      <td>0.017544</td>\n",
       "      <td>0.767241</td>\n",
       "      <td>0.216381</td>\n",
       "      <td>0.021920</td>\n",
       "      <td>0.207641</td>\n",
       "      <td>0.109707</td>\n",
       "    </tr>\n",
       "    <tr>\n",
       "      <th>37</th>\n",
       "      <td>16.238465</td>\n",
       "      <td>0.178773</td>\n",
       "      <td>0.161850</td>\n",
       "      <td>0.664468</td>\n",
       "      <td>5</td>\n",
       "      <td>1</td>\n",
       "      <td>0.5</td>\n",
       "      <td>False</td>\n",
       "      <td>&lt;class 'torch.optim.rmsprop.RMSprop'&gt;</td>\n",
       "      <td>0.02</td>\n",
       "      <td>...</td>\n",
       "      <td>0.0</td>\n",
       "      <td>0.73913</td>\n",
       "      <td>0.482759</td>\n",
       "      <td>0.495652</td>\n",
       "      <td>0.000000</td>\n",
       "      <td>0.758621</td>\n",
       "      <td>0.149178</td>\n",
       "      <td>0.005524</td>\n",
       "      <td>0.227901</td>\n",
       "      <td>0.119636</td>\n",
       "    </tr>\n",
       "    <tr>\n",
       "      <th>169</th>\n",
       "      <td>18.049926</td>\n",
       "      <td>0.194965</td>\n",
       "      <td>0.161850</td>\n",
       "      <td>0.664468</td>\n",
       "      <td>10</td>\n",
       "      <td>2</td>\n",
       "      <td>0.5</td>\n",
       "      <td>True</td>\n",
       "      <td>&lt;class 'torch.optim.rmsprop.RMSprop'&gt;</td>\n",
       "      <td>0.02</td>\n",
       "      <td>...</td>\n",
       "      <td>0.0</td>\n",
       "      <td>0.73913</td>\n",
       "      <td>0.482759</td>\n",
       "      <td>0.495652</td>\n",
       "      <td>0.000000</td>\n",
       "      <td>0.758621</td>\n",
       "      <td>0.333862</td>\n",
       "      <td>0.013752</td>\n",
       "      <td>0.227901</td>\n",
       "      <td>0.119636</td>\n",
       "    </tr>\n",
       "    <tr>\n",
       "      <th>45</th>\n",
       "      <td>16.319578</td>\n",
       "      <td>0.183361</td>\n",
       "      <td>0.161850</td>\n",
       "      <td>0.664468</td>\n",
       "      <td>5</td>\n",
       "      <td>1</td>\n",
       "      <td>0.5</td>\n",
       "      <td>False</td>\n",
       "      <td>&lt;class 'torch.optim.adam.Adam'&gt;</td>\n",
       "      <td>0.002</td>\n",
       "      <td>...</td>\n",
       "      <td>0.0</td>\n",
       "      <td>0.73913</td>\n",
       "      <td>0.482759</td>\n",
       "      <td>0.495652</td>\n",
       "      <td>0.000000</td>\n",
       "      <td>0.758621</td>\n",
       "      <td>0.103392</td>\n",
       "      <td>0.009492</td>\n",
       "      <td>0.227901</td>\n",
       "      <td>0.119636</td>\n",
       "    </tr>\n",
       "    <tr>\n",
       "      <th>280</th>\n",
       "      <td>16.964788</td>\n",
       "      <td>0.196066</td>\n",
       "      <td>0.161850</td>\n",
       "      <td>0.661594</td>\n",
       "      <td>20</td>\n",
       "      <td>2</td>\n",
       "      <td>0.5</td>\n",
       "      <td>False</td>\n",
       "      <td>&lt;class 'torch.optim.rmsprop.RMSprop'&gt;</td>\n",
       "      <td>0.0002</td>\n",
       "      <td>...</td>\n",
       "      <td>0.0</td>\n",
       "      <td>0.73913</td>\n",
       "      <td>0.482759</td>\n",
       "      <td>0.495652</td>\n",
       "      <td>0.000000</td>\n",
       "      <td>0.750000</td>\n",
       "      <td>0.241696</td>\n",
       "      <td>0.018208</td>\n",
       "      <td>0.227901</td>\n",
       "      <td>0.117423</td>\n",
       "    </tr>\n",
       "    <tr>\n",
       "      <th>281</th>\n",
       "      <td>17.147984</td>\n",
       "      <td>0.186713</td>\n",
       "      <td>0.161850</td>\n",
       "      <td>0.664468</td>\n",
       "      <td>20</td>\n",
       "      <td>2</td>\n",
       "      <td>0.5</td>\n",
       "      <td>False</td>\n",
       "      <td>&lt;class 'torch.optim.rmsprop.RMSprop'&gt;</td>\n",
       "      <td>0.0002</td>\n",
       "      <td>...</td>\n",
       "      <td>0.0</td>\n",
       "      <td>0.73913</td>\n",
       "      <td>0.482759</td>\n",
       "      <td>0.495652</td>\n",
       "      <td>0.000000</td>\n",
       "      <td>0.758621</td>\n",
       "      <td>0.129971</td>\n",
       "      <td>0.017353</td>\n",
       "      <td>0.227901</td>\n",
       "      <td>0.119636</td>\n",
       "    </tr>\n",
       "  </tbody>\n",
       "</table>\n",
       "<p>10 rows × 23 columns</p>\n",
       "</div>"
      ],
      "text/plain": [
       "     mean_fit_time  mean_score_time  mean_test_score  mean_train_score  \\\n",
       "155      17.536851         0.182521         0.138728          0.673163   \n",
       "41       16.155941         0.184054         0.144509          0.678961   \n",
       "92       17.130797         0.180400         0.144509          0.664493   \n",
       "232      16.109684         0.184262         0.156069          0.670315   \n",
       "58       17.600718         0.193797         0.156069          0.676037   \n",
       "37       16.238465         0.178773         0.161850          0.664468   \n",
       "169      18.049926         0.194965         0.161850          0.664468   \n",
       "45       16.319578         0.183361         0.161850          0.664468   \n",
       "280      16.964788         0.196066         0.161850          0.661594   \n",
       "281      17.147984         0.186713         0.161850          0.664468   \n",
       "\n",
       "    param_module__n_hidden param_module__n_layer param_module__p_dropout  \\\n",
       "155                     10                     2                       0   \n",
       "41                       5                     1                     0.5   \n",
       "92                       5                     2                     0.5   \n",
       "232                     20                     1                     0.5   \n",
       "58                       5                     2                       0   \n",
       "37                       5                     1                     0.5   \n",
       "169                     10                     2                     0.5   \n",
       "45                       5                     1                     0.5   \n",
       "280                     20                     2                     0.5   \n",
       "281                     20                     2                     0.5   \n",
       "\n",
       "    param_module__residual                        param_optimizer  \\\n",
       "155                   True        <class 'torch.optim.adam.Adam'>   \n",
       "41                   False  <class 'torch.optim.rmsprop.RMSprop'>   \n",
       "92                   False        <class 'torch.optim.adam.Adam'>   \n",
       "232                  False  <class 'torch.optim.rmsprop.RMSprop'>   \n",
       "58                    True        <class 'torch.optim.adam.Adam'>   \n",
       "37                   False  <class 'torch.optim.rmsprop.RMSprop'>   \n",
       "169                   True  <class 'torch.optim.rmsprop.RMSprop'>   \n",
       "45                   False        <class 'torch.optim.adam.Adam'>   \n",
       "280                  False  <class 'torch.optim.rmsprop.RMSprop'>   \n",
       "281                  False  <class 'torch.optim.rmsprop.RMSprop'>   \n",
       "\n",
       "    param_optimizer__lr       ...        split0_test_score split0_train_score  \\\n",
       "155              0.0002       ...                      0.0            0.73913   \n",
       "41               0.0002       ...                      0.0            0.73913   \n",
       "92                0.002       ...                      0.0            0.73913   \n",
       "232              0.0002       ...                      0.0            0.73913   \n",
       "58               0.0002       ...                      0.0            0.73913   \n",
       "37                 0.02       ...                      0.0            0.73913   \n",
       "169                0.02       ...                      0.0            0.73913   \n",
       "45                0.002       ...                      0.0            0.73913   \n",
       "280              0.0002       ...                      0.0            0.73913   \n",
       "281              0.0002       ...                      0.0            0.73913   \n",
       "\n",
       "     split1_test_score  split1_train_score  split2_test_score  \\\n",
       "155           0.413793            0.521739           0.000000   \n",
       "41            0.431034            0.539130           0.000000   \n",
       "92            0.431034            0.504348           0.000000   \n",
       "232           0.448276            0.530435           0.017544   \n",
       "58            0.448276            0.521739           0.017544   \n",
       "37            0.482759            0.495652           0.000000   \n",
       "169           0.482759            0.495652           0.000000   \n",
       "45            0.482759            0.495652           0.000000   \n",
       "280           0.482759            0.495652           0.000000   \n",
       "281           0.482759            0.495652           0.000000   \n",
       "\n",
       "     split2_train_score  std_fit_time  std_score_time  std_test_score  \\\n",
       "155            0.758621      0.122688        0.009504        0.195344   \n",
       "41             0.758621      0.104287        0.016025        0.203483   \n",
       "92             0.750000      0.273316        0.006085        0.203483   \n",
       "232            0.741379      0.183906        0.011124        0.207641   \n",
       "58             0.767241      0.216381        0.021920        0.207641   \n",
       "37             0.758621      0.149178        0.005524        0.227901   \n",
       "169            0.758621      0.333862        0.013752        0.227901   \n",
       "45             0.758621      0.103392        0.009492        0.227901   \n",
       "280            0.750000      0.241696        0.018208        0.227901   \n",
       "281            0.758621      0.129971        0.017353        0.227901   \n",
       "\n",
       "     std_train_score  \n",
       "155         0.107368  \n",
       "41          0.099194  \n",
       "92          0.113326  \n",
       "232         0.098914  \n",
       "58          0.109707  \n",
       "37          0.119636  \n",
       "169         0.119636  \n",
       "45          0.119636  \n",
       "280         0.117423  \n",
       "281         0.119636  \n",
       "\n",
       "[10 rows x 23 columns]"
      ]
     },
     "execution_count": 77,
     "metadata": {},
     "output_type": "execute_result"
    }
   ],
   "source": [
    "results.sort_values(by='mean_test_score').head(10)"
   ]
  },
  {
   "cell_type": "code",
   "execution_count": null,
   "metadata": {},
   "outputs": [],
   "source": []
  },
  {
   "cell_type": "code",
   "execution_count": 67,
   "metadata": {},
   "outputs": [
    {
     "name": "stdout",
     "output_type": "stream",
     "text": [
      "Re-initializing module because the following parameters were re-set: n_hidden, n_layer, p_dropout, residual.\n",
      "Re-initializing optimizer because the following parameters were re-set: lr.\n"
     ]
    }
   ],
   "source": [
    "net.set_params(verbose=True, **gs.best_params_);"
   ]
  },
  {
   "cell_type": "code",
   "execution_count": 68,
   "metadata": {},
   "outputs": [
    {
     "name": "stdout",
     "output_type": "stream",
     "text": [
      "Re-initializing module because the following parameters were re-set: n_hidden, n_layer, p_dropout, residual.\n",
      "Re-initializing optimizer because the following parameters were re-set: lr, weight_decay.\n",
      "  epoch    train_loss    valid_acc    valid_loss    cp     dur\n",
      "-------  ------------  -----------  ------------  ----  ------\n",
      "      1        \u001b[36m0.9350\u001b[0m       \u001b[32m0.5143\u001b[0m        \u001b[35m0.7613\u001b[0m     +  0.5739\n",
      "      2        \u001b[36m0.7826\u001b[0m       0.5143        \u001b[35m0.7609\u001b[0m        0.5689\n",
      "      3        0.7887       0.5143        \u001b[35m0.7599\u001b[0m        0.5877\n",
      "      4        0.8040       0.5143        \u001b[35m0.7494\u001b[0m        0.6058\n",
      "      5        0.8975       0.5143        \u001b[35m0.7483\u001b[0m        0.5984\n",
      "      6        0.8115       0.5143        \u001b[35m0.7380\u001b[0m        0.5842\n",
      "      7        0.8591       0.5143        0.7448        0.6227\n",
      "      8        0.8148       0.5143        0.7434        0.6281\n",
      "      9        0.9639       0.5143        0.7423        0.5985\n",
      "     10        \u001b[36m0.7615\u001b[0m       0.5143        0.7411        0.6302\n",
      "     11        0.8135       0.5143        0.7398        0.5845\n",
      "     12        0.8677       0.5143        0.7386        0.6034\n",
      "     13        0.8457       0.5143        0.7398        0.6654\n",
      "     14        0.7666       0.5143        0.7487        0.5913\n",
      "     15        0.8841       0.5143        0.7480        0.5715\n",
      "     16        0.8334       0.5143        0.7435        0.6635\n",
      "     17        0.8707       0.5143        0.7425        0.5903\n",
      "     18        0.7964       0.5143        0.7417        0.5697\n",
      "     19        0.8273       0.5143        0.7410        0.6663\n",
      "     20        0.8862       0.5143        0.7404        0.5893\n",
      "     21        0.8523       0.5143        0.7396        0.5693\n",
      "     22        0.7988       0.5143        0.7389        0.6300\n",
      "     23        \u001b[36m0.7615\u001b[0m       0.5143        0.7382        0.5949\n",
      "     24        0.7931       0.5143        \u001b[35m0.7376\u001b[0m        0.6096\n",
      "     25        0.8164       0.5143        0.7421        0.5995\n",
      "     26        0.7817       0.4857        0.7504        0.6662\n",
      "     27        0.8437       0.4857        0.7497        0.5880\n",
      "     28        0.8310       0.4857        0.7524        0.5676\n",
      "     29        0.8310       0.4857        0.7519        0.6673\n",
      "     30        \u001b[36m0.7591\u001b[0m       0.4857        0.7513        0.5896\n",
      "     31        0.8938       0.4857        0.7501        0.5685\n",
      "     32        0.7800       0.4857        0.7551        0.6324\n",
      "     33        0.8114       0.4857        0.7546        0.5925\n",
      "     34        0.7864       0.4857        0.7541        0.6083\n",
      "     35        0.8703       0.4857        0.7519        0.6469\n",
      "     36        0.8338       0.4857        0.7516        0.5671\n",
      "     37        0.7888       0.4857        0.7522        0.6111\n",
      "     38        0.8148       0.4857        0.7520        0.6476\n",
      "     39        0.8493       0.4857        0.7518        0.5678\n",
      "     40        0.8106       0.4857        0.7525        0.6005\n"
     ]
    }
   ],
   "source": [
    "net.fit(X_train, y_train);"
   ]
  },
  {
   "cell_type": "code",
   "execution_count": null,
   "metadata": {},
   "outputs": [],
   "source": []
  },
  {
   "cell_type": "code",
   "execution_count": 69,
   "metadata": {},
   "outputs": [
    {
     "data": {
      "text/plain": [
       "0.5227272727272727"
      ]
     },
     "execution_count": 69,
     "metadata": {},
     "output_type": "execute_result"
    }
   ],
   "source": [
    "accuracy_score(y_test, net.predict(X_test))"
   ]
  },
  {
   "cell_type": "code",
   "execution_count": null,
   "metadata": {},
   "outputs": [],
   "source": []
  }
 ],
 "metadata": {
  "kernelspec": {
   "display_name": "Python 3",
   "language": "python",
   "name": "python3"
  },
  "language_info": {
   "codemirror_mode": {
    "name": "ipython",
    "version": 3
   },
   "file_extension": ".py",
   "mimetype": "text/x-python",
   "name": "python",
   "nbconvert_exporter": "python",
   "pygments_lexer": "ipython3",
   "version": "3.5.2"
  }
 },
 "nbformat": 4,
 "nbformat_minor": 2
}
