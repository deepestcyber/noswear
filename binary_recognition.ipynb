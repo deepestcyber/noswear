{
 "cells": [
  {
   "cell_type": "code",
   "execution_count": 226,
   "metadata": {},
   "outputs": [],
   "source": [
    "%matplotlib inline\n",
    "from matplotlib import pyplot as plt\n",
    "import torch\n",
    "import skorch\n",
    "from skorch.helper import predefined_split\n",
    "from skorch.dataset import Dataset"
   ]
  },
  {
   "cell_type": "code",
   "execution_count": 198,
   "metadata": {},
   "outputs": [],
   "source": [
    "from functools import partial"
   ]
  },
  {
   "cell_type": "code",
   "execution_count": 199,
   "metadata": {},
   "outputs": [],
   "source": [
    "import numpy as np"
   ]
  },
  {
   "cell_type": "code",
   "execution_count": 200,
   "metadata": {},
   "outputs": [],
   "source": [
    "from sklearn.model_selection import StratifiedKFold\n",
    "from sklearn.metrics import accuracy_score"
   ]
  },
  {
   "cell_type": "code",
   "execution_count": 201,
   "metadata": {},
   "outputs": [],
   "source": [
    "from deepspeech.model import DeepSpeech\n",
    "from deepspeech.model import SequenceWise\n",
    "from deepspeech.data.data_loader import SpectrogramParser\n",
    "from deepspeech.data.data_loader import BucketingSampler"
   ]
  },
  {
   "cell_type": "code",
   "execution_count": 202,
   "metadata": {},
   "outputs": [],
   "source": [
    "from data import dataset\n",
    "from utils import RNNValueExtractor\n",
    "from utils import Identity\n",
    "from utils import bucketing_dataloader\n",
    "from utils import filter_low_count_words\n",
    "from layers import ResidualRNN"
   ]
  },
  {
   "cell_type": "code",
   "execution_count": null,
   "metadata": {},
   "outputs": [],
   "source": []
  },
  {
   "cell_type": "code",
   "execution_count": 203,
   "metadata": {},
   "outputs": [],
   "source": [
    "base_model = DeepSpeech.load_model(\n",
    "    'models/librispeech_pretrained.pth'\n",
    ")\n",
    "audio_conf = DeepSpeech.get_audio_conf(base_model)\n",
    "parser = SpectrogramParser(audio_conf)"
   ]
  },
  {
   "cell_type": "code",
   "execution_count": 204,
   "metadata": {},
   "outputs": [],
   "source": [
    "ds_swear = dataset.SwearDataset(dataset.DEFAULT_PROVIDERS)"
   ]
  },
  {
   "cell_type": "code",
   "execution_count": 205,
   "metadata": {},
   "outputs": [],
   "source": [
    "X_swear, y_swear = ds_swear.load()"
   ]
  },
  {
   "cell_type": "code",
   "execution_count": 206,
   "metadata": {},
   "outputs": [],
   "source": [
    "ds = dataset.SwearBinaryAudioDataset(X_swear, y_swear, parser)"
   ]
  },
  {
   "cell_type": "code",
   "execution_count": 207,
   "metadata": {},
   "outputs": [],
   "source": [
    "X, y = ds.load()"
   ]
  },
  {
   "cell_type": "code",
   "execution_count": null,
   "metadata": {},
   "outputs": [],
   "source": []
  },
  {
   "cell_type": "code",
   "execution_count": 208,
   "metadata": {},
   "outputs": [
    {
     "data": {
      "text/plain": [
       "(663, 233.85714285714286, 173.0)"
      ]
     },
     "execution_count": 208,
     "metadata": {},
     "output_type": "execute_result"
    }
   ],
   "source": [
    "seq_lens = np.array([x.shape[1] for x in X])\n",
    "max_seq_len = max(seq_lens)\n",
    "max_seq_len, np.mean(seq_lens), np.median(seq_lens)"
   ]
  },
  {
   "cell_type": "code",
   "execution_count": 209,
   "metadata": {},
   "outputs": [],
   "source": [
    "X_pad = np.zeros(\n",
    "    (len(X), X[0].shape[0], max_seq_len), \n",
    "    dtype='float32'\n",
    ")\n",
    "for i, _ in enumerate(X):\n",
    "    X_pad[i, :, :seq_lens[i]] = X[i]\n",
    "    \n",
    "y = np.array(y)"
   ]
  },
  {
   "cell_type": "markdown",
   "metadata": {},
   "source": [
    "Filter low count words"
   ]
  },
  {
   "cell_type": "code",
   "execution_count": 210,
   "metadata": {},
   "outputs": [],
   "source": [
    "idcs = filter_low_count_words(X_swear, min_count=4)\n",
    "X_pad = X_pad[idcs]\n",
    "y = y[idcs]"
   ]
  },
  {
   "cell_type": "code",
   "execution_count": null,
   "metadata": {},
   "outputs": [],
   "source": []
  },
  {
   "cell_type": "code",
   "execution_count": 211,
   "metadata": {},
   "outputs": [],
   "source": [
    "split = StratifiedKFold(n_splits=5, shuffle=True, random_state=0)"
   ]
  },
  {
   "cell_type": "code",
   "execution_count": 212,
   "metadata": {},
   "outputs": [
    {
     "name": "stderr",
     "output_type": "stream",
     "text": [
      "/data/tietz/envs/noswear/lib/python3.5/site-packages/sklearn/model_selection/_split.py:652: Warning: The least populated class in y has only 4 members, which is too few. The minimum number of members in any class cannot be less than n_splits=5.\n",
      "  % (min_groups, self.n_splits)), Warning)\n"
     ]
    }
   ],
   "source": [
    "# use word as class for stratified split to make sure that train/test\n",
    "# set both contain examples of the all words.\n",
    "y_word = np.array([n[0] for n in X_swear])[idcs]\n",
    "train_idcs_proto, test_idcs = next(split.split(y, y=y_word))"
   ]
  },
  {
   "cell_type": "code",
   "execution_count": 213,
   "metadata": {},
   "outputs": [
    {
     "name": "stderr",
     "output_type": "stream",
     "text": [
      "/data/tietz/envs/noswear/lib/python3.5/site-packages/sklearn/model_selection/_split.py:652: Warning: The least populated class in y has only 3 members, which is too few. The minimum number of members in any class cannot be less than n_splits=5.\n",
      "  % (min_groups, self.n_splits)), Warning)\n"
     ]
    }
   ],
   "source": [
    "train_idcs, valid_idcs = next(split.split(y[train_idcs_proto], y=y_word[train_idcs_proto]))"
   ]
  },
  {
   "cell_type": "code",
   "execution_count": 214,
   "metadata": {},
   "outputs": [],
   "source": [
    "train_idcs = train_idcs_proto[train_idcs]\n",
    "valid_idcs = train_idcs_proto[valid_idcs]"
   ]
  },
  {
   "cell_type": "code",
   "execution_count": null,
   "metadata": {},
   "outputs": [],
   "source": []
  },
  {
   "cell_type": "code",
   "execution_count": 215,
   "metadata": {},
   "outputs": [
    {
     "data": {
      "image/png": "[encoded data removed]",
      "text/plain": [
       "<Figure size 432x288 with 3 Axes>"
      ]
     },
     "metadata": {
      "needs_background": "light"
     },
     "output_type": "display_data"
    }
   ],
   "source": [
    "plt.subplot(311)\n",
    "plt.title('\"class\" balance between train/test\\ntrain')\n",
    "plt.hist(y_word[train_idcs]);\n",
    "plt.subplot(312)\n",
    "plt.title('valid')\n",
    "plt.hist(y_word[valid_idcs]);\n",
    "plt.subplot(313)\n",
    "plt.title('test')\n",
    "plt.hist(y_word[test_idcs]);"
   ]
  },
  {
   "cell_type": "code",
   "execution_count": null,
   "metadata": {},
   "outputs": [],
   "source": []
  },
  {
   "cell_type": "code",
   "execution_count": 216,
   "metadata": {},
   "outputs": [],
   "source": [
    "X_train = {'lens': seq_lens[train_idcs], 'X': X_pad[train_idcs]}\n",
    "y_train = np.array(y)[train_idcs]\n",
    "\n",
    "X_valid = {'lens': seq_lens[valid_idcs], 'X': X_pad[valid_idcs]}\n",
    "y_valid = np.array(y)[valid_idcs]\n",
    "\n",
    "X_test = {'lens': seq_lens[test_idcs], 'X': X_pad[test_idcs]}\n",
    "y_test = np.array(y)[test_idcs]"
   ]
  },
  {
   "cell_type": "code",
   "execution_count": 218,
   "metadata": {},
   "outputs": [
    {
     "data": {
      "text/plain": [
       "(123, 38, 49)"
      ]
     },
     "execution_count": 218,
     "metadata": {},
     "output_type": "execute_result"
    }
   ],
   "source": [
    "len(X_train['X']), len(X_valid['X']), len(X_test['X'])"
   ]
  },
  {
   "cell_type": "code",
   "execution_count": null,
   "metadata": {},
   "outputs": [],
   "source": []
  },
  {
   "cell_type": "code",
   "execution_count": 223,
   "metadata": {},
   "outputs": [],
   "source": [
    "class NoSwearModel(torch.nn.Module):\n",
    "    def __init__(\n",
    "        self, \n",
    "        base_model, \n",
    "        n_hidden=10, \n",
    "        n_layer=1,\n",
    "        p_dropout=0.2\n",
    "    ):\n",
    "        super().__init__()\n",
    "        self.base_model = base_model\n",
    "        self.base_model.rnns = Identity()\n",
    "        self.base_model.lookahead = Identity()\n",
    "        self.base_model.fc = Identity()\n",
    "        self.base_model.inference_softmax = Identity()\n",
    "        \n",
    "        self.rnn = torch.nn.Sequential(\n",
    "            torch.nn.GRU(672, n_hidden, num_layers=n_layer, bias=False, batch_first=True),\n",
    "            RNNValueExtractor(),\n",
    "        )\n",
    "\n",
    "        self.clf = torch.nn.Linear(n_hidden, 2, bias=False)\n",
    "        self.dropout = torch.nn.Dropout(p=p_dropout)\n",
    "        \n",
    "    def forward(self, X, lens):\n",
    "        # run base model, output is NxTxH with\n",
    "        # T=Time, N=samples, H=hidden.\n",
    "        y_pre = self.base_model(X)\n",
    "        y_pre = self.dropout(y_pre)\n",
    "        \n",
    "        # run RNN over sequence and extract last item\n",
    "        y = self.rnn(y_pre)\n",
    "        # presumably we cannot use lens since cnns reduce that too\n",
    "        #y = y[:, lens - 1]\n",
    "        #y = y[:, -1]\n",
    "        i = y.mean(-1).argmax(1)\n",
    "        y = y[torch.arange(len(y)), i]\n",
    "        \n",
    "        y = self.dropout(y)\n",
    "        \n",
    "        # run classifier\n",
    "        y = self.clf(y)\n",
    "        y = torch.softmax(y, dim=-1)\n",
    "        return y"
   ]
  },
  {
   "cell_type": "code",
   "execution_count": null,
   "metadata": {},
   "outputs": [],
   "source": []
  },
  {
   "cell_type": "code",
   "execution_count": 224,
   "metadata": {},
   "outputs": [],
   "source": [
    "def bucket(Xi, yi):\n",
    "    Xi['X'] = Xi['X'][:, :, :max(Xi['lens'])]\n",
    "    return Xi, yi"
   ]
  },
  {
   "cell_type": "code",
   "execution_count": 280,
   "metadata": {},
   "outputs": [],
   "source": [
    "torch.manual_seed(42)\n",
    "\n",
    "net = skorch.NeuralNetClassifier(\n",
    "    partial(NoSwearModel, base_model), \n",
    "    \n",
    "    iterator_train=bucketing_dataloader,\n",
    "    iterator_train__bucket_fn=bucket,\n",
    "    iterator_valid=bucketing_dataloader,\n",
    "    iterator_valid__bucket_fn=bucket,\n",
    "    \n",
    "    batch_size=64,\n",
    "    max_epochs=40,\n",
    "    device='cuda',\n",
    "    \n",
    "    train_split=predefined_split(Dataset(X_valid, y_valid)),\n",
    "    \n",
    "    module__p_dropout=0.2,\n",
    "    module__n_hidden=300,\n",
    "        \n",
    "    optimizer=torch.optim.Adam,\n",
    "    optimizer__lr=0.0004,\n",
    "    #optimizer__weight_decay=1e-4,\n",
    "    \n",
    "    callbacks=[\n",
    "        skorch.callbacks.Freezer('base_model.*'),\n",
    "        #skorch.callbacks.Checkpoint(monitor='valid_acc_best'),\n",
    "        #skorch.callbacks.TrainEndCheckpoint(),\n",
    "    ]\n",
    ")"
   ]
  },
  {
   "cell_type": "code",
   "execution_count": 245,
   "metadata": {
    "scrolled": false
   },
   "outputs": [
    {
     "name": "stdout",
     "output_type": "stream",
     "text": [
      "Automatic pdb calling has been turned ON\n",
      "  epoch    train_loss    valid_acc    valid_loss    cp     dur\n",
      "-------  ------------  -----------  ------------  ----  ------\n",
      "      1        \u001b[36m0.9890\u001b[0m       \u001b[32m0.5000\u001b[0m        \u001b[35m0.7355\u001b[0m     +  0.2529\n",
      "      2        \u001b[36m0.7623\u001b[0m       \u001b[32m0.5263\u001b[0m        \u001b[35m0.7023\u001b[0m     +  0.2549\n",
      "      3        \u001b[36m0.6927\u001b[0m       0.5263        0.7195        0.2552\n",
      "      4        \u001b[36m0.6722\u001b[0m       0.5000        0.7645        0.2544\n",
      "      5        0.7062       0.5000        0.7878        0.2545\n",
      "      6        0.6926       0.5000        0.7748        0.2544\n",
      "      7        0.6867       \u001b[32m0.5526\u001b[0m        0.7576     +  0.2532\n",
      "      8        0.7088       \u001b[32m0.6053\u001b[0m        0.7238     +  0.2532\n",
      "      9        0.7010       0.6053        \u001b[35m0.6981\u001b[0m        0.2520\n",
      "     10        \u001b[36m0.6377\u001b[0m       0.6053        \u001b[35m0.6762\u001b[0m        0.2544\n",
      "     11        0.6497       \u001b[32m0.6579\u001b[0m        \u001b[35m0.6661\u001b[0m     +  0.2544\n",
      "     12        \u001b[36m0.6116\u001b[0m       \u001b[32m0.6842\u001b[0m        \u001b[35m0.6583\u001b[0m     +  0.2566\n",
      "     13        0.6287       0.6579        0.6600        0.2538\n",
      "     14        0.6146       0.6842        \u001b[35m0.6498\u001b[0m        0.2566\n",
      "     15        \u001b[36m0.6050\u001b[0m       \u001b[32m0.7368\u001b[0m        \u001b[35m0.6474\u001b[0m     +  0.2547\n",
      "     16        \u001b[36m0.6039\u001b[0m       0.7368        \u001b[35m0.6413\u001b[0m        0.2547\n",
      "     17        \u001b[36m0.5903\u001b[0m       0.7105        \u001b[35m0.6262\u001b[0m        0.2576\n",
      "     18        0.6008       0.7105        0.6371        0.2554\n",
      "     19        \u001b[36m0.5825\u001b[0m       0.7105        0.6280        0.2570\n",
      "     20        0.5860       0.6316        0.6294        0.2568\n",
      "     21        \u001b[36m0.5652\u001b[0m       0.6316        \u001b[35m0.6245\u001b[0m        0.2555\n",
      "     22        0.5791       0.6316        \u001b[35m0.6210\u001b[0m        0.2552\n",
      "     23        \u001b[36m0.5503\u001b[0m       0.6316        \u001b[35m0.6172\u001b[0m        0.2571\n",
      "     24        \u001b[36m0.5421\u001b[0m       0.6316        \u001b[35m0.6117\u001b[0m        0.2583\n",
      "     25        \u001b[36m0.5076\u001b[0m       0.6316        \u001b[35m0.6074\u001b[0m        0.2577\n",
      "     26        0.5174       0.6316        \u001b[35m0.6019\u001b[0m        0.2571\n",
      "     27        \u001b[36m0.4986\u001b[0m       0.6316        0.6103        0.2572\n",
      "     28        \u001b[36m0.4809\u001b[0m       0.6316        0.6087        0.2566\n",
      "     29        0.4896       0.6053        0.6082        0.2570\n",
      "     30        \u001b[36m0.4793\u001b[0m       0.6053        0.6044        0.2567\n",
      "     31        \u001b[36m0.4193\u001b[0m       0.6579        0.6025        0.2555\n",
      "     32        0.4775       0.6842        \u001b[35m0.5956\u001b[0m        0.2577\n",
      "     33        \u001b[36m0.4169\u001b[0m       0.7105        0.6017        0.2572\n",
      "     34        0.4813       0.7368        \u001b[35m0.5388\u001b[0m        0.2568\n",
      "     35        \u001b[36m0.4067\u001b[0m       0.7368        \u001b[35m0.5317\u001b[0m        0.2565\n",
      "     36        0.4577       0.7105        \u001b[35m0.4955\u001b[0m        0.2550\n",
      "     37        \u001b[36m0.3511\u001b[0m       \u001b[32m0.7632\u001b[0m        \u001b[35m0.4950\u001b[0m     +  0.2545\n",
      "     38        0.3829       0.7368        \u001b[35m0.4917\u001b[0m        0.2588\n",
      "     39        0.3883       0.7368        \u001b[35m0.4683\u001b[0m        0.2583\n",
      "     40        0.3637       0.7368        \u001b[35m0.4635\u001b[0m        0.2578\n"
     ]
    },
    {
     "data": {
      "text/plain": [
       "<class 'skorch.classifier.NeuralNetClassifier'>[initialized](\n",
       "  module_=NoSwearModel(\n",
       "    (base_model): DeepSpeech(\n",
       "      (conv): Sequential(\n",
       "        (0): Conv2d(1, 32, kernel_size=(41, 11), stride=(2, 2), padding=(0, 10))\n",
       "        (1): BatchNorm2d(32, eps=1e-05, momentum=0.1, affine=True, track_running_stats=True)\n",
       "        (2): Hardtanh(min_val=0, max_val=20, inplace)\n",
       "        (3): Conv2d(32, 32, kernel_size=(21, 11), stride=(2, 1))\n",
       "        (4): BatchNorm2d(32, eps=1e-05, momentum=0.1, affine=True, track_running_stats=True)\n",
       "        (5): Hardtanh(min_val=0, max_val=20, inplace)\n",
       "      )\n",
       "      (rnns): Identity()\n",
       "      (fc): Identity()\n",
       "      (inference_softmax): Identity()\n",
       "      (lookahead): Identity()\n",
       "    )\n",
       "    (rnn): Sequential(\n",
       "      (0): GRU(672, 300, bias=False, batch_first=True)\n",
       "      (1): RNNValueExtractor()\n",
       "    )\n",
       "    (clf): Linear(in_features=300, out_features=2, bias=False)\n",
       "    (dropout): Dropout(p=0.2)\n",
       "  ),\n",
       ")"
      ]
     },
     "execution_count": 245,
     "metadata": {},
     "output_type": "execute_result"
    }
   ],
   "source": [
    "%pdb on\n",
    "net.fit(X_train, y_train)"
   ]
  },
  {
   "cell_type": "code",
   "execution_count": 249,
   "metadata": {},
   "outputs": [],
   "source": [
    "#net.load_params(checkpoint=dict(net.callbacks_)['Checkpoint'])\n",
    "#net.load_params(checkpoint=dict(net.callbacks_)['TrainEndCheckpoint'])"
   ]
  },
  {
   "cell_type": "code",
   "execution_count": 250,
   "metadata": {},
   "outputs": [
    {
     "data": {
      "text/plain": [
       "0.7142857142857143"
      ]
     },
     "execution_count": 250,
     "metadata": {},
     "output_type": "execute_result"
    }
   ],
   "source": [
    "accuracy_score(y_test, net.predict(X_test))"
   ]
  },
  {
   "cell_type": "code",
   "execution_count": null,
   "metadata": {},
   "outputs": [],
   "source": []
  },
  {
   "cell_type": "code",
   "execution_count": null,
   "metadata": {},
   "outputs": [],
   "source": []
  },
  {
   "cell_type": "code",
   "execution_count": null,
   "metadata": {},
   "outputs": [],
   "source": []
  },
  {
   "cell_type": "code",
   "execution_count": null,
   "metadata": {},
   "outputs": [],
   "source": []
  },
  {
   "cell_type": "code",
   "execution_count": 257,
   "metadata": {},
   "outputs": [],
   "source": [
    "from sklearn.model_selection import GridSearchCV\n",
    "from skorch.helper import SliceDict"
   ]
  },
  {
   "cell_type": "code",
   "execution_count": 258,
   "metadata": {},
   "outputs": [],
   "source": [
    "#net.initialize();\n",
    "net.set_params(verbose=False);"
   ]
  },
  {
   "cell_type": "code",
   "execution_count": 259,
   "metadata": {},
   "outputs": [],
   "source": [
    "params = {\n",
    "    'optimizer__lr': [0.02, 0.002, 0.0002],\n",
    "    'optimizer__weight_decay': [0, 1e-4],\n",
    "    'optimizer': [torch.optim.RMSprop, torch.optim.Adam],\n",
    "    'module__p_dropout': [0, 0.5],\n",
    "    'module__n_hidden': [10, 100, 200, 400],\n",
    "    'module__n_layer': [1, 2],\n",
    "}"
   ]
  },
  {
   "cell_type": "code",
   "execution_count": null,
   "metadata": {},
   "outputs": [],
   "source": [
    "cv = TODO"
   ]
  },
  {
   "cell_type": "code",
   "execution_count": 260,
   "metadata": {},
   "outputs": [],
   "source": [
    "gs = GridSearchCV(net, params, scoring='accuracy', cv=cv)"
   ]
  },
  {
   "cell_type": "code",
   "execution_count": null,
   "metadata": {
    "scrolled": false
   },
   "outputs": [],
   "source": [
    "%%time\n",
    "gs.fit(SliceDict(**X_train), y_train);"
   ]
  },
  {
   "cell_type": "code",
   "execution_count": null,
   "metadata": {},
   "outputs": [],
   "source": []
  },
  {
   "cell_type": "code",
   "execution_count": 264,
   "metadata": {},
   "outputs": [
    {
     "data": {
      "text/plain": [
       "GridSearchCV(cv='warn', error_score='raise-deprecating',\n",
       "       estimator=<class 'skorch.classifier.NeuralNetClassifier'>[uninitialized](\n",
       "  module=functools.partial(<class '__main__.NoSwearModel'>, DeepSpeech(\n",
       "    (conv): Sequential(\n",
       "      (0): Conv2d(1, 32, kernel_size=(41, 11), stride=(2, 2), padding=(0, 10))\n",
       "      (1): BatchNorm2d(32, eps=1e-05, momentum=0.1,...ax): Identity()\n",
       "    (lookahead): Identity()\n",
       "  )),\n",
       "  module__n_hidden=300,\n",
       "  module__p_dropout=0.2,\n",
       "),\n",
       "       fit_params=None, iid='warn', n_jobs=None,\n",
       "       param_grid={'optimizer__lr': [0.02, 0.002, 0.0002], 'module__n_layer': [1, 2], 'optimizer': [<class 'torch.optim.rmsprop.RMSprop'>, <class 'torch.optim.adam.Adam'>], 'optimizer__weight_decay': [0, 0.0001], 'module__n_hidden': [10, 100, 200, 400], 'module__p_dropout': [0, 0.5]},\n",
       "       pre_dispatch='2*n_jobs', refit=True, return_train_score='warn',\n",
       "       scoring='accuracy', verbose=0)"
      ]
     },
     "execution_count": 264,
     "metadata": {},
     "output_type": "execute_result"
    }
   ],
   "source": [
    "gs"
   ]
  },
  {
   "cell_type": "code",
   "execution_count": null,
   "metadata": {},
   "outputs": [],
   "source": []
  },
  {
   "cell_type": "code",
   "execution_count": 265,
   "metadata": {},
   "outputs": [],
   "source": [
    "import pandas as pd\n",
    "results = pd.DataFrame(gs.cv_results_)"
   ]
  },
  {
   "cell_type": "code",
   "execution_count": 282,
   "metadata": {},
   "outputs": [],
   "source": [
    "top_results = results.sort_values(by='mean_test_score').head(10)"
   ]
  },
  {
   "cell_type": "code",
   "execution_count": 283,
   "metadata": {},
   "outputs": [
    {
     "data": {
      "text/html": [
       "<div>\n",
       "<style scoped>\n",
       "    .dataframe tbody tr th:only-of-type {\n",
       "        vertical-align: middle;\n",
       "    }\n",
       "\n",
       "    .dataframe tbody tr th {\n",
       "        vertical-align: top;\n",
       "    }\n",
       "\n",
       "    .dataframe thead th {\n",
       "        text-align: right;\n",
       "    }\n",
       "</style>\n",
       "<table border=\"1\" class=\"dataframe\">\n",
       "  <thead>\n",
       "    <tr style=\"text-align: right;\">\n",
       "      <th></th>\n",
       "      <th>mean_fit_time</th>\n",
       "      <th>mean_score_time</th>\n",
       "      <th>mean_test_score</th>\n",
       "      <th>mean_train_score</th>\n",
       "      <th>param_module__n_hidden</th>\n",
       "      <th>param_module__n_layer</th>\n",
       "      <th>param_module__p_dropout</th>\n",
       "      <th>param_optimizer</th>\n",
       "      <th>param_optimizer__lr</th>\n",
       "      <th>param_optimizer__weight_decay</th>\n",
       "      <th>...</th>\n",
       "      <th>split0_test_score</th>\n",
       "      <th>split0_train_score</th>\n",
       "      <th>split1_test_score</th>\n",
       "      <th>split1_train_score</th>\n",
       "      <th>split2_test_score</th>\n",
       "      <th>split2_train_score</th>\n",
       "      <th>std_fit_time</th>\n",
       "      <th>std_score_time</th>\n",
       "      <th>std_test_score</th>\n",
       "      <th>std_train_score</th>\n",
       "    </tr>\n",
       "  </thead>\n",
       "  <tbody>\n",
       "    <tr>\n",
       "      <th>144</th>\n",
       "      <td>22.166183</td>\n",
       "      <td>0.159822</td>\n",
       "      <td>0.146341</td>\n",
       "      <td>0.666667</td>\n",
       "      <td>400</td>\n",
       "      <td>1</td>\n",
       "      <td>0</td>\n",
       "      <td>&lt;class 'torch.optim.rmsprop.RMSprop'&gt;</td>\n",
       "      <td>0.02</td>\n",
       "      <td>0</td>\n",
       "      <td>...</td>\n",
       "      <td>0.000000</td>\n",
       "      <td>0.780488</td>\n",
       "      <td>0.439024</td>\n",
       "      <td>0.500000</td>\n",
       "      <td>0.000000</td>\n",
       "      <td>0.719512</td>\n",
       "      <td>0.339894</td>\n",
       "      <td>0.017730</td>\n",
       "      <td>0.206958</td>\n",
       "      <td>0.120451</td>\n",
       "    </tr>\n",
       "    <tr>\n",
       "      <th>56</th>\n",
       "      <td>16.474293</td>\n",
       "      <td>0.131874</td>\n",
       "      <td>0.178862</td>\n",
       "      <td>0.898374</td>\n",
       "      <td>100</td>\n",
       "      <td>1</td>\n",
       "      <td>0</td>\n",
       "      <td>&lt;class 'torch.optim.adam.Adam'&gt;</td>\n",
       "      <td>0.002</td>\n",
       "      <td>0</td>\n",
       "      <td>...</td>\n",
       "      <td>0.000000</td>\n",
       "      <td>0.792683</td>\n",
       "      <td>0.414634</td>\n",
       "      <td>0.939024</td>\n",
       "      <td>0.121951</td>\n",
       "      <td>0.963415</td>\n",
       "      <td>0.112958</td>\n",
       "      <td>0.008257</td>\n",
       "      <td>0.173991</td>\n",
       "      <td>0.075395</td>\n",
       "    </tr>\n",
       "    <tr>\n",
       "      <th>97</th>\n",
       "      <td>18.050158</td>\n",
       "      <td>0.131793</td>\n",
       "      <td>0.203252</td>\n",
       "      <td>0.922764</td>\n",
       "      <td>200</td>\n",
       "      <td>1</td>\n",
       "      <td>0</td>\n",
       "      <td>&lt;class 'torch.optim.rmsprop.RMSprop'&gt;</td>\n",
       "      <td>0.02</td>\n",
       "      <td>0.0001</td>\n",
       "      <td>...</td>\n",
       "      <td>0.073171</td>\n",
       "      <td>0.975610</td>\n",
       "      <td>0.390244</td>\n",
       "      <td>0.841463</td>\n",
       "      <td>0.146341</td>\n",
       "      <td>0.951220</td>\n",
       "      <td>0.266049</td>\n",
       "      <td>0.002605</td>\n",
       "      <td>0.135556</td>\n",
       "      <td>0.058344</td>\n",
       "    </tr>\n",
       "    <tr>\n",
       "      <th>12</th>\n",
       "      <td>10.388777</td>\n",
       "      <td>0.089013</td>\n",
       "      <td>0.211382</td>\n",
       "      <td>0.703252</td>\n",
       "      <td>10</td>\n",
       "      <td>1</td>\n",
       "      <td>0.5</td>\n",
       "      <td>&lt;class 'torch.optim.rmsprop.RMSprop'&gt;</td>\n",
       "      <td>0.02</td>\n",
       "      <td>0</td>\n",
       "      <td>...</td>\n",
       "      <td>0.000000</td>\n",
       "      <td>0.780488</td>\n",
       "      <td>0.536585</td>\n",
       "      <td>0.487805</td>\n",
       "      <td>0.097561</td>\n",
       "      <td>0.841463</td>\n",
       "      <td>1.072718</td>\n",
       "      <td>0.012990</td>\n",
       "      <td>0.233377</td>\n",
       "      <td>0.154365</td>\n",
       "    </tr>\n",
       "    <tr>\n",
       "      <th>189</th>\n",
       "      <td>29.559384</td>\n",
       "      <td>0.185374</td>\n",
       "      <td>0.211382</td>\n",
       "      <td>0.865854</td>\n",
       "      <td>400</td>\n",
       "      <td>2</td>\n",
       "      <td>0.5</td>\n",
       "      <td>&lt;class 'torch.optim.adam.Adam'&gt;</td>\n",
       "      <td>0.002</td>\n",
       "      <td>0.0001</td>\n",
       "      <td>...</td>\n",
       "      <td>0.000000</td>\n",
       "      <td>0.792683</td>\n",
       "      <td>0.560976</td>\n",
       "      <td>0.804878</td>\n",
       "      <td>0.073171</td>\n",
       "      <td>1.000000</td>\n",
       "      <td>0.957089</td>\n",
       "      <td>0.010750</td>\n",
       "      <td>0.248998</td>\n",
       "      <td>0.094986</td>\n",
       "    </tr>\n",
       "    <tr>\n",
       "      <th>63</th>\n",
       "      <td>17.208370</td>\n",
       "      <td>0.147030</td>\n",
       "      <td>0.219512</td>\n",
       "      <td>0.861789</td>\n",
       "      <td>100</td>\n",
       "      <td>1</td>\n",
       "      <td>0.5</td>\n",
       "      <td>&lt;class 'torch.optim.rmsprop.RMSprop'&gt;</td>\n",
       "      <td>0.002</td>\n",
       "      <td>0.0001</td>\n",
       "      <td>...</td>\n",
       "      <td>0.000000</td>\n",
       "      <td>0.829268</td>\n",
       "      <td>0.487805</td>\n",
       "      <td>0.768293</td>\n",
       "      <td>0.170732</td>\n",
       "      <td>0.987805</td>\n",
       "      <td>0.424042</td>\n",
       "      <td>0.016235</td>\n",
       "      <td>0.202111</td>\n",
       "      <td>0.092519</td>\n",
       "    </tr>\n",
       "    <tr>\n",
       "      <th>101</th>\n",
       "      <td>18.502019</td>\n",
       "      <td>0.154078</td>\n",
       "      <td>0.219512</td>\n",
       "      <td>0.918699</td>\n",
       "      <td>200</td>\n",
       "      <td>1</td>\n",
       "      <td>0</td>\n",
       "      <td>&lt;class 'torch.optim.rmsprop.RMSprop'&gt;</td>\n",
       "      <td>0.0002</td>\n",
       "      <td>0.0001</td>\n",
       "      <td>...</td>\n",
       "      <td>0.097561</td>\n",
       "      <td>0.975610</td>\n",
       "      <td>0.512195</td>\n",
       "      <td>0.914634</td>\n",
       "      <td>0.048780</td>\n",
       "      <td>0.865854</td>\n",
       "      <td>0.414292</td>\n",
       "      <td>0.008792</td>\n",
       "      <td>0.207914</td>\n",
       "      <td>0.044900</td>\n",
       "    </tr>\n",
       "    <tr>\n",
       "      <th>55</th>\n",
       "      <td>16.482110</td>\n",
       "      <td>0.139156</td>\n",
       "      <td>0.219512</td>\n",
       "      <td>0.813008</td>\n",
       "      <td>100</td>\n",
       "      <td>1</td>\n",
       "      <td>0</td>\n",
       "      <td>&lt;class 'torch.optim.adam.Adam'&gt;</td>\n",
       "      <td>0.02</td>\n",
       "      <td>0.0001</td>\n",
       "      <td>...</td>\n",
       "      <td>0.121951</td>\n",
       "      <td>1.000000</td>\n",
       "      <td>0.487805</td>\n",
       "      <td>0.743902</td>\n",
       "      <td>0.048780</td>\n",
       "      <td>0.695122</td>\n",
       "      <td>0.092012</td>\n",
       "      <td>0.011236</td>\n",
       "      <td>0.192049</td>\n",
       "      <td>0.133715</td>\n",
       "    </tr>\n",
       "    <tr>\n",
       "      <th>79</th>\n",
       "      <td>17.353589</td>\n",
       "      <td>0.131291</td>\n",
       "      <td>0.219512</td>\n",
       "      <td>0.930894</td>\n",
       "      <td>100</td>\n",
       "      <td>2</td>\n",
       "      <td>0</td>\n",
       "      <td>&lt;class 'torch.optim.adam.Adam'&gt;</td>\n",
       "      <td>0.02</td>\n",
       "      <td>0.0001</td>\n",
       "      <td>...</td>\n",
       "      <td>0.048780</td>\n",
       "      <td>0.792683</td>\n",
       "      <td>0.439024</td>\n",
       "      <td>1.000000</td>\n",
       "      <td>0.170732</td>\n",
       "      <td>1.000000</td>\n",
       "      <td>0.599841</td>\n",
       "      <td>0.003257</td>\n",
       "      <td>0.163008</td>\n",
       "      <td>0.097730</td>\n",
       "    </tr>\n",
       "    <tr>\n",
       "      <th>26</th>\n",
       "      <td>16.399436</td>\n",
       "      <td>0.129530</td>\n",
       "      <td>0.227642</td>\n",
       "      <td>0.963415</td>\n",
       "      <td>10</td>\n",
       "      <td>2</td>\n",
       "      <td>0</td>\n",
       "      <td>&lt;class 'torch.optim.rmsprop.RMSprop'&gt;</td>\n",
       "      <td>0.002</td>\n",
       "      <td>0</td>\n",
       "      <td>...</td>\n",
       "      <td>0.024390</td>\n",
       "      <td>0.987805</td>\n",
       "      <td>0.390244</td>\n",
       "      <td>0.902439</td>\n",
       "      <td>0.268293</td>\n",
       "      <td>1.000000</td>\n",
       "      <td>0.167875</td>\n",
       "      <td>0.000289</td>\n",
       "      <td>0.152100</td>\n",
       "      <td>0.043403</td>\n",
       "    </tr>\n",
       "  </tbody>\n",
       "</table>\n",
       "<p>10 rows × 22 columns</p>\n",
       "</div>"
      ],
      "text/plain": [
       "     mean_fit_time  mean_score_time  mean_test_score  mean_train_score  \\\n",
       "144      22.166183         0.159822         0.146341          0.666667   \n",
       "56       16.474293         0.131874         0.178862          0.898374   \n",
       "97       18.050158         0.131793         0.203252          0.922764   \n",
       "12       10.388777         0.089013         0.211382          0.703252   \n",
       "189      29.559384         0.185374         0.211382          0.865854   \n",
       "63       17.208370         0.147030         0.219512          0.861789   \n",
       "101      18.502019         0.154078         0.219512          0.918699   \n",
       "55       16.482110         0.139156         0.219512          0.813008   \n",
       "79       17.353589         0.131291         0.219512          0.930894   \n",
       "26       16.399436         0.129530         0.227642          0.963415   \n",
       "\n",
       "    param_module__n_hidden param_module__n_layer param_module__p_dropout  \\\n",
       "144                    400                     1                       0   \n",
       "56                     100                     1                       0   \n",
       "97                     200                     1                       0   \n",
       "12                      10                     1                     0.5   \n",
       "189                    400                     2                     0.5   \n",
       "63                     100                     1                     0.5   \n",
       "101                    200                     1                       0   \n",
       "55                     100                     1                       0   \n",
       "79                     100                     2                       0   \n",
       "26                      10                     2                       0   \n",
       "\n",
       "                           param_optimizer param_optimizer__lr  \\\n",
       "144  <class 'torch.optim.rmsprop.RMSprop'>                0.02   \n",
       "56         <class 'torch.optim.adam.Adam'>               0.002   \n",
       "97   <class 'torch.optim.rmsprop.RMSprop'>                0.02   \n",
       "12   <class 'torch.optim.rmsprop.RMSprop'>                0.02   \n",
       "189        <class 'torch.optim.adam.Adam'>               0.002   \n",
       "63   <class 'torch.optim.rmsprop.RMSprop'>               0.002   \n",
       "101  <class 'torch.optim.rmsprop.RMSprop'>              0.0002   \n",
       "55         <class 'torch.optim.adam.Adam'>                0.02   \n",
       "79         <class 'torch.optim.adam.Adam'>                0.02   \n",
       "26   <class 'torch.optim.rmsprop.RMSprop'>               0.002   \n",
       "\n",
       "    param_optimizer__weight_decay       ...        split0_test_score  \\\n",
       "144                             0       ...                 0.000000   \n",
       "56                              0       ...                 0.000000   \n",
       "97                         0.0001       ...                 0.073171   \n",
       "12                              0       ...                 0.000000   \n",
       "189                        0.0001       ...                 0.000000   \n",
       "63                         0.0001       ...                 0.000000   \n",
       "101                        0.0001       ...                 0.097561   \n",
       "55                         0.0001       ...                 0.121951   \n",
       "79                         0.0001       ...                 0.048780   \n",
       "26                              0       ...                 0.024390   \n",
       "\n",
       "     split0_train_score  split1_test_score  split1_train_score  \\\n",
       "144            0.780488           0.439024            0.500000   \n",
       "56             0.792683           0.414634            0.939024   \n",
       "97             0.975610           0.390244            0.841463   \n",
       "12             0.780488           0.536585            0.487805   \n",
       "189            0.792683           0.560976            0.804878   \n",
       "63             0.829268           0.487805            0.768293   \n",
       "101            0.975610           0.512195            0.914634   \n",
       "55             1.000000           0.487805            0.743902   \n",
       "79             0.792683           0.439024            1.000000   \n",
       "26             0.987805           0.390244            0.902439   \n",
       "\n",
       "     split2_test_score  split2_train_score  std_fit_time  std_score_time  \\\n",
       "144           0.000000            0.719512      0.339894        0.017730   \n",
       "56            0.121951            0.963415      0.112958        0.008257   \n",
       "97            0.146341            0.951220      0.266049        0.002605   \n",
       "12            0.097561            0.841463      1.072718        0.012990   \n",
       "189           0.073171            1.000000      0.957089        0.010750   \n",
       "63            0.170732            0.987805      0.424042        0.016235   \n",
       "101           0.048780            0.865854      0.414292        0.008792   \n",
       "55            0.048780            0.695122      0.092012        0.011236   \n",
       "79            0.170732            1.000000      0.599841        0.003257   \n",
       "26            0.268293            1.000000      0.167875        0.000289   \n",
       "\n",
       "     std_test_score  std_train_score  \n",
       "144        0.206958         0.120451  \n",
       "56         0.173991         0.075395  \n",
       "97         0.135556         0.058344  \n",
       "12         0.233377         0.154365  \n",
       "189        0.248998         0.094986  \n",
       "63         0.202111         0.092519  \n",
       "101        0.207914         0.044900  \n",
       "55         0.192049         0.133715  \n",
       "79         0.163008         0.097730  \n",
       "26         0.152100         0.043403  \n",
       "\n",
       "[10 rows x 22 columns]"
      ]
     },
     "execution_count": 283,
     "metadata": {},
     "output_type": "execute_result"
    }
   ],
   "source": [
    "top_results"
   ]
  },
  {
   "cell_type": "code",
   "execution_count": null,
   "metadata": {},
   "outputs": [],
   "source": []
  },
  {
   "cell_type": "code",
   "execution_count": 284,
   "metadata": {},
   "outputs": [
    {
     "data": {
      "text/plain": [
       "144    {'optimizer__lr': 0.02, 'module__n_layer': 1, ...\n",
       "56     {'optimizer__lr': 0.002, 'module__n_layer': 1,...\n",
       "97     {'optimizer__lr': 0.02, 'module__n_layer': 1, ...\n",
       "12     {'optimizer__lr': 0.02, 'module__n_layer': 1, ...\n",
       "189    {'optimizer__lr': 0.002, 'module__n_layer': 2,...\n",
       "63     {'optimizer__lr': 0.002, 'module__n_layer': 1,...\n",
       "101    {'optimizer__lr': 0.0002, 'module__n_layer': 1...\n",
       "55     {'optimizer__lr': 0.02, 'module__n_layer': 1, ...\n",
       "79     {'optimizer__lr': 0.02, 'module__n_layer': 2, ...\n",
       "26     {'optimizer__lr': 0.002, 'module__n_layer': 2,...\n",
       "Name: params, dtype: object"
      ]
     },
     "execution_count": 284,
     "metadata": {},
     "output_type": "execute_result"
    }
   ],
   "source": [
    "top_results.params"
   ]
  },
  {
   "cell_type": "code",
   "execution_count": null,
   "metadata": {},
   "outputs": [],
   "source": []
  },
  {
   "cell_type": "code",
   "execution_count": null,
   "metadata": {},
   "outputs": [],
   "source": []
  },
  {
   "cell_type": "code",
   "execution_count": 286,
   "metadata": {},
   "outputs": [],
   "source": [
    "net.set_params(verbose=True, **top_results.params.iloc[1]);"
   ]
  },
  {
   "cell_type": "code",
   "execution_count": 287,
   "metadata": {},
   "outputs": [
    {
     "name": "stdout",
     "output_type": "stream",
     "text": [
      "  epoch    train_loss    valid_acc    valid_loss     dur\n",
      "-------  ------------  -----------  ------------  ------\n",
      "      1        \u001b[36m1.1913\u001b[0m       \u001b[32m0.5263\u001b[0m        \u001b[35m0.7722\u001b[0m  0.2194\n",
      "      2        \u001b[36m0.7487\u001b[0m       0.5000        \u001b[35m0.7050\u001b[0m  0.2168\n",
      "      3        \u001b[36m0.6382\u001b[0m       0.4737        0.7146  0.2119\n",
      "      4        0.6410       0.4737        0.7574  0.2147\n",
      "      5        0.6705       0.4737        0.7788  0.2137\n",
      "      6        0.6884       0.4737        0.7601  0.2145\n",
      "      7        0.6753       0.4474        0.7377  0.2140\n",
      "      8        0.6573       0.4474        0.7066  0.2130\n",
      "      9        \u001b[36m0.6326\u001b[0m       0.5000        \u001b[35m0.6925\u001b[0m  0.2161\n",
      "     10        \u001b[36m0.6150\u001b[0m       0.5000        \u001b[35m0.6870\u001b[0m  0.2150\n",
      "     11        \u001b[36m0.6107\u001b[0m       \u001b[32m0.6053\u001b[0m        \u001b[35m0.6543\u001b[0m  0.2144\n",
      "     12        \u001b[36m0.6004\u001b[0m       0.6053        \u001b[35m0.6482\u001b[0m  0.2159\n",
      "     13        \u001b[36m0.5902\u001b[0m       \u001b[32m0.6316\u001b[0m        \u001b[35m0.6414\u001b[0m  0.2104\n",
      "     14        \u001b[36m0.5829\u001b[0m       0.6316        \u001b[35m0.6312\u001b[0m  0.2156\n",
      "     15        \u001b[36m0.5750\u001b[0m       \u001b[32m0.6579\u001b[0m        \u001b[35m0.6271\u001b[0m  0.2150\n",
      "     16        \u001b[36m0.5628\u001b[0m       0.6316        0.6512  0.2168\n",
      "     17        \u001b[36m0.5523\u001b[0m       0.5789        0.6512  0.2121\n",
      "     18        \u001b[36m0.5511\u001b[0m       0.5526        0.6554  0.2150\n",
      "     19        \u001b[36m0.5258\u001b[0m       0.6053        0.6404  0.2165\n",
      "     20        \u001b[36m0.5122\u001b[0m       0.5789        0.6381  0.2140\n",
      "     21        \u001b[36m0.5078\u001b[0m       0.5526        0.6357  0.2013\n",
      "     22        \u001b[36m0.4838\u001b[0m       0.5526        \u001b[35m0.6246\u001b[0m  0.2027\n",
      "     23        \u001b[36m0.4705\u001b[0m       0.6053        \u001b[35m0.6136\u001b[0m  0.2025\n",
      "     24        \u001b[36m0.4472\u001b[0m       \u001b[32m0.6842\u001b[0m        \u001b[35m0.5918\u001b[0m  0.2019\n",
      "     25        \u001b[36m0.4151\u001b[0m       \u001b[32m0.7105\u001b[0m        \u001b[35m0.5634\u001b[0m  0.2016\n",
      "     26        \u001b[36m0.4019\u001b[0m       0.6579        0.5776  0.2128\n",
      "     27        \u001b[36m0.3677\u001b[0m       0.7105        \u001b[35m0.5261\u001b[0m  0.2107\n",
      "     28        \u001b[36m0.3542\u001b[0m       \u001b[32m0.7632\u001b[0m        \u001b[35m0.5081\u001b[0m  0.2147\n",
      "     29        \u001b[36m0.3201\u001b[0m       0.7105        0.5416  0.2139\n",
      "     30        \u001b[36m0.3003\u001b[0m       0.7105        0.5402  0.2143\n",
      "     31        \u001b[36m0.2825\u001b[0m       0.7105        \u001b[35m0.5069\u001b[0m  0.2156\n",
      "     32        \u001b[36m0.2322\u001b[0m       0.7368        0.5537  0.2150\n",
      "     33        \u001b[36m0.2200\u001b[0m       0.6842        0.6431  0.2105\n",
      "     34        \u001b[36m0.1776\u001b[0m       0.6842        0.5998  0.2163\n",
      "     35        \u001b[36m0.1693\u001b[0m       0.7368        0.5705  0.2153\n",
      "     36        \u001b[36m0.1221\u001b[0m       0.6842        0.6047  0.2125\n",
      "     37        \u001b[36m0.1036\u001b[0m       0.6842        0.6412  0.2152\n",
      "     38        0.1303       0.7105        0.5748  0.2166\n",
      "     39        \u001b[36m0.0799\u001b[0m       0.6842        0.6189  0.2166\n",
      "     40        \u001b[36m0.0576\u001b[0m       0.6316        0.6415  0.2148\n"
     ]
    }
   ],
   "source": [
    "net.fit(X_train, y_train);"
   ]
  },
  {
   "cell_type": "code",
   "execution_count": null,
   "metadata": {},
   "outputs": [],
   "source": []
  },
  {
   "cell_type": "code",
   "execution_count": 288,
   "metadata": {},
   "outputs": [
    {
     "data": {
      "text/plain": [
       "0.5102040816326531"
      ]
     },
     "execution_count": 288,
     "metadata": {},
     "output_type": "execute_result"
    }
   ],
   "source": [
    "accuracy_score(y_test, net.predict(X_test))"
   ]
  },
  {
   "cell_type": "code",
   "execution_count": null,
   "metadata": {},
   "outputs": [],
   "source": []
  }
 ],
 "metadata": {
  "kernelspec": {
   "display_name": "Python 3",
   "language": "python",
   "name": "python3"
  },
  "language_info": {
   "codemirror_mode": {
    "name": "ipython",
    "version": 3
   },
   "file_extension": ".py",
   "mimetype": "text/x-python",
   "name": "python",
   "nbconvert_exporter": "python",
   "pygments_lexer": "ipython3",
   "version": "3.5.2"
  }
 },
 "nbformat": 4,
 "nbformat_minor": 2
}
