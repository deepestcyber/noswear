{
 "cells": [
  {
   "cell_type": "code",
   "execution_count": 1,
   "metadata": {},
   "outputs": [],
   "source": [
    "%matplotlib inline\n",
    "from matplotlib import pyplot as plt\n",
    "import torch\n",
    "import skorch\n",
    "from skorch.helper import predefined_split\n",
    "from skorch.dataset import Dataset"
   ]
  },
  {
   "cell_type": "code",
   "execution_count": 2,
   "metadata": {},
   "outputs": [],
   "source": [
    "from functools import partial"
   ]
  },
  {
   "cell_type": "code",
   "execution_count": 3,
   "metadata": {},
   "outputs": [],
   "source": [
    "import numpy as np"
   ]
  },
  {
   "cell_type": "code",
   "execution_count": 4,
   "metadata": {},
   "outputs": [],
   "source": [
    "from sklearn.model_selection import StratifiedKFold\n",
    "from sklearn.metrics import accuracy_score"
   ]
  },
  {
   "cell_type": "code",
   "execution_count": 5,
   "metadata": {},
   "outputs": [
    {
     "name": "stderr",
     "output_type": "stream",
     "text": [
      "/home/nemo/envs/noswear/lib/python3.6/site-packages/torchaudio/backend/utils.py:54: UserWarning: \"sox\" backend is being deprecated. The default backend will be changed to \"sox_io\" backend in 0.8.0 and \"sox\" backend will be removed in 0.9.0. Please migrate to \"sox_io\" backend. Please refer to https://github.com/pytorch/audio/issues/903 for the detail.\n",
      "  '\"sox\" backend is being deprecated. '\n"
     ]
    }
   ],
   "source": [
    "from deepspeech.model import DeepSpeech\n",
    "from deepspeech.model import SequenceWise\n",
    "from deepspeech.data.data_loader import SpectrogramParser\n",
    "from deepspeech.data.data_loader import BucketingSampler"
   ]
  },
  {
   "cell_type": "code",
   "execution_count": 6,
   "metadata": {},
   "outputs": [],
   "source": [
    "from noswear.data import dataset\n",
    "from noswear.utils import RNNValueExtractor\n",
    "from noswear.utils import Identity\n",
    "from noswear.utils import bucketing_dataloader\n",
    "from noswear.utils import filter_low_count_words\n",
    "from noswear.layers import ResidualRNN\n",
    "from noswear.model import bucket"
   ]
  },
  {
   "cell_type": "markdown",
   "metadata": {},
   "source": [
    "We are building upon DeepSpeech CNN layers."
   ]
  },
  {
   "cell_type": "code",
   "execution_count": 7,
   "metadata": {},
   "outputs": [],
   "source": [
    "base_model = DeepSpeech.load_model(\n",
    "    '../models/librispeech_pretrained.pth'\n",
    ")\n",
    "audio_conf = DeepSpeech.get_audio_conf(base_model)\n",
    "parser = SpectrogramParser(audio_conf, normalize=True)\n",
    "sampler = dataset.SOXSampler(sample_rate=audio_conf['sample_rate'])"
   ]
  },
  {
   "cell_type": "markdown",
   "metadata": {},
   "source": [
    "We have our own swear/non-swear data, load it."
   ]
  },
  {
   "cell_type": "code",
   "execution_count": 8,
   "metadata": {},
   "outputs": [],
   "source": [
    "ds_swear = dataset.SwearDataset(base_path='../', providers=dataset.DEFAULT_PROVIDERS)"
   ]
  },
  {
   "cell_type": "code",
   "execution_count": 9,
   "metadata": {},
   "outputs": [
    {
     "data": {
      "text/plain": [
       "(270, 270)"
      ]
     },
     "execution_count": 9,
     "metadata": {},
     "output_type": "execute_result"
    }
   ],
   "source": [
    "X_swear, y_swear = ds_swear.load()\n",
    "len(X_swear), len(y_swear)"
   ]
  },
  {
   "cell_type": "code",
   "execution_count": 10,
   "metadata": {},
   "outputs": [],
   "source": [
    "ds = dataset.SwearBinaryAudioDataset(X_swear, y_swear, parser, sampler)"
   ]
  },
  {
   "cell_type": "code",
   "execution_count": 11,
   "metadata": {},
   "outputs": [
    {
     "data": {
      "text/plain": [
       "(270, 270)"
      ]
     },
     "execution_count": 11,
     "metadata": {},
     "output_type": "execute_result"
    }
   ],
   "source": [
    "X, y = ds.load()\n",
    "len(X), len(y)"
   ]
  },
  {
   "cell_type": "code",
   "execution_count": 12,
   "metadata": {},
   "outputs": [
    {
     "data": {
      "text/plain": [
       "(299, 100.35185185185185, 76.0)"
      ]
     },
     "execution_count": 12,
     "metadata": {},
     "output_type": "execute_result"
    }
   ],
   "source": [
    "seq_lens = np.array([x.shape[1] for x in X])\n",
    "max_seq_len = max(seq_lens)\n",
    "max_seq_len, np.mean(seq_lens), np.median(seq_lens)"
   ]
  },
  {
   "cell_type": "code",
   "execution_count": 13,
   "metadata": {},
   "outputs": [],
   "source": [
    "X_pad = np.zeros(\n",
    "    (len(X), X[0].shape[0], max_seq_len), \n",
    "    dtype='float32'\n",
    ")\n",
    "for i, _ in enumerate(X):\n",
    "    X_pad[i, :, :seq_lens[i]] = X[i]\n",
    "    \n",
    "y = np.array(y)"
   ]
  },
  {
   "cell_type": "markdown",
   "metadata": {},
   "source": [
    "Filter low count words"
   ]
  },
  {
   "cell_type": "code",
   "execution_count": 14,
   "metadata": {},
   "outputs": [],
   "source": [
    "idcs = filter_low_count_words(X_swear, min_count=4)\n",
    "X_pad = X_pad[idcs]\n",
    "y = y[idcs]"
   ]
  },
  {
   "cell_type": "markdown",
   "metadata": {},
   "source": [
    "Splitting into train/valid/test"
   ]
  },
  {
   "cell_type": "code",
   "execution_count": 15,
   "metadata": {},
   "outputs": [],
   "source": [
    "split = StratifiedKFold(n_splits=5, shuffle=True, random_state=0)"
   ]
  },
  {
   "cell_type": "code",
   "execution_count": 16,
   "metadata": {},
   "outputs": [
    {
     "name": "stderr",
     "output_type": "stream",
     "text": [
      "/home/nemo/envs/noswear/lib/python3.6/site-packages/scikit_learn-0.23.2-py3.6-linux-x86_64.egg/sklearn/model_selection/_split.py:672: UserWarning: The least populated class in y has only 4 members, which is less than n_splits=5.\n",
      "  % (min_groups, self.n_splits)), UserWarning)\n"
     ]
    }
   ],
   "source": [
    "# use word as class for stratified split to make sure that train/test\n",
    "# set both contain examples of the all words.\n",
    "y_word = np.array([n[0] for n in X_swear])[idcs]\n",
    "train_idcs_proto, test_idcs = next(split.split(y, y=y_word))"
   ]
  },
  {
   "cell_type": "code",
   "execution_count": 17,
   "metadata": {},
   "outputs": [
    {
     "name": "stderr",
     "output_type": "stream",
     "text": [
      "/home/nemo/envs/noswear/lib/python3.6/site-packages/scikit_learn-0.23.2-py3.6-linux-x86_64.egg/sklearn/model_selection/_split.py:672: UserWarning: The least populated class in y has only 3 members, which is less than n_splits=5.\n",
      "  % (min_groups, self.n_splits)), UserWarning)\n"
     ]
    }
   ],
   "source": [
    "train_idcs, valid_idcs = next(split.split(y[train_idcs_proto], y=y_word[train_idcs_proto]))"
   ]
  },
  {
   "cell_type": "code",
   "execution_count": 18,
   "metadata": {},
   "outputs": [],
   "source": [
    "train_idcs = train_idcs_proto[train_idcs]\n",
    "valid_idcs = train_idcs_proto[valid_idcs]"
   ]
  },
  {
   "cell_type": "markdown",
   "metadata": {},
   "source": [
    "Plot the class distribution (words)"
   ]
  },
  {
   "cell_type": "code",
   "execution_count": 19,
   "metadata": {},
   "outputs": [
    {
     "data": {
      "image/png": "[encoded data removed]",
      "text/plain": [
       "<Figure size 432x288 with 3 Axes>"
      ]
     },
     "metadata": {
      "needs_background": "light"
     },
     "output_type": "display_data"
    }
   ],
   "source": [
    "plt.subplot(311)\n",
    "plt.title('\"class\" balance between train/test\\ntrain')\n",
    "plt.hist(y_word[train_idcs]);\n",
    "plt.subplot(312)\n",
    "plt.title('valid')\n",
    "plt.hist(y_word[valid_idcs]);\n",
    "plt.subplot(313)\n",
    "plt.title('test')\n",
    "plt.hist(y_word[test_idcs]);"
   ]
  },
  {
   "cell_type": "code",
   "execution_count": 20,
   "metadata": {},
   "outputs": [],
   "source": [
    "X_train = {'lens': seq_lens[train_idcs], 'X': X_pad[train_idcs]}\n",
    "y_train = np.array(y)[train_idcs].astype('float32')\n",
    "\n",
    "X_valid = {'lens': seq_lens[valid_idcs], 'X': X_pad[valid_idcs]}\n",
    "y_valid = np.array(y)[valid_idcs].astype('float32')\n",
    "\n",
    "X_test = {'lens': seq_lens[test_idcs], 'X': X_pad[test_idcs]}\n",
    "y_test = np.array(y)[test_idcs].astype('float32')"
   ]
  },
  {
   "cell_type": "code",
   "execution_count": 21,
   "metadata": {},
   "outputs": [
    {
     "data": {
      "text/plain": [
       "(170, 43, 54)"
      ]
     },
     "execution_count": 21,
     "metadata": {},
     "output_type": "execute_result"
    }
   ],
   "source": [
    "len(X_train['X']), len(X_valid['X']), len(X_test['X'])"
   ]
  },
  {
   "cell_type": "markdown",
   "metadata": {},
   "source": [
    "Check if train/valid/test are balanced ($y \\approx 0.5$)"
   ]
  },
  {
   "cell_type": "code",
   "execution_count": 22,
   "metadata": {
    "scrolled": false
   },
   "outputs": [
    {
     "data": {
      "text/plain": [
       "(0.4764706, 0.4651163, 0.46296296)"
      ]
     },
     "execution_count": 22,
     "metadata": {},
     "output_type": "execute_result"
    }
   ],
   "source": [
    "y_train.mean(), y_valid.mean(), y_test.mean()"
   ]
  },
  {
   "cell_type": "markdown",
   "metadata": {},
   "source": [
    "Model definition"
   ]
  },
  {
   "cell_type": "code",
   "execution_count": 170,
   "metadata": {},
   "outputs": [],
   "source": [
    "class NoSwearModel(torch.nn.Module):\n",
    "    def __init__(\n",
    "        self, \n",
    "        base_model, \n",
    "        n_hidden=10, \n",
    "        n_layers=1,\n",
    "        p_dropout=0.2,\n",
    "        selector='last',\n",
    "        inital_state_trainable=False,\n",
    "    ):\n",
    "        super().__init__()\n",
    "        self.base_model = base_model\n",
    "        self.base_model.rnns = Identity()\n",
    "        self.base_model.lookahead = Identity()\n",
    "        self.base_model.fc = Identity()\n",
    "        self.base_model.inference_softmax = Identity()\n",
    "        \n",
    "        self.selector = selector\n",
    "        \n",
    "        self.rnn = torch.nn.LSTM(672, n_hidden, num_layers=n_layers, bias=False, batch_first=True)\n",
    "        \n",
    "        if inital_state_trainable:\n",
    "            self.h0 = torch.nn.Parameter(torch.zeros(n_layers, 1, n_hidden))\n",
    "            self.c0 = torch.nn.Parameter(torch.zeros(n_layers, 1, n_hidden))\n",
    "        else:\n",
    "            self.h0 = torch.zeros(n_layers, 1, n_hidden)\n",
    "            self.c0 = torch.zeros(n_layers, 1, n_hidden)\n",
    "\n",
    "        self.clf = torch.nn.Linear(n_hidden, 1, bias=False)\n",
    "        self.dropout = torch.nn.Dropout(p=p_dropout)\n",
    "        \n",
    "        self.reset_parameters()\n",
    "        \n",
    "    def reset_parameters(self):\n",
    "        self.rnn.reset_parameters()\n",
    "        self.clf.reset_parameters()\n",
    "        \n",
    "    def forward(self, X, lens, h0=None, c0=None):\n",
    "        # run base model, output is NxTxH with\n",
    "        # T=Time, N=samples, H=hidden.\n",
    "        y_pre = self.base_model(X)\n",
    "        y_pre = self.dropout(y_pre)\n",
    "        \n",
    "        if not h0 or not c0:\n",
    "            h0 = self.h0.repeat(1, X.shape[0], 1).to(X) \n",
    "            c0 = self.c0.repeat(1, X.shape[0], 1).to(X)\n",
    "            \n",
    "        # run RNN over sequence and extract \"last\" item\n",
    "        y, (h1, c1) = self.rnn(y_pre, (\n",
    "            h0,\n",
    "            c0,\n",
    "        ))\n",
    "        \n",
    "        if self.selector == 'designated':\n",
    "            # instead of taking element -1 we just\n",
    "            # designate neuron 0 to be our confidence indicator;\n",
    "            # we take the element where [0] is greatest.\n",
    "            indicator_seq = y[:, :, 0]\n",
    "            idcs_time = indicator_seq.argmax(axis=-1)\n",
    "            idcs_batch = list(range(X.shape[0]))\n",
    "            indicator = indicator_seq[idcs_batch, idcs_time]\n",
    "\n",
    "            # index using (batch, time) tuples\n",
    "            y = y[idcs_batch, idcs_time, :]\n",
    "        elif self.selector == 'designated_sum':\n",
    "            ble = y\n",
    "            indicator_seq = y[:, :, [0]*100].sum(dim=-1)\n",
    "            idcs_time = indicator_seq.argmax(axis=-1)\n",
    "            idcs_batch = list(range(X.shape[0]))\n",
    "            indicator = indicator_seq[idcs_batch, idcs_time]\n",
    "\n",
    "            y = y[idcs_batch, idcs_time, :]\n",
    "        elif self.selector == 'designated_afew':\n",
    "            # same as designated but look at at least N frames\n",
    "            N = 10\n",
    "            indicator_seq = y[:, N:, 0]\n",
    "            idcs_time = indicator_seq.argmax(axis=-1)\n",
    "            idcs_batch = list(range(X.shape[0]))\n",
    "            indicator = indicator_seq[idcs_batch, idcs_time]\n",
    "            \n",
    "            y = y[idcs_batch, idcs_time, :]\n",
    "        else:\n",
    "            indicator = y[:, -1]\n",
    "            indicator_seq = y[:, :]\n",
    "            y = y[:, -1]\n",
    "            \n",
    "        y = self.clf(y)\n",
    "        #y = torch.tanh(y)\n",
    "        return y, indicator, indicator_seq, h1, c1"
   ]
  },
  {
   "cell_type": "markdown",
   "metadata": {},
   "source": [
    "Training loop and stuff"
   ]
  },
  {
   "cell_type": "code",
   "execution_count": 171,
   "metadata": {},
   "outputs": [],
   "source": [
    "class BinaryClassifier(skorch.classifier.NeuralNetBinaryClassifier):\n",
    "    def get_loss(self, y_pred, y_true, *args, **kwargs):\n",
    "        return super().get_loss(y_pred[0], y_true, *args, **kwargs)"
   ]
  },
  {
   "cell_type": "code",
   "execution_count": 205,
   "metadata": {},
   "outputs": [],
   "source": [
    "torch.manual_seed(42)\n",
    "\n",
    "net = BinaryClassifier(\n",
    "    partial(NoSwearModel, base_model), \n",
    "    \n",
    "    iterator_train=bucketing_dataloader,\n",
    "    iterator_train__bucket_fn=bucket,\n",
    "    iterator_train__shuffle=True,\n",
    "    iterator_valid=bucketing_dataloader,\n",
    "    iterator_valid__bucket_fn=bucket,\n",
    "    \n",
    "    batch_size=4,\n",
    "    max_epochs=30,\n",
    "    device='cuda',\n",
    "    \n",
    "    train_split=predefined_split(Dataset(X_valid, y_valid)),\n",
    "    \n",
    "    module__p_dropout=0.0,\n",
    "    module__n_hidden=48,\n",
    "    module__n_layers=1,\n",
    "    module__selector='designated_afew',\n",
    "        \n",
    "    optimizer=torch.optim.Adam,\n",
    "    optimizer__lr=0.0002,\n",
    "    \n",
    "    callbacks=[\n",
    "        skorch.callbacks.Freezer('base_model.*'),\n",
    "        skorch.callbacks.Checkpoint(monitor='valid_acc_best', f_pickle='model_valid_acc_best.pkl'),\n",
    "        #skorch.callbacks.TrainEndCheckpoint(),\n",
    "    ]\n",
    ")"
   ]
  },
  {
   "cell_type": "code",
   "execution_count": 206,
   "metadata": {
    "scrolled": false
   },
   "outputs": [
    {
     "name": "stdout",
     "output_type": "stream",
     "text": [
      "Automatic pdb calling has been turned ON\n",
      "  epoch    train_loss    valid_acc    valid_loss    cp     dur\n",
      "-------  ------------  -----------  ------------  ----  ------\n",
      "      1        \u001b[36m0.6983\u001b[0m       \u001b[32m0.5814\u001b[0m        \u001b[35m0.6727\u001b[0m     +  0.9114\n",
      "      2        \u001b[36m0.6767\u001b[0m       \u001b[32m0.6047\u001b[0m        \u001b[35m0.6715\u001b[0m     +  0.8546\n",
      "      3        \u001b[36m0.6596\u001b[0m       \u001b[32m0.6977\u001b[0m        \u001b[35m0.6660\u001b[0m     +  0.8683\n",
      "      4        \u001b[36m0.6385\u001b[0m       \u001b[32m0.7209\u001b[0m        0.6679     +  0.9258\n",
      "      5        \u001b[36m0.6265\u001b[0m       0.6744        \u001b[35m0.6573\u001b[0m        0.8610\n",
      "      6        \u001b[36m0.5965\u001b[0m       0.7209        \u001b[35m0.6532\u001b[0m        0.8559\n",
      "      7        \u001b[36m0.5703\u001b[0m       0.6744        \u001b[35m0.6396\u001b[0m        0.9002\n",
      "      8        \u001b[36m0.5287\u001b[0m       0.7209        \u001b[35m0.6268\u001b[0m        0.8872\n",
      "      9        \u001b[36m0.5005\u001b[0m       0.6977        \u001b[35m0.6068\u001b[0m        0.8374\n",
      "     10        \u001b[36m0.4709\u001b[0m       0.6512        0.6096        0.8809\n",
      "     11        \u001b[36m0.4230\u001b[0m       0.6744        \u001b[35m0.6042\u001b[0m        0.8749\n",
      "     12        \u001b[36m0.4150\u001b[0m       0.6977        \u001b[35m0.5980\u001b[0m        0.8532\n",
      "     13        \u001b[36m0.4039\u001b[0m       0.7209        \u001b[35m0.5964\u001b[0m        0.8543\n",
      "     14        \u001b[36m0.3771\u001b[0m       0.6977        \u001b[35m0.5794\u001b[0m        0.8616\n",
      "     15        \u001b[36m0.3667\u001b[0m       0.7209        \u001b[35m0.5518\u001b[0m        0.8584\n",
      "     16        0.3667       0.6977        0.5760        0.8795\n",
      "     17        \u001b[36m0.3502\u001b[0m       0.7209        0.6037        0.8678\n",
      "     18        \u001b[36m0.3289\u001b[0m       0.7209        0.5778        0.8795\n",
      "     19        \u001b[36m0.3048\u001b[0m       \u001b[32m0.7674\u001b[0m        0.5620     +  0.8886\n",
      "     20        0.3095       0.7209        0.5528        0.8849\n",
      "     21        0.3091       0.7674        0.6201        0.8749\n",
      "     22        \u001b[36m0.3045\u001b[0m       0.7442        0.5827        0.8867\n",
      "     23        \u001b[36m0.2810\u001b[0m       0.7674        0.5645        0.9064\n",
      "     24        0.2962       0.7442        0.6093        0.8901\n",
      "     25        0.2881       0.7209        0.6099        0.8743\n",
      "     26        0.3244       0.6744        0.6093        0.8627\n",
      "     27        0.2975       0.7209        0.5591        0.8591\n",
      "     28        0.2867       0.6977        0.6585        0.8857\n",
      "     29        \u001b[36m0.2717\u001b[0m       0.6744        0.6415        0.8747\n",
      "     30        \u001b[36m0.2616\u001b[0m       \u001b[32m0.7907\u001b[0m        0.5793     +  0.8887\n"
     ]
    },
    {
     "data": {
      "text/plain": [
       "<class '__main__.BinaryClassifier'>[initialized](\n",
       "  module_=NoSwearModel(\n",
       "    (base_model): DeepSpeech(\n",
       "      (conv): Sequential(\n",
       "        (0): Conv2d(1, 32, kernel_size=(41, 11), stride=(2, 2), padding=(0, 10))\n",
       "        (1): BatchNorm2d(32, eps=1e-05, momentum=0.1, affine=True, track_running_stats=True)\n",
       "        (2): Hardtanh(min_val=0, max_val=20, inplace=True)\n",
       "        (3): Conv2d(32, 32, kernel_size=(21, 11), stride=(2, 1))\n",
       "        (4): BatchNorm2d(32, eps=1e-05, momentum=0.1, affine=True, track_running_stats=True)\n",
       "        (5): Hardtanh(min_val=0, max_val=20, inplace=True)\n",
       "      )\n",
       "      (rnns): Identity()\n",
       "      (fc): Identity()\n",
       "      (inference_softmax): Identity()\n",
       "      (lookahead): Identity()\n",
       "    )\n",
       "    (rnn): LSTM(672, 48, bias=False, batch_first=True)\n",
       "    (clf): Linear(in_features=48, out_features=1, bias=False)\n",
       "    (dropout): Dropout(p=0.0, inplace=False)\n",
       "  ),\n",
       ")"
      ]
     },
     "execution_count": 206,
     "metadata": {},
     "output_type": "execute_result"
    }
   ],
   "source": [
    "%pdb on\n",
    "net.fit(X_train, y_train)"
   ]
  },
  {
   "cell_type": "markdown",
   "metadata": {},
   "source": [
    "Training done, let's look at the accuracy of the best net (via valid loss)"
   ]
  },
  {
   "cell_type": "code",
   "execution_count": 207,
   "metadata": {},
   "outputs": [],
   "source": [
    "net.load_params(checkpoint=dict(net.callbacks_)['Checkpoint'])"
   ]
  },
  {
   "cell_type": "code",
   "execution_count": 208,
   "metadata": {},
   "outputs": [
    {
     "data": {
      "text/plain": [
       "0.7906976744186046"
      ]
     },
     "execution_count": 208,
     "metadata": {},
     "output_type": "execute_result"
    }
   ],
   "source": [
    "accuracy_score(y_valid, net.predict(X_valid))"
   ]
  },
  {
   "cell_type": "code",
   "execution_count": 209,
   "metadata": {},
   "outputs": [
    {
     "data": {
      "text/plain": [
       "0.7962962962962963"
      ]
     },
     "execution_count": 209,
     "metadata": {},
     "output_type": "execute_result"
    }
   ],
   "source": [
    "accuracy_score(y_test, net.predict(X_test))"
   ]
  },
  {
   "cell_type": "markdown",
   "metadata": {},
   "source": [
    "Let's inspect the indicator neuron (what does it do)"
   ]
  },
  {
   "cell_type": "code",
   "execution_count": 141,
   "metadata": {},
   "outputs": [],
   "source": [
    "outputs = list(net.forward_iter(X_valid))"
   ]
  },
  {
   "cell_type": "markdown",
   "metadata": {},
   "source": [
    "It seems to strongly, inversely correlate with the predicted output class"
   ]
  },
  {
   "cell_type": "code",
   "execution_count": 142,
   "metadata": {},
   "outputs": [],
   "source": [
    "class_log, indicator_log, indicator_sequence_log, hX, cX = zip(*outputs)\n",
    "class_log = torch.cat(class_log)\n",
    "indicator_log = torch.cat(indicator_log)"
   ]
  },
  {
   "cell_type": "code",
   "execution_count": 143,
   "metadata": {},
   "outputs": [
    {
     "data": {
      "image/png": "[encoded data removed]",
      "text/plain": [
       "<Figure size 432x288 with 2 Axes>"
      ]
     },
     "metadata": {
      "needs_background": "light"
     },
     "output_type": "display_data"
    }
   ],
   "source": [
    "plt.plot(class_log)\n",
    "plt.ylabel('class logit')\n",
    "\n",
    "ax = plt.twinx()\n",
    "ax.plot(indicator_log, c='orange')\n",
    "plt.ylabel('indicator logit')\n",
    "\n",
    "plt.gcf().legend(['class', 'indic']);"
   ]
  },
  {
   "cell_type": "markdown",
   "metadata": {},
   "source": [
    "How does it evolve in time?"
   ]
  },
  {
   "cell_type": "code",
   "execution_count": 144,
   "metadata": {},
   "outputs": [],
   "source": [
    "# since we have batched processing, we remove the batch dimension\n",
    "# outputs.shape = (len(X_valid), 4, ?) => (len(X_valid), 4*?)\n",
    "def debatch_indicator_sequences(outputs):\n",
    "    def a():\n",
    "        for _, _, indicator_seqs, _, _ in outputs:\n",
    "            for seq in indicator_seqs:\n",
    "                yield seq\n",
    "    return list(a())"
   ]
  },
  {
   "cell_type": "code",
   "execution_count": 145,
   "metadata": {},
   "outputs": [],
   "source": [
    "indicator_sequences = debatch_indicator_sequences(outputs)"
   ]
  },
  {
   "cell_type": "code",
   "execution_count": 195,
   "metadata": {},
   "outputs": [],
   "source": [
    "def plot_seq_base(indicator_sequence, clogit, fpath):\n",
    "    swear = clogit >= 0.5\n",
    "    title = f\"{fpath} - swear: {swear}\"\n",
    "    \n",
    "    plt.title(title)\n",
    "    plt.plot(indicator_sequence)\n",
    "    plt.legend(['indic. neuron'])\n",
    "    \n",
    "def plot_seq(i):\n",
    "    sequence = indicator_sequences[i]\n",
    "    clogit = class_log[i]\n",
    "    fpath = np.array(X_swear)[valid_idcs][i][1]\n",
    "    \n",
    "    plot_seq_base(sequence, clogit, fpath)"
   ]
  },
  {
   "cell_type": "code",
   "execution_count": 196,
   "metadata": {},
   "outputs": [
    {
     "data": {
      "image/png": "[encoded data removed]",
      "text/plain": [
       "<Figure size 432x288 with 1 Axes>"
      ]
     },
     "metadata": {
      "needs_background": "light"
     },
     "output_type": "display_data"
    }
   ],
   "source": [
    "plot_seq(0)"
   ]
  },
  {
   "cell_type": "code",
   "execution_count": 197,
   "metadata": {},
   "outputs": [
    {
     "data": {
      "image/png": "[encoded data removed]",
      "text/plain": [
       "<Figure size 432x288 with 1 Axes>"
      ]
     },
     "metadata": {
      "needs_background": "light"
     },
     "output_type": "display_data"
    }
   ],
   "source": [
    "plot_seq(2)"
   ]
  },
  {
   "cell_type": "code",
   "execution_count": 198,
   "metadata": {},
   "outputs": [
    {
     "data": {
      "image/png": "[encoded data removed]",
      "text/plain": [
       "<Figure size 432x288 with 1 Axes>"
      ]
     },
     "metadata": {
      "needs_background": "light"
     },
     "output_type": "display_data"
    }
   ],
   "source": [
    "plot_seq(3)"
   ]
  },
  {
   "cell_type": "code",
   "execution_count": 199,
   "metadata": {},
   "outputs": [
    {
     "data": {
      "image/png": "[encoded data removed]",
      "text/plain": [
       "<Figure size 432x288 with 1 Axes>"
      ]
     },
     "metadata": {
      "needs_background": "light"
     },
     "output_type": "display_data"
    }
   ],
   "source": [
    "plot_seq(4)"
   ]
  },
  {
   "cell_type": "code",
   "execution_count": 200,
   "metadata": {
    "scrolled": true
   },
   "outputs": [
    {
     "data": {
      "image/png": "[encoded data removed]",
      "text/plain": [
       "<Figure size 432x288 with 1 Axes>"
      ]
     },
     "metadata": {
      "needs_background": "light"
     },
     "output_type": "display_data"
    }
   ],
   "source": [
    "plot_seq(20)"
   ]
  },
  {
   "cell_type": "code",
   "execution_count": 201,
   "metadata": {
    "scrolled": true
   },
   "outputs": [
    {
     "data": {
      "image/png": "[encoded data removed]",
      "text/plain": [
       "<Figure size 432x288 with 1 Axes>"
      ]
     },
     "metadata": {
      "needs_background": "light"
     },
     "output_type": "display_data"
    }
   ],
   "source": [
    "plot_seq(27)"
   ]
  },
  {
   "cell_type": "markdown",
   "metadata": {},
   "source": [
    "Test on a single sample, a long-stretched 'shiiit'"
   ]
  },
  {
   "cell_type": "code",
   "execution_count": 202,
   "metadata": {},
   "outputs": [],
   "source": [
    "audio_inp = parser.parse_audio('../data/own/shiiiit.ogg')\n",
    "inp = {'X': audio_inp[None], 'lens': np.array([audio_inp.shape[1]])}"
   ]
  },
  {
   "cell_type": "code",
   "execution_count": 203,
   "metadata": {
    "scrolled": true
   },
   "outputs": [],
   "source": [
    "c, i, ics, hX, cX = zip(*list(net.forward_iter(inp)))"
   ]
  },
  {
   "cell_type": "code",
   "execution_count": 204,
   "metadata": {},
   "outputs": [
    {
     "data": {
      "image/png": "[encoded data removed]",
      "text/plain": [
       "<Figure size 432x288 with 1 Axes>"
      ]
     },
     "metadata": {
      "needs_background": "light"
     },
     "output_type": "display_data"
    }
   ],
   "source": [
    "plot_seq_base(ics[0][0], c[0].item(), fpath='shiiit')"
   ]
  },
  {
   "cell_type": "markdown",
   "metadata": {},
   "source": [
    "### grid search\n",
    "\n"
   ]
  },
  {
   "cell_type": "code",
   "execution_count": 45,
   "metadata": {},
   "outputs": [],
   "source": [
    "from sklearn.model_selection import GridSearchCV\n",
    "from skorch.helper import SliceDict"
   ]
  },
  {
   "cell_type": "code",
   "execution_count": 46,
   "metadata": {},
   "outputs": [],
   "source": [
    "#net.initialize();\n",
    "net.set_params(verbose=False);"
   ]
  },
  {
   "cell_type": "code",
   "execution_count": 47,
   "metadata": {},
   "outputs": [],
   "source": [
    "params = {\n",
    "    'optimizer__lr': [0.02, 0.002, 0.0002],\n",
    "    'optimizer__weight_decay': [0, 1e-4],\n",
    "    'optimizer': [torch.optim.RMSprop, torch.optim.Adam],\n",
    "    'module__p_dropout': [0, 0.5],\n",
    "    'module__n_hidden': [10, 100, 200, 400],\n",
    "    'module__n_layer': [1, 2],\n",
    "}"
   ]
  },
  {
   "cell_type": "code",
   "execution_count": 48,
   "metadata": {},
   "outputs": [
    {
     "ename": "NameError",
     "evalue": "name 'TODO' is not defined",
     "output_type": "error",
     "traceback": [
      "\u001b[0;31m---------------------------------------------------------------------------\u001b[0m",
      "\u001b[0;31mNameError\u001b[0m                                 Traceback (most recent call last)",
      "\u001b[0;32m<ipython-input-48-6fbe553952be>\u001b[0m in \u001b[0;36m<module>\u001b[0;34m\u001b[0m\n\u001b[0;32m----> 1\u001b[0;31m \u001b[0mcv\u001b[0m \u001b[0;34m=\u001b[0m \u001b[0mTODO\u001b[0m\u001b[0;34m\u001b[0m\u001b[0;34m\u001b[0m\u001b[0m\n\u001b[0m",
      "\u001b[0;31mNameError\u001b[0m: name 'TODO' is not defined"
     ]
    },
    {
     "name": "stdout",
     "output_type": "stream",
     "text": [
      "> \u001b[0;32m<ipython-input-48-6fbe553952be>\u001b[0m(1)\u001b[0;36m<module>\u001b[0;34m()\u001b[0m\n",
      "\u001b[0;32m----> 1 \u001b[0;31m\u001b[0mcv\u001b[0m \u001b[0;34m=\u001b[0m \u001b[0mTODO\u001b[0m\u001b[0;34m\u001b[0m\u001b[0;34m\u001b[0m\u001b[0m\n",
      "\u001b[0m\n",
      "ipdb> q\n"
     ]
    }
   ],
   "source": [
    "cv = TODO"
   ]
  },
  {
   "cell_type": "code",
   "execution_count": null,
   "metadata": {},
   "outputs": [],
   "source": [
    "gs = GridSearchCV(net, params, scoring='accuracy', cv=cv)"
   ]
  },
  {
   "cell_type": "code",
   "execution_count": null,
   "metadata": {
    "scrolled": false
   },
   "outputs": [],
   "source": [
    "%%time\n",
    "gs.fit(SliceDict(**X_train), y_train);"
   ]
  },
  {
   "cell_type": "code",
   "execution_count": null,
   "metadata": {},
   "outputs": [],
   "source": []
  },
  {
   "cell_type": "code",
   "execution_count": null,
   "metadata": {},
   "outputs": [],
   "source": [
    "import pandas as pd\n",
    "results = pd.DataFrame(gs.cv_results_)"
   ]
  },
  {
   "cell_type": "code",
   "execution_count": null,
   "metadata": {},
   "outputs": [],
   "source": [
    "top_results = results.sort_values(by='mean_test_score').head(10)"
   ]
  },
  {
   "cell_type": "code",
   "execution_count": null,
   "metadata": {},
   "outputs": [],
   "source": [
    "top_results"
   ]
  },
  {
   "cell_type": "code",
   "execution_count": null,
   "metadata": {},
   "outputs": [],
   "source": []
  },
  {
   "cell_type": "code",
   "execution_count": null,
   "metadata": {},
   "outputs": [],
   "source": [
    "top_results.params"
   ]
  },
  {
   "cell_type": "code",
   "execution_count": null,
   "metadata": {},
   "outputs": [],
   "source": []
  },
  {
   "cell_type": "code",
   "execution_count": null,
   "metadata": {},
   "outputs": [],
   "source": []
  },
  {
   "cell_type": "code",
   "execution_count": null,
   "metadata": {},
   "outputs": [],
   "source": [
    "net.set_params(verbose=True, **top_results.params.iloc[1]);"
   ]
  },
  {
   "cell_type": "code",
   "execution_count": null,
   "metadata": {},
   "outputs": [],
   "source": [
    "net.fit(X_train, y_train);"
   ]
  },
  {
   "cell_type": "code",
   "execution_count": null,
   "metadata": {},
   "outputs": [],
   "source": []
  },
  {
   "cell_type": "code",
   "execution_count": null,
   "metadata": {},
   "outputs": [],
   "source": [
    "accuracy_score(y_test, net.predict(X_test))"
   ]
  },
  {
   "cell_type": "code",
   "execution_count": null,
   "metadata": {},
   "outputs": [],
   "source": []
  }
 ],
 "metadata": {
  "kernelspec": {
   "display_name": "Python 3",
   "language": "python",
   "name": "python3"
  },
  "language_info": {
   "codemirror_mode": {
    "name": "ipython",
    "version": 3
   },
   "file_extension": ".py",
   "mimetype": "text/x-python",
   "name": "python",
   "nbconvert_exporter": "python",
   "pygments_lexer": "ipython3",
   "version": "3.6.6"
  }
 },
 "nbformat": 4,
 "nbformat_minor": 2
}
