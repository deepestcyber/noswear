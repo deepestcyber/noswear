{
 "cells": [
  {
   "cell_type": "code",
   "execution_count": 1,
   "metadata": {},
   "outputs": [],
   "source": [
    "import torch\n",
    "import skorch"
   ]
  },
  {
   "cell_type": "code",
   "execution_count": 2,
   "metadata": {},
   "outputs": [],
   "source": [
    "import numpy as np"
   ]
  },
  {
   "cell_type": "code",
   "execution_count": 3,
   "metadata": {},
   "outputs": [],
   "source": [
    "from deepspeech.model import DeepSpeech\n",
    "from deepspeech.data.data_loader import SpectrogramParser\n",
    "from deepspeech.data.data_loader import BucketingSampler"
   ]
  },
  {
   "cell_type": "code",
   "execution_count": 4,
   "metadata": {},
   "outputs": [],
   "source": [
    "from data import dataset"
   ]
  },
  {
   "cell_type": "code",
   "execution_count": null,
   "metadata": {},
   "outputs": [],
   "source": []
  },
  {
   "cell_type": "code",
   "execution_count": 5,
   "metadata": {},
   "outputs": [],
   "source": [
    "ds = dataset.SwearDataset(dataset.DEFAULT_PROVIDERS)"
   ]
  },
  {
   "cell_type": "code",
   "execution_count": 6,
   "metadata": {},
   "outputs": [],
   "source": [
    "X, y = ds.load()"
   ]
  },
  {
   "cell_type": "code",
   "execution_count": 7,
   "metadata": {},
   "outputs": [],
   "source": [
    "class SwearAudioDataset:\n",
    "    def __init__(self, X, y, parser):\n",
    "        self.X = X\n",
    "        self.y = y\n",
    "        assert len(X) == len(y)\n",
    "        self.parser = parser\n",
    "        \n",
    "    def table(self):\n",
    "        for i, (word, fpath) in enumerate(self.X):\n",
    "            frames = self.parser.parse_audio(fpath)\n",
    "            y = np.zeros(frames.shape[1])\n",
    "            y[-1] = int(self.y[i])\n",
    "            yield frames, y\n",
    "            \n",
    "    def load(self):\n",
    "        Xy = list(self.table())\n",
    "        return (\n",
    "            [n[0] for n in Xy],\n",
    "            [n[1] for n in Xy],\n",
    "        )"
   ]
  },
  {
   "cell_type": "code",
   "execution_count": 8,
   "metadata": {},
   "outputs": [],
   "source": [
    "base_model = DeepSpeech.load_model('models/librispeech_pretrained.pth')"
   ]
  },
  {
   "cell_type": "code",
   "execution_count": 9,
   "metadata": {},
   "outputs": [],
   "source": [
    "audio_conf = DeepSpeech.get_audio_conf(base_model)\n",
    "parser = SpectrogramParser(audio_conf)"
   ]
  },
  {
   "cell_type": "code",
   "execution_count": 10,
   "metadata": {},
   "outputs": [],
   "source": [
    "ds = SwearAudioDataset(X, y, parser)"
   ]
  },
  {
   "cell_type": "code",
   "execution_count": 11,
   "metadata": {},
   "outputs": [],
   "source": [
    "X, y = ds.load()"
   ]
  },
  {
   "cell_type": "code",
   "execution_count": 94,
   "metadata": {},
   "outputs": [
    {
     "data": {
      "text/plain": [
       "(663, 233.85714285714286, 173.0)"
      ]
     },
     "execution_count": 94,
     "metadata": {},
     "output_type": "execute_result"
    }
   ],
   "source": [
    "seq_lens = np.array([x.shape[1] for x in X])\n",
    "max_seq_len = max(seq_lens)\n",
    "max_seq_len, np.mean(seq_lens), np.median(seq_lens)"
   ]
  },
  {
   "cell_type": "code",
   "execution_count": 95,
   "metadata": {},
   "outputs": [],
   "source": [
    "X_pad = np.zeros((len(X), X[0].shape[0], max_seq_len), dtype='float32')\n",
    "y_pad = np.zeros((len(y), max_seq_len), dtype='float32') - 999"
   ]
  },
  {
   "cell_type": "code",
   "execution_count": 96,
   "metadata": {},
   "outputs": [],
   "source": [
    "for i, _ in enumerate(X):\n",
    "    X_pad[i, :, :seq_lens[i]] = X[i]\n",
    "    y_pad[i, :seq_lens[i]] = y[i]"
   ]
  },
  {
   "cell_type": "code",
   "execution_count": 97,
   "metadata": {},
   "outputs": [],
   "source": [
    "X_comb = {'lens': seq_lens, 'X': X_pad}"
   ]
  },
  {
   "cell_type": "code",
   "execution_count": 98,
   "metadata": {},
   "outputs": [],
   "source": [
    "from deepspeech.model import SequenceWise"
   ]
  },
  {
   "cell_type": "code",
   "execution_count": 64,
   "metadata": {},
   "outputs": [],
   "source": [
    "class RNNExtractor(torch.nn.Module):\n",
    "    def forward(self, x):\n",
    "        assert type(x) == tuple\n",
    "        return x[0]"
   ]
  },
  {
   "cell_type": "code",
   "execution_count": null,
   "metadata": {},
   "outputs": [],
   "source": []
  },
  {
   "cell_type": "code",
   "execution_count": 65,
   "metadata": {},
   "outputs": [],
   "source": [
    "def get_model(model):\n",
    "    model.rnns = torch.nn.GRU(672, 10, bias=False)\n",
    "    model.fc = torch.nn.Sequential(\n",
    "        RNNExtractor(),\n",
    "        SequenceWise(torch.nn.Linear(10, 1)),\n",
    "    )\n",
    "    model.inference_softmax = torch.nn.Sigmoid()\n",
    "    return model"
   ]
  },
  {
   "cell_type": "code",
   "execution_count": 66,
   "metadata": {},
   "outputs": [],
   "source": [
    "model = get_model(base_model)"
   ]
  },
  {
   "cell_type": "code",
   "execution_count": 67,
   "metadata": {},
   "outputs": [
    {
     "data": {
      "text/plain": [
       "DeepSpeech(\n",
       "  (conv): Sequential(\n",
       "    (0): Conv2d(1, 32, kernel_size=(41, 11), stride=(2, 2), padding=(0, 10))\n",
       "    (1): BatchNorm2d(32, eps=1e-05, momentum=0.1, affine=True, track_running_stats=True)\n",
       "    (2): Hardtanh(min_val=0, max_val=20, inplace)\n",
       "    (3): Conv2d(32, 32, kernel_size=(21, 11), stride=(2, 1))\n",
       "    (4): BatchNorm2d(32, eps=1e-05, momentum=0.1, affine=True, track_running_stats=True)\n",
       "    (5): Hardtanh(min_val=0, max_val=20, inplace)\n",
       "  )\n",
       "  (rnns): GRU(672, 10, bias=False)\n",
       "  (fc): Sequential(\n",
       "    (0): RNNExtractor()\n",
       "    (1): SequenceWise (\n",
       "    Linear(in_features=10, out_features=1, bias=True))\n",
       "  )\n",
       "  (inference_softmax): Sigmoid()\n",
       ")"
      ]
     },
     "execution_count": 67,
     "metadata": {},
     "output_type": "execute_result"
    }
   ],
   "source": [
    "model"
   ]
  },
  {
   "cell_type": "code",
   "execution_count": 132,
   "metadata": {},
   "outputs": [],
   "source": [
    "class SpeechNet(skorch.NeuralNet):\n",
    "    def get_loss(self, y_pred, y_true, **kwargs):\n",
    "        y_true = y_true[:, :y_pred.shape[1]]\n",
    "        y_pred = y_pred.squeeze()\n",
    "        \n",
    "        # remove padding\n",
    "        nz = torch.nonzero(y_true != -999)\n",
    "        y_true = y_true[nz[:, 0], nz[:, 1]]\n",
    "        y_pred = y_pred[nz[:, 0], nz[:, 1]]\n",
    "        \n",
    "        return super().get_loss(y_pred, y_true, **kwargs)"
   ]
  },
  {
   "cell_type": "code",
   "execution_count": null,
   "metadata": {},
   "outputs": [],
   "source": []
  },
  {
   "cell_type": "code",
   "execution_count": 133,
   "metadata": {},
   "outputs": [],
   "source": [
    "def bucket(Xi, yi):\n",
    "    X, max_len = Xi['X'], max(Xi['lens'])\n",
    "    return X[:, :, :max_len], yi[:, :max_len]"
   ]
  },
  {
   "cell_type": "code",
   "execution_count": 134,
   "metadata": {},
   "outputs": [],
   "source": [
    "def bucketing_dataloader(ds, **kwargs):\n",
    "    dl = torch.utils.data.DataLoader(ds, **kwargs)\n",
    "    for Xi, yi in dl:\n",
    "        Xi, yi = bucket(Xi, yi)\n",
    "        Xi = Xi[:, None, :, :]\n",
    "        yield Xi, yi"
   ]
  },
  {
   "cell_type": "code",
   "execution_count": 135,
   "metadata": {},
   "outputs": [],
   "source": [
    "net = SpeechNet(\n",
    "    model, \n",
    "    criterion=torch.nn.MSELoss,\n",
    "    iterator_train=bucketing_dataloader,\n",
    "    iterator_valid=bucketing_dataloader,\n",
    "    batch_size=8,\n",
    "    callbacks=[\n",
    "        skorch.callbacks.Freezer(lambda n: not n.startswith('rnns') and not n.startswith('fc')),\n",
    "        skorch.callbacks.ProgressBar(),\n",
    "    ]\n",
    ")"
   ]
  },
  {
   "cell_type": "code",
   "execution_count": 136,
   "metadata": {},
   "outputs": [
    {
     "name": "stdout",
     "output_type": "stream",
     "text": [
      "Automatic pdb calling has been turned ON\n"
     ]
    },
    {
     "data": {
      "application/vnd.jupyter.widget-view+json": {
       "model_id": "",
       "version_major": 2,
       "version_minor": 0
      },
      "text/plain": [
       "HBox(children=(IntProgress(value=0, max=28), HTML(value='')))"
      ]
     },
     "metadata": {},
     "output_type": "display_data"
    },
    {
     "name": "stdout",
     "output_type": "stream",
     "text": [
      "  epoch    train_loss    valid_loss      dur\n",
      "-------  ------------  ------------  -------\n",
      "      1        \u001b[36m0.0111\u001b[0m        \u001b[32m0.0102\u001b[0m  28.8133\n"
     ]
    },
    {
     "data": {
      "application/vnd.jupyter.widget-view+json": {
       "model_id": "",
       "version_major": 2,
       "version_minor": 0
      },
      "text/plain": [
       "HBox(children=(IntProgress(value=0, max=28), HTML(value='')))"
      ]
     },
     "metadata": {},
     "output_type": "display_data"
    },
    {
     "name": "stdout",
     "output_type": "stream",
     "text": [
      "      2        \u001b[36m0.0101\u001b[0m        \u001b[32m0.0092\u001b[0m  28.5385\n"
     ]
    },
    {
     "data": {
      "application/vnd.jupyter.widget-view+json": {
       "model_id": "",
       "version_major": 2,
       "version_minor": 0
      },
      "text/plain": [
       "HBox(children=(IntProgress(value=0, max=28), HTML(value='')))"
      ]
     },
     "metadata": {},
     "output_type": "display_data"
    },
    {
     "name": "stdout",
     "output_type": "stream",
     "text": [
      "      3        \u001b[36m0.0092\u001b[0m        \u001b[32m0.0086\u001b[0m  28.4663\n"
     ]
    },
    {
     "data": {
      "application/vnd.jupyter.widget-view+json": {
       "model_id": "",
       "version_major": 2,
       "version_minor": 0
      },
      "text/plain": [
       "HBox(children=(IntProgress(value=0, max=28), HTML(value='')))"
      ]
     },
     "metadata": {},
     "output_type": "display_data"
    },
    {
     "name": "stdout",
     "output_type": "stream",
     "text": [
      "      4        \u001b[36m0.0085\u001b[0m        \u001b[32m0.0081\u001b[0m  28.3448\n"
     ]
    },
    {
     "data": {
      "application/vnd.jupyter.widget-view+json": {
       "model_id": "",
       "version_major": 2,
       "version_minor": 0
      },
      "text/plain": [
       "HBox(children=(IntProgress(value=0, max=28), HTML(value='')))"
      ]
     },
     "metadata": {},
     "output_type": "display_data"
    },
    {
     "name": "stdout",
     "output_type": "stream",
     "text": [
      "      5        \u001b[36m0.0079\u001b[0m        \u001b[32m0.0077\u001b[0m  28.3073\n"
     ]
    },
    {
     "data": {
      "application/vnd.jupyter.widget-view+json": {
       "model_id": "",
       "version_major": 2,
       "version_minor": 0
      },
      "text/plain": [
       "HBox(children=(IntProgress(value=0, max=28), HTML(value='')))"
      ]
     },
     "metadata": {},
     "output_type": "display_data"
    },
    {
     "name": "stdout",
     "output_type": "stream",
     "text": [
      "      6        \u001b[36m0.0074\u001b[0m        \u001b[32m0.0073\u001b[0m  28.5440\n"
     ]
    },
    {
     "data": {
      "application/vnd.jupyter.widget-view+json": {
       "model_id": "",
       "version_major": 2,
       "version_minor": 0
      },
      "text/plain": [
       "HBox(children=(IntProgress(value=0, max=28), HTML(value='')))"
      ]
     },
     "metadata": {},
     "output_type": "display_data"
    },
    {
     "name": "stdout",
     "output_type": "stream",
     "text": [
      "      7        \u001b[36m0.0070\u001b[0m        \u001b[32m0.0070\u001b[0m  28.3965\n"
     ]
    },
    {
     "data": {
      "application/vnd.jupyter.widget-view+json": {
       "model_id": "8bd687a034f445ea89542ca3a3e423a6",
       "version_major": 2,
       "version_minor": 0
      },
      "text/plain": [
       "HBox(children=(IntProgress(value=0, max=28), HTML(value='')))"
      ]
     },
     "metadata": {},
     "output_type": "display_data"
    },
    {
     "data": {
      "text/plain": [
       "<class '__main__.SpeechNet'>[initialized](\n",
       "  module_=DeepSpeech(\n",
       "    (conv): Sequential(\n",
       "      (0): Conv2d(1, 32, kernel_size=(41, 11), stride=(2, 2), padding=(0, 10))\n",
       "      (1): BatchNorm2d(32, eps=1e-05, momentum=0.1, affine=True, track_running_stats=True)\n",
       "      (2): Hardtanh(min_val=0, max_val=20, inplace)\n",
       "      (3): Conv2d(32, 32, kernel_size=(21, 11), stride=(2, 1))\n",
       "      (4): BatchNorm2d(32, eps=1e-05, momentum=0.1, affine=True, track_running_stats=True)\n",
       "      (5): Hardtanh(min_val=0, max_val=20, inplace)\n",
       "    )\n",
       "    (rnns): GRU(672, 10, bias=False)\n",
       "    (fc): Sequential(\n",
       "      (0): RNNExtractor()\n",
       "      (1): SequenceWise (\n",
       "      Linear(in_features=10, out_features=1, bias=True))\n",
       "    )\n",
       "    (inference_softmax): Sigmoid()\n",
       "  ),\n",
       ")"
      ]
     },
     "execution_count": 136,
     "metadata": {},
     "output_type": "execute_result"
    }
   ],
   "source": [
    "%pdb on\n",
    "net.fit(X_comb, y_pad)"
   ]
  },
  {
   "cell_type": "code",
   "execution_count": null,
   "metadata": {},
   "outputs": [],
   "source": []
  },
  {
   "cell_type": "code",
   "execution_count": null,
   "metadata": {},
   "outputs": [],
   "source": []
  },
  {
   "cell_type": "code",
   "execution_count": 137,
   "metadata": {},
   "outputs": [],
   "source": [
    "from skorch.helper import SliceDict"
   ]
  },
  {
   "cell_type": "code",
   "execution_count": 165,
   "metadata": {},
   "outputs": [],
   "source": [
    "targets = y_pad[list(range(len(seq_lens))), seq_lens - 1]"
   ]
  },
  {
   "cell_type": "code",
   "execution_count": 190,
   "metadata": {},
   "outputs": [],
   "source": [
    "where_true = np.where(targets == 1)[0][:2]\n",
    "where_false = np.where(targets == 0)[0][:2]"
   ]
  },
  {
   "cell_type": "code",
   "execution_count": null,
   "metadata": {},
   "outputs": [],
   "source": []
  },
  {
   "cell_type": "code",
   "execution_count": 197,
   "metadata": {},
   "outputs": [],
   "source": [
    "pred_where_true = net.predict_proba(SliceDict(**X_comb)[where_true])\n",
    "pred_where_false = net.predict_proba(SliceDict(**X_comb)[where_false])"
   ]
  },
  {
   "cell_type": "code",
   "execution_count": 198,
   "metadata": {},
   "outputs": [
    {
     "data": {
      "text/plain": [
       "SliceDict(**{'lens': array([112, 150]), 'X': array([[[ 9.039093 , 13.191983 , 12.980769 , ...,  0.       ,\n",
       "          0.       ,  0.       ],\n",
       "        [ 8.538684 , 12.893001 , 14.551824 , ...,  0.       ,\n",
       "          0.       ,  0.       ],\n",
       "        [ 7.3704205, 12.335937 , 15.226274 , ...,  0.       ,\n",
       "          0.       ,  0.       ],\n",
       "        ...,\n",
       "        [ 4.7000933,  8.631623 ,  8.778911 , ...,  0.       ,\n",
       "          0.       ,  0.       ],\n",
       "        [ 4.435214 ,  8.660207 ,  8.742351 , ...,  0.       ,\n",
       "          0.       ,  0.       ],\n",
       "        [ 3.977667 ,  8.559978 ,  8.88186  , ...,  0.       ,\n",
       "          0.       ,  0.       ]],\n",
       "\n",
       "       [[ 5.1243763, 10.000149 , 11.343134 , ...,  0.       ,\n",
       "          0.       ,  0.       ],\n",
       "        [ 6.7059717, 10.578775 , 12.60751  , ...,  0.       ,\n",
       "          0.       ,  0.       ],\n",
       "        [ 5.8380523, 10.350276 , 12.807459 , ...,  0.       ,\n",
       "          0.       ,  0.       ],\n",
       "        ...,\n",
       "        [ 3.9761453,  7.5290995,  7.8088303, ...,  0.       ,\n",
       "          0.       ,  0.       ],\n",
       "        [ 3.7045972,  7.514608 ,  7.7447267, ...,  0.       ,\n",
       "          0.       ,  0.       ],\n",
       "        [ 3.822945 ,  7.7211194,  8.097019 , ...,  0.       ,\n",
       "          0.       ,  0.       ]]], dtype=float32)})"
      ]
     },
     "execution_count": 198,
     "metadata": {},
     "output_type": "execute_result"
    }
   ],
   "source": [
    "SliceDict(**X_comb)[where_true]"
   ]
  },
  {
   "cell_type": "code",
   "execution_count": 200,
   "metadata": {},
   "outputs": [
    {
     "data": {
      "text/plain": [
       "(2, 70, 1)"
      ]
     },
     "execution_count": 200,
     "metadata": {},
     "output_type": "execute_result"
    }
   ],
   "source": [
    "pred_where_true.shape"
   ]
  },
  {
   "cell_type": "code",
   "execution_count": 199,
   "metadata": {},
   "outputs": [
    {
     "ename": "IndexError",
     "evalue": "index 111 is out of bounds for axis 1 with size 70",
     "output_type": "error",
     "traceback": [
      "\u001b[0;31m---------------------------------------------------------------------------\u001b[0m",
      "\u001b[0;31mIndexError\u001b[0m                                Traceback (most recent call last)",
      "\u001b[0;32m<ipython-input-199-0b6892b490ef>\u001b[0m in \u001b[0;36m<module>\u001b[0;34m\u001b[0m\n\u001b[0;32m----> 1\u001b[0;31m \u001b[0mpred_where_true\u001b[0m\u001b[0;34m[\u001b[0m\u001b[0;36m0\u001b[0m\u001b[0;34m,\u001b[0m \u001b[0mseq_lens\u001b[0m\u001b[0;34m[\u001b[0m\u001b[0mwhere_true\u001b[0m\u001b[0;34m[\u001b[0m\u001b[0;36m0\u001b[0m\u001b[0;34m]\u001b[0m\u001b[0;34m]\u001b[0m \u001b[0;34m-\u001b[0m \u001b[0;36m1\u001b[0m\u001b[0;34m]\u001b[0m\u001b[0;34m\u001b[0m\u001b[0m\n\u001b[0m",
      "\u001b[0;31mIndexError\u001b[0m: index 111 is out of bounds for axis 1 with size 70"
     ]
    },
    {
     "name": "stdout",
     "output_type": "stream",
     "text": [
      "> \u001b[0;32m<ipython-input-199-0b6892b490ef>\u001b[0m(1)\u001b[0;36m<module>\u001b[0;34m()\u001b[0m\n",
      "\u001b[0;32m----> 1 \u001b[0;31m\u001b[0mpred_where_true\u001b[0m\u001b[0;34m[\u001b[0m\u001b[0;36m0\u001b[0m\u001b[0;34m,\u001b[0m \u001b[0mseq_lens\u001b[0m\u001b[0;34m[\u001b[0m\u001b[0mwhere_true\u001b[0m\u001b[0;34m[\u001b[0m\u001b[0;36m0\u001b[0m\u001b[0;34m]\u001b[0m\u001b[0;34m]\u001b[0m \u001b[0;34m-\u001b[0m \u001b[0;36m1\u001b[0m\u001b[0;34m]\u001b[0m\u001b[0;34m\u001b[0m\u001b[0m\n",
      "\u001b[0m\n",
      "ipdb> q\n"
     ]
    }
   ],
   "source": [
    "pred_where_true[0, seq_lens[where_true[0]] - 1]"
   ]
  },
  {
   "cell_type": "code",
   "execution_count": 189,
   "metadata": {},
   "outputs": [
    {
     "data": {
      "text/plain": [
       "array([[4.1872063],\n",
       "       [1.5879295],\n",
       "       [8.0309925],\n",
       "       [7.169367 ],\n",
       "       [2.3060193]], dtype=float32)"
      ]
     },
     "execution_count": 189,
     "metadata": {},
     "output_type": "execute_result"
    }
   ],
   "source": [
    "pred_where_false.sum(1)"
   ]
  },
  {
   "cell_type": "code",
   "execution_count": null,
   "metadata": {},
   "outputs": [],
   "source": []
  }
 ],
 "metadata": {
  "kernelspec": {
   "display_name": "Python 3",
   "language": "python",
   "name": "python3"
  },
  "language_info": {
   "codemirror_mode": {
    "name": "ipython",
    "version": 3
   },
   "file_extension": ".py",
   "mimetype": "text/x-python",
   "name": "python",
   "nbconvert_exporter": "python",
   "pygments_lexer": "ipython3",
   "version": "3.6.6"
  }
 },
 "nbformat": 4,
 "nbformat_minor": 2
}
