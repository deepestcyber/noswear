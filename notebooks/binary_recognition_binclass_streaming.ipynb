{
 "cells": [
  {
   "cell_type": "code",
   "execution_count": 1,
   "metadata": {},
   "outputs": [],
   "source": [
    "%matplotlib inline\n",
    "from matplotlib import pyplot as plt\n",
    "import torch\n",
    "import skorch"
   ]
  },
  {
   "cell_type": "code",
   "execution_count": 3,
   "metadata": {},
   "outputs": [],
   "source": [
    "import numpy as np"
   ]
  },
  {
   "cell_type": "code",
   "execution_count": 5,
   "metadata": {},
   "outputs": [
    {
     "name": "stderr",
     "output_type": "stream",
     "text": [
      "/home/nemo/envs/noswear/lib/python3.6/site-packages/torchaudio/backend/utils.py:54: UserWarning: \"sox\" backend is being deprecated. The default backend will be changed to \"sox_io\" backend in 0.8.0 and \"sox\" backend will be removed in 0.9.0. Please migrate to \"sox_io\" backend. Please refer to https://github.com/pytorch/audio/issues/903 for the detail.\n",
      "  '\"sox\" backend is being deprecated. '\n"
     ]
    }
   ],
   "source": [
    "from deepspeech.model import DeepSpeech\n",
    "from deepspeech.data.data_loader import SpectrogramParser"
   ]
  },
  {
   "cell_type": "code",
   "execution_count": 6,
   "metadata": {},
   "outputs": [],
   "source": [
    "from noswear.data import dataset\n",
    "from noswear.utils import filter_low_count_words"
   ]
  },
  {
   "cell_type": "markdown",
   "metadata": {},
   "source": [
    "We are building upon DeepSpeech CNN layers."
   ]
  },
  {
   "cell_type": "code",
   "execution_count": 7,
   "metadata": {},
   "outputs": [],
   "source": [
    "base_model = DeepSpeech.load_model(\n",
    "    '../models/librispeech_pretrained.pth'\n",
    ")\n",
    "audio_conf = DeepSpeech.get_audio_conf(base_model)\n",
    "parser = SpectrogramParser(audio_conf, normalize=True)\n",
    "sampler = dataset.SOXSampler(sample_rate=audio_conf['sample_rate'])"
   ]
  },
  {
   "cell_type": "markdown",
   "metadata": {},
   "source": [
    "We have our own swear/non-swear data, load it."
   ]
  },
  {
   "cell_type": "code",
   "execution_count": 8,
   "metadata": {},
   "outputs": [],
   "source": [
    "ds_swear = dataset.SwearDataset(base_path='../', providers=dataset.DEFAULT_PROVIDERS)"
   ]
  },
  {
   "cell_type": "code",
   "execution_count": 9,
   "metadata": {},
   "outputs": [],
   "source": [
    "X_swear, y_swear = ds_swear.load()"
   ]
  },
  {
   "cell_type": "code",
   "execution_count": 10,
   "metadata": {},
   "outputs": [],
   "source": [
    "ds = dataset.SwearBinaryAudioDataset(X_swear, y_swear, parser, sampler)"
   ]
  },
  {
   "cell_type": "code",
   "execution_count": 11,
   "metadata": {},
   "outputs": [],
   "source": [
    "X, y = ds.load()"
   ]
  },
  {
   "cell_type": "markdown",
   "metadata": {},
   "source": [
    "### Pad data"
   ]
  },
  {
   "cell_type": "code",
   "execution_count": 12,
   "metadata": {},
   "outputs": [
    {
     "data": {
      "text/plain": [
       "(301, 102.18613138686132, 78.0)"
      ]
     },
     "execution_count": 12,
     "metadata": {},
     "output_type": "execute_result"
    }
   ],
   "source": [
    "seq_lens = np.array([x.shape[1] for x in X])\n",
    "max_seq_len = max(seq_lens)\n",
    "max_seq_len, np.mean(seq_lens), np.median(seq_lens)"
   ]
  },
  {
   "cell_type": "code",
   "execution_count": 13,
   "metadata": {},
   "outputs": [],
   "source": [
    "X_pad = np.zeros(\n",
    "    (len(X), X[0].shape[0], max_seq_len), \n",
    "    dtype='float32'\n",
    ")\n",
    "for i, _ in enumerate(X):\n",
    "    X_pad[i, :, :seq_lens[i]] = X[i]\n",
    "    \n",
    "y = np.array(y)"
   ]
  },
  {
   "cell_type": "markdown",
   "metadata": {},
   "source": [
    "### Plotting helper"
   ]
  },
  {
   "cell_type": "code",
   "execution_count": 14,
   "metadata": {},
   "outputs": [],
   "source": [
    "# since we have batched processing, we remove the batch dimension\n",
    "# outputs.shape = (len(X_valid), 4, ?) => (len(X_valid), 4*?)\n",
    "def debatch_indicator_sequences(outputs):\n",
    "    def a():\n",
    "        for _, _, indicator_seqs in outputs:\n",
    "            for seq in indicator_seqs:\n",
    "                yield seq\n",
    "    return list(a())"
   ]
  },
  {
   "cell_type": "code",
   "execution_count": 15,
   "metadata": {},
   "outputs": [],
   "source": [
    "def plot_seq_base(indicator_sequence, clogit, fpath):\n",
    "    swear = clogit >= 0.5\n",
    "    title = f\"{fpath} - swear: {swear}\"\n",
    "    \n",
    "    plt.title(title)\n",
    "    plt.plot(indicator_sequence)\n",
    "    plt.legend(['indic. neuron'])\n",
    "    \n",
    "def plot_seq(i):\n",
    "    sequence = indicator_sequences[i]\n",
    "    clogit = class_log[i]\n",
    "    fpath = np.array(X_swear)[valid_idcs][i][1]\n",
    "    \n",
    "    plot_seq_base(sequence, clogit, fpath)"
   ]
  },
  {
   "cell_type": "markdown",
   "metadata": {},
   "source": [
    "### Make data sliceable, load model"
   ]
  },
  {
   "cell_type": "code",
   "execution_count": 16,
   "metadata": {},
   "outputs": [],
   "source": [
    "from skorch.helper import SliceDict"
   ]
  },
  {
   "cell_type": "code",
   "execution_count": 17,
   "metadata": {},
   "outputs": [],
   "source": [
    "X_train = {'lens': seq_lens, 'X': X_pad}\n",
    "y_train = np.array(y).astype('float32')\n",
    "X_slable = SliceDict(**X_train)"
   ]
  },
  {
   "cell_type": "code",
   "execution_count": 18,
   "metadata": {},
   "outputs": [],
   "source": [
    "from noswear.model import load_model"
   ]
  },
  {
   "cell_type": "code",
   "execution_count": 19,
   "metadata": {},
   "outputs": [],
   "source": [
    "net = load_model(base_model, {'f_pickle': 'model_val_acc_best.pkl'})"
   ]
  },
  {
   "cell_type": "markdown",
   "metadata": {},
   "source": [
    "### let's test streaming manually\n",
    "\n",
    "the idea is that we chunk the data and feed it step by step to the model. we expect the chunk-feeding to have approx. the same result as if we feed the data in one big chunk."
   ]
  },
  {
   "cell_type": "code",
   "execution_count": 125,
   "metadata": {},
   "outputs": [],
   "source": [
    "def step(memory, net, subject, N, i=None):\n",
    "    if i is None:\n",
    "        assert memory\n",
    "        i = len(memory)\n",
    "\n",
    "    if i == 0:\n",
    "        assert not memory\n",
    "        X_new_i = {\n",
    "            'lens': [N],\n",
    "            'X': subject['X'][:, :, 0:N],\n",
    "        }\n",
    "    else:\n",
    "        X_new_i = {\n",
    "            'lens': [N + N//2],\n",
    "            'X': subject['X'][:, :, N*i - N//2:N*(i+1)],\n",
    "            'h0': memory[-1]['hXs'],\n",
    "            'c0': memory[-1]['cXs'],\n",
    "        }\n",
    "    print(f'step {i}: {N*(i+1)} of', subject['lens'][0])\n",
    "    \n",
    "    (ys, inds, indss, hXs, cXs) = list(net.forward_iter(X_new_i))[0]\n",
    "    memory.append({'X': X_new_i, 'hXs': hXs, 'cXs': cXs})\n",
    "    \n",
    "    return ys, torch.sigmoid(ys[0])>=0.5, inds"
   ]
  },
  {
   "cell_type": "markdown",
   "metadata": {},
   "source": [
    "We test this manually by stepping through one specific sample:"
   ]
  },
  {
   "cell_type": "code",
   "execution_count": 155,
   "metadata": {},
   "outputs": [],
   "source": [
    "idx = slice(0, 1)\n",
    "subject = X_slable[idx]\n",
    "N = 40\n",
    "memory = []"
   ]
  },
  {
   "cell_type": "code",
   "execution_count": 156,
   "metadata": {},
   "outputs": [
    {
     "data": {
      "text/plain": [
       "(array([184]), array([0.], dtype=float32), array([0], dtype=uint8))"
      ]
     },
     "execution_count": 156,
     "metadata": {},
     "output_type": "execute_result"
    }
   ],
   "source": [
    "subject['lens'], y_train[idx], net.predict(subject)"
   ]
  },
  {
   "cell_type": "code",
   "execution_count": 157,
   "metadata": {},
   "outputs": [
    {
     "name": "stdout",
     "output_type": "stream",
     "text": [
      "step 0: 40 of 184\n"
     ]
    },
    {
     "data": {
      "text/plain": [
       "(tensor([-0.0773]), tensor(False), tensor([0.2351]))"
      ]
     },
     "execution_count": 157,
     "metadata": {},
     "output_type": "execute_result"
    }
   ],
   "source": [
    "step(memory, net, subject, N, i=0)"
   ]
  },
  {
   "cell_type": "code",
   "execution_count": 158,
   "metadata": {},
   "outputs": [
    {
     "name": "stdout",
     "output_type": "stream",
     "text": [
      "step 1: 80 of 184\n"
     ]
    },
    {
     "data": {
      "text/plain": [
       "(tensor([-0.3900]), tensor(False), tensor([0.9062]))"
      ]
     },
     "execution_count": 158,
     "metadata": {},
     "output_type": "execute_result"
    }
   ],
   "source": [
    "step(memory, net, subject, N)"
   ]
  },
  {
   "cell_type": "code",
   "execution_count": 159,
   "metadata": {},
   "outputs": [
    {
     "name": "stdout",
     "output_type": "stream",
     "text": [
      "step 2: 120 of 184\n"
     ]
    },
    {
     "data": {
      "text/plain": [
       "(tensor([-0.0624]), tensor(False), tensor([0.1351]))"
      ]
     },
     "execution_count": 159,
     "metadata": {},
     "output_type": "execute_result"
    }
   ],
   "source": [
    "step(memory, net, subject, N)"
   ]
  },
  {
   "cell_type": "code",
   "execution_count": 160,
   "metadata": {},
   "outputs": [
    {
     "name": "stdout",
     "output_type": "stream",
     "text": [
      "step 3: 160 of 184\n"
     ]
    },
    {
     "data": {
      "text/plain": [
       "(tensor([-0.0775]), tensor(False), tensor([0.0610]))"
      ]
     },
     "execution_count": 160,
     "metadata": {},
     "output_type": "execute_result"
    }
   ],
   "source": [
    "step(memory, net, subject, N)"
   ]
  },
  {
   "cell_type": "code",
   "execution_count": 161,
   "metadata": {},
   "outputs": [
    {
     "name": "stdout",
     "output_type": "stream",
     "text": [
      "step 4: 200 of 184\n"
     ]
    },
    {
     "data": {
      "text/plain": [
       "(tensor([-0.0785]), tensor(False), tensor([0.0635]))"
      ]
     },
     "execution_count": 161,
     "metadata": {},
     "output_type": "execute_result"
    }
   ],
   "source": [
    "step(memory, net, subject, N)"
   ]
  },
  {
   "cell_type": "markdown",
   "metadata": {},
   "source": [
    "This looks good, we can automate the stepping now."
   ]
  },
  {
   "cell_type": "code",
   "execution_count": 177,
   "metadata": {},
   "outputs": [],
   "source": [
    "def run_steps(net, subject, N):\n",
    "    memory = []\n",
    "    \n",
    "    max_len = subject['lens'][0]\n",
    "    num_steps = (max_len // N)+1\n",
    "    results = {'y': [], 'p': [], 'ind': []}\n",
    "    \n",
    "    for i in range(num_steps):\n",
    "        ys, p, ind = step(memory, net, subject, N, i)\n",
    "        results['y'].append(ys[0])\n",
    "        results['p'].append(p)\n",
    "        results['ind'].append(ind[0])\n",
    "    \n",
    "    d_idx = np.argmax(results['ind'])\n",
    "    print('indicators:', results['ind'])\n",
    "    return results['p'][d_idx], d_idx"
   ]
  },
  {
   "cell_type": "markdown",
   "metadata": {},
   "source": [
    "Let's do some runs with automated stepping and see if it is working anecdotally."
   ]
  },
  {
   "cell_type": "markdown",
   "metadata": {},
   "source": [
    "---"
   ]
  },
  {
   "cell_type": "code",
   "execution_count": 205,
   "metadata": {},
   "outputs": [
    {
     "name": "stdout",
     "output_type": "stream",
     "text": [
      "expected:  [0.]\n",
      "non-streaming result:  [0]\n"
     ]
    }
   ],
   "source": [
    "idx = slice(0, 1)\n",
    "subject = X_slable[idx]\n",
    "print('expected: ', y_train[idx])\n",
    "print('non-streaming result: ', net.predict(subject))"
   ]
  },
  {
   "cell_type": "code",
   "execution_count": 206,
   "metadata": {
    "scrolled": true
   },
   "outputs": [
    {
     "name": "stdout",
     "output_type": "stream",
     "text": [
      "step 0: 40 of 184\n",
      "step 1: 80 of 184\n",
      "step 2: 120 of 184\n",
      "step 3: 160 of 184\n",
      "step 4: 200 of 184\n",
      "indicators: [tensor(0.2351), tensor(0.9062), tensor(0.1351), tensor(0.0610), tensor(0.0635)]\n",
      "streaming result (idx=1): 0\n"
     ]
    }
   ],
   "source": [
    "y, idx = run_steps(net, subject, N)\n",
    "print(f'streaming result (idx={idx}): {y:d}')"
   ]
  },
  {
   "cell_type": "markdown",
   "metadata": {},
   "source": [
    "---"
   ]
  },
  {
   "cell_type": "code",
   "execution_count": 225,
   "metadata": {},
   "outputs": [
    {
     "name": "stdout",
     "output_type": "stream",
     "text": [
      "expected:  [0.]\n",
      "non-streaming result:  [1]\n"
     ]
    }
   ],
   "source": [
    "idx = slice(1, 2)\n",
    "subject = X_slable[idx]\n",
    "print('expected: ', y_train[idx])\n",
    "print('non-streaming result: ', net.predict(subject))"
   ]
  },
  {
   "cell_type": "code",
   "execution_count": 226,
   "metadata": {
    "scrolled": true
   },
   "outputs": [
    {
     "name": "stdout",
     "output_type": "stream",
     "text": [
      "step 0: 40 of 177\n",
      "step 1: 80 of 177\n",
      "step 2: 120 of 177\n",
      "step 3: 160 of 177\n",
      "step 4: 200 of 177\n",
      "indicators: [tensor(0.0604), tensor(0.8278), tensor(0.8695), tensor(0.1022), tensor(0.0630)]\n",
      "streaming result (idx=2): 1\n"
     ]
    }
   ],
   "source": [
    "y, idx = run_steps(net, subject, N)\n",
    "print(f'streaming result (idx={idx}): {y:d}')"
   ]
  },
  {
   "cell_type": "markdown",
   "metadata": {},
   "source": [
    "---"
   ]
  },
  {
   "cell_type": "code",
   "execution_count": 227,
   "metadata": {},
   "outputs": [
    {
     "name": "stdout",
     "output_type": "stream",
     "text": [
      "expected:  [0.]\n",
      "non-streaming result:  [0]\n"
     ]
    }
   ],
   "source": [
    "idx = slice(3, 4)\n",
    "subject = X_slable[idx]\n",
    "print('expected: ', y_train[idx])\n",
    "print('non-streaming result: ', net.predict(subject))"
   ]
  },
  {
   "cell_type": "code",
   "execution_count": 228,
   "metadata": {
    "scrolled": false
   },
   "outputs": [
    {
     "name": "stdout",
     "output_type": "stream",
     "text": [
      "step 0: 40 of 112\n",
      "step 1: 80 of 112\n",
      "step 2: 120 of 112\n",
      "indicators: [tensor(0.1142), tensor(0.5524), tensor(0.2936)]\n",
      "streaming result (idx=1): 0\n"
     ]
    }
   ],
   "source": [
    "y, idx = run_steps(net, subject, N)\n",
    "print(f'streaming result (idx={idx}): {y:d}')"
   ]
  },
  {
   "cell_type": "markdown",
   "metadata": {},
   "source": [
    "---"
   ]
  },
  {
   "cell_type": "markdown",
   "metadata": {},
   "source": [
    "Now that we know that some samples looked good, we can compare streaming results for the whole data set."
   ]
  },
  {
   "cell_type": "code",
   "execution_count": 215,
   "metadata": {},
   "outputs": [],
   "source": [
    "y_static = net.predict(X_slable)"
   ]
  },
  {
   "cell_type": "code",
   "execution_count": 216,
   "metadata": {},
   "outputs": [
    {
     "name": "stdout",
     "output_type": "stream",
     "text": [
      "step 0: 40 of 184\n",
      "step 1: 80 of 184\n",
      "step 2: 120 of 184\n",
      "step 3: 160 of 184\n",
      "step 4: 200 of 184\n",
      "indicators: [tensor(0.2351), tensor(0.9062), tensor(0.1351), tensor(0.0610), tensor(0.0635)]\n",
      "step 0: 40 of 177\n",
      "step 1: 80 of 177\n",
      "step 2: 120 of 177\n",
      "step 3: 160 of 177\n",
      "step 4: 200 of 177\n",
      "indicators: [tensor(0.0604), tensor(0.8278), tensor(0.8695), tensor(0.1022), tensor(0.0630)]\n",
      "step 0: 40 of 76\n",
      "step 1: 80 of 76\n",
      "indicators: [tensor(0.7202), tensor(0.4332)]\n",
      "step 0: 40 of 112\n",
      "step 1: 80 of 112\n",
      "step 2: 120 of 112\n",
      "indicators: [tensor(0.1142), tensor(0.5524), tensor(0.2936)]\n",
      "step 0: 40 of 51\n",
      "step 1: 80 of 51\n",
      "indicators: [tensor(0.0125), tensor(0.0819)]\n",
      "step 0: 40 of 65\n",
      "step 1: 80 of 65\n",
      "indicators: [tensor(-0.2107), tensor(0.0583)]\n",
      "step 0: 40 of 62\n",
      "step 1: 80 of 62\n",
      "indicators: [tensor(0.0571), tensor(0.0587)]\n",
      "step 0: 40 of 58\n",
      "step 1: 80 of 58\n",
      "indicators: [tensor(-0.1626), tensor(0.0430)]\n",
      "step 0: 40 of 51\n",
      "step 1: 80 of 51\n",
      "indicators: [tensor(0.1388), tensor(0.0723)]\n",
      "step 0: 40 of 227\n",
      "step 1: 80 of 227\n",
      "step 2: 120 of 227\n",
      "step 3: 160 of 227\n",
      "step 4: 200 of 227\n",
      "step 5: 240 of 227\n",
      "indicators: [tensor(0.9038), tensor(0.7763), tensor(0.4035), tensor(0.1717), tensor(0.1440), tensor(0.1317)]\n",
      "step 0: 40 of 242\n",
      "step 1: 80 of 242\n",
      "step 2: 120 of 242\n",
      "step 3: 160 of 242\n",
      "step 4: 200 of 242\n",
      "step 5: 240 of 242\n",
      "step 6: 280 of 242\n",
      "indicators: [tensor(0.1479), tensor(0.7646), tensor(0.2007), tensor(0.1900), tensor(0.1085), tensor(0.1982), tensor(0.0779)]\n",
      "step 0: 40 of 65\n",
      "step 1: 80 of 65\n",
      "indicators: [tensor(0.9046), tensor(0.2292)]\n",
      "step 0: 40 of 184\n",
      "step 1: 80 of 184\n",
      "step 2: 120 of 184\n",
      "step 3: 160 of 184\n",
      "step 4: 200 of 184\n",
      "indicators: [tensor(-0.4367), tensor(0.6219), tensor(0.0648), tensor(0.0600), tensor(0.0985)]\n",
      "step 0: 40 of 51\n",
      "step 1: 80 of 51\n",
      "indicators: [tensor(0.2901), tensor(0.1050)]\n",
      "step 0: 40 of 42\n",
      "step 1: 80 of 42\n",
      "indicators: [tensor(0.3163), tensor(0.0872)]\n",
      "step 0: 40 of 127\n",
      "step 1: 80 of 127\n",
      "step 2: 120 of 127\n",
      "step 3: 160 of 127\n",
      "indicators: [tensor(0.0606), tensor(0.5058), tensor(0.3294), tensor(0.0669)]\n",
      "step 0: 40 of 245\n",
      "step 1: 80 of 245\n",
      "step 2: 120 of 245\n",
      "step 3: 160 of 245\n",
      "step 4: 200 of 245\n",
      "step 5: 240 of 245\n",
      "step 6: 280 of 245\n",
      "indicators: [tensor(0.0602), tensor(0.0584), tensor(0.8759), tensor(0.2239), tensor(0.0603), tensor(0.0603), tensor(0.0631)]\n",
      "step 0: 40 of 163\n",
      "step 1: 80 of 163\n",
      "step 2: 120 of 163\n",
      "step 3: 160 of 163\n",
      "step 4: 200 of 163\n",
      "indicators: [tensor(0.3406), tensor(0.0900), tensor(0.0609), tensor(0.0608), tensor(0.0632)]\n",
      "step 0: 40 of 58\n",
      "step 1: 80 of 58\n",
      "indicators: [tensor(-0.0715), tensor(0.2988)]\n",
      "step 0: 40 of 109\n",
      "step 1: 80 of 109\n",
      "step 2: 120 of 109\n",
      "indicators: [tensor(0.0459), tensor(0.0768), tensor(0.6325)]\n",
      "step 0: 40 of 58\n",
      "step 1: 80 of 58\n",
      "indicators: [tensor(0.2383), tensor(0.4141)]\n",
      "step 0: 40 of 130\n",
      "step 1: 80 of 130\n",
      "step 2: 120 of 130\n",
      "step 3: 160 of 130\n",
      "indicators: [tensor(0.5592), tensor(0.5535), tensor(0.1036), tensor(0.0645)]\n",
      "step 0: 40 of 148\n",
      "step 1: 80 of 148\n",
      "step 2: 120 of 148\n",
      "step 3: 160 of 148\n",
      "indicators: [tensor(0.0618), tensor(0.5939), tensor(0.2598), tensor(0.1010)]\n",
      "step 0: 40 of 188\n",
      "step 1: 80 of 188\n",
      "step 2: 120 of 188\n",
      "step 3: 160 of 188\n",
      "step 4: 200 of 188\n",
      "indicators: [tensor(-0.0148), tensor(0.6859), tensor(0.5766), tensor(0.1135), tensor(0.0911)]\n",
      "step 0: 40 of 83\n",
      "step 1: 80 of 83\n",
      "step 2: 120 of 83\n",
      "indicators: [tensor(0.1966), tensor(0.2718), tensor(0.0893)]\n",
      "step 0: 40 of 130\n",
      "step 1: 80 of 130\n",
      "step 2: 120 of 130\n",
      "step 3: 160 of 130\n",
      "indicators: [tensor(0.0604), tensor(0.6671), tensor(0.1813), tensor(0.0644)]\n",
      "step 0: 40 of 245\n",
      "step 1: 80 of 245\n",
      "step 2: 120 of 245\n",
      "step 3: 160 of 245\n",
      "step 4: 200 of 245\n",
      "step 5: 240 of 245\n",
      "step 6: 280 of 245\n",
      "indicators: [tensor(0.1477), tensor(0.5265), tensor(0.1361), tensor(0.0996), tensor(0.0952), tensor(0.0928), tensor(0.0725)]\n",
      "step 0: 40 of 44\n",
      "step 1: 80 of 44\n",
      "indicators: [tensor(0.2841), tensor(0.1272)]\n",
      "step 0: 40 of 141\n",
      "step 1: 80 of 141\n",
      "step 2: 120 of 141\n",
      "step 3: 160 of 141\n",
      "indicators: [tensor(0.0597), tensor(0.7616), tensor(0.1385), tensor(0.0723)]\n",
      "step 0: 40 of 195\n",
      "step 1: 80 of 195\n",
      "step 2: 120 of 195\n",
      "step 3: 160 of 195\n",
      "step 4: 200 of 195\n",
      "indicators: [tensor(0.0603), tensor(0.2761), tensor(0.2766), tensor(0.0628), tensor(0.0597)]\n",
      "step 0: 40 of 299\n",
      "step 1: 80 of 299\n",
      "step 2: 120 of 299\n",
      "step 3: 160 of 299\n",
      "step 4: 200 of 299\n",
      "step 5: 240 of 299\n",
      "step 6: 280 of 299\n",
      "step 7: 320 of 299\n",
      "indicators: [tensor(0.0607), tensor(0.0608), tensor(0.0608), tensor(0.2484), tensor(0.2682), tensor(0.0610), tensor(0.0608), tensor(0.0605)]\n",
      "step 0: 40 of 73\n",
      "step 1: 80 of 73\n",
      "indicators: [tensor(0.3683), tensor(0.5827)]\n",
      "step 0: 40 of 58\n",
      "step 1: 80 of 58\n",
      "indicators: [tensor(0.1971), tensor(0.0548)]\n",
      "step 0: 40 of 58\n",
      "step 1: 80 of 58\n",
      "indicators: [tensor(0.0714), tensor(0.1610)]\n",
      "step 0: 40 of 112\n",
      "step 1: 80 of 112\n",
      "step 2: 120 of 112\n",
      "indicators: [tensor(0.0897), tensor(0.4524), tensor(0.1273)]\n",
      "step 0: 40 of 123\n",
      "step 1: 80 of 123\n",
      "step 2: 120 of 123\n",
      "step 3: 160 of 123\n",
      "indicators: [tensor(0.1372), tensor(0.2247), tensor(0.1081), tensor(0.0735)]\n",
      "step 0: 40 of 98\n",
      "step 1: 80 of 98\n",
      "step 2: 120 of 98\n",
      "indicators: [tensor(0.8406), tensor(0.4093), tensor(0.0838)]\n",
      "step 0: 40 of 76\n",
      "step 1: 80 of 76\n",
      "indicators: [tensor(0.6770), tensor(0.2375)]\n",
      "step 0: 40 of 69\n",
      "step 1: 80 of 69\n",
      "indicators: [tensor(0.1858), tensor(0.0633)]\n",
      "step 0: 40 of 109\n",
      "step 1: 80 of 109\n",
      "step 2: 120 of 109\n",
      "indicators: [tensor(0.1086), tensor(0.9771), tensor(0.0979)]\n",
      "step 0: 40 of 91\n",
      "step 1: 80 of 91\n",
      "step 2: 120 of 91\n",
      "indicators: [tensor(0.5867), tensor(0.5471), tensor(0.0758)]\n",
      "step 0: 40 of 55\n",
      "step 1: 80 of 55\n",
      "indicators: [tensor(0.3034), tensor(0.0678)]\n",
      "step 0: 40 of 173\n",
      "step 1: 80 of 173\n",
      "step 2: 120 of 173\n",
      "step 3: 160 of 173\n",
      "step 4: 200 of 173\n",
      "indicators: [tensor(0.0167), tensor(0.1859), tensor(0.8963), tensor(0.2230), tensor(0.1363)]\n",
      "step 0: 40 of 47\n",
      "step 1: 80 of 47\n",
      "indicators: [tensor(0.5213), tensor(0.0622)]\n",
      "step 0: 40 of 73\n",
      "step 1: 80 of 73\n",
      "indicators: [tensor(-0.1170), tensor(0.4661)]\n",
      "step 0: 40 of 184\n",
      "step 1: 80 of 184\n",
      "step 2: 120 of 184\n",
      "step 3: 160 of 184\n",
      "step 4: 200 of 184\n",
      "indicators: [tensor(0.2866), tensor(0.2589), tensor(0.0619), tensor(0.0621), tensor(0.0637)]\n",
      "step 0: 40 of 69\n",
      "step 1: 80 of 69\n",
      "indicators: [tensor(0.7318), tensor(0.7111)]\n",
      "step 0: 40 of 134\n",
      "step 1: 80 of 134\n",
      "step 2: 120 of 134\n",
      "step 3: 160 of 134\n",
      "indicators: [tensor(0.1371), tensor(0.1968), tensor(0.7487), tensor(0.0708)]\n",
      "step 0: 40 of 62\n",
      "step 1: 80 of 62\n",
      "indicators: [tensor(0.1946), tensor(0.1467)]\n",
      "step 0: 40 of 206\n",
      "step 1: 80 of 206\n",
      "step 2: 120 of 206\n",
      "step 3: 160 of 206\n",
      "step 4: 200 of 206\n",
      "step 5: 240 of 206\n",
      "indicators: [tensor(0.9471), tensor(0.4457), tensor(0.0799), tensor(0.0753), tensor(0.1537), tensor(0.0829)]\n",
      "step 0: 40 of 58\n",
      "step 1: 80 of 58\n",
      "indicators: [tensor(0.3969), tensor(0.9333)]\n",
      "step 0: 40 of 65\n",
      "step 1: 80 of 65\n",
      "indicators: [tensor(0.1521), tensor(0.4959)]\n",
      "step 0: 40 of 62\n",
      "step 1: 80 of 62\n",
      "indicators: [tensor(0.1055), tensor(0.0680)]\n",
      "step 0: 40 of 83\n",
      "step 1: 80 of 83\n",
      "step 2: 120 of 83\n",
      "indicators: [tensor(0.9497), tensor(0.6763), tensor(0.0628)]\n",
      "step 0: 40 of 166\n",
      "step 1: 80 of 166\n",
      "step 2: 120 of 166\n",
      "step 3: 160 of 166\n",
      "step 4: 200 of 166\n",
      "indicators: [tensor(0.6338), tensor(0.8240), tensor(0.0854), tensor(0.2172), tensor(0.0829)]\n",
      "step 0: 40 of 101\n",
      "step 1: 80 of 101\n",
      "step 2: 120 of 101\n",
      "indicators: [tensor(0.4457), tensor(0.4798), tensor(0.1064)]\n",
      "step 0: 40 of 130\n",
      "step 1: 80 of 130\n",
      "step 2: 120 of 130\n",
      "step 3: 160 of 130\n",
      "indicators: [tensor(0.0605), tensor(0.2961), tensor(0.4192), tensor(0.0633)]\n",
      "step 0: 40 of 141\n",
      "step 1: 80 of 141\n",
      "step 2: 120 of 141\n",
      "step 3: 160 of 141\n",
      "indicators: [tensor(0.0610), tensor(0.7314), tensor(0.4730), tensor(0.0651)]\n",
      "step 0: 40 of 177\n",
      "step 1: 80 of 177\n",
      "step 2: 120 of 177\n",
      "step 3: 160 of 177\n",
      "step 4: 200 of 177\n",
      "indicators: [tensor(0.0468), tensor(0.3793), tensor(0.6733), tensor(0.0490), tensor(0.0633)]\n",
      "step 0: 40 of 101\n",
      "step 1: 80 of 101\n",
      "step 2: 120 of 101\n",
      "indicators: [tensor(0.0352), tensor(0.9419), tensor(0.2252)]\n",
      "step 0: 40 of 109\n",
      "step 1: 80 of 109\n",
      "step 2: 120 of 109\n",
      "indicators: [tensor(0.1831), tensor(0.7075), tensor(0.0601)]\n",
      "step 0: 40 of 55\n",
      "step 1: 80 of 55\n",
      "indicators: [tensor(0.1615), tensor(0.0650)]\n",
      "step 0: 40 of 51\n",
      "step 1: 80 of 51\n",
      "indicators: [tensor(0.3301), tensor(0.0947)]\n",
      "step 0: 40 of 44\n",
      "step 1: 80 of 44\n",
      "indicators: [tensor(0.6097), tensor(0.1627)]\n",
      "step 0: 40 of 145\n",
      "step 1: 80 of 145\n",
      "step 2: 120 of 145\n",
      "step 3: 160 of 145\n",
      "indicators: [tensor(0.1317), tensor(0.1499), tensor(0.9151), tensor(0.1018)]\n",
      "step 0: 40 of 37\n",
      "indicators: [tensor(-0.1287)]\n",
      "step 0: 40 of 69\n",
      "step 1: 80 of 69\n",
      "indicators: [tensor(0.1549), tensor(0.2947)]\n",
      "step 0: 40 of 40\n",
      "step 1: 80 of 40\n"
     ]
    },
    {
     "name": "stdout",
     "output_type": "stream",
     "text": [
      "indicators: [tensor(-0.2084), tensor(0.0828)]\n",
      "step 0: 40 of 213\n",
      "step 1: 80 of 213\n",
      "step 2: 120 of 213\n",
      "step 3: 160 of 213\n",
      "step 4: 200 of 213\n",
      "step 5: 240 of 213\n",
      "indicators: [tensor(0.3454), tensor(0.1240), tensor(0.1764), tensor(0.1790), tensor(0.1605), tensor(0.1754)]\n",
      "step 0: 40 of 101\n",
      "step 1: 80 of 101\n",
      "step 2: 120 of 101\n",
      "indicators: [tensor(0.4336), tensor(0.6623), tensor(0.0871)]\n",
      "step 0: 40 of 62\n",
      "step 1: 80 of 62\n",
      "indicators: [tensor(0.1149), tensor(0.1105)]\n",
      "step 0: 40 of 73\n",
      "step 1: 80 of 73\n",
      "indicators: [tensor(-0.1979), tensor(0.2562)]\n",
      "step 0: 40 of 62\n",
      "step 1: 80 of 62\n",
      "indicators: [tensor(0.1280), tensor(0.5709)]\n",
      "step 0: 40 of 55\n",
      "step 1: 80 of 55\n",
      "indicators: [tensor(0.0055), tensor(0.0906)]\n",
      "step 0: 40 of 58\n",
      "step 1: 80 of 58\n",
      "indicators: [tensor(-0.0715), tensor(0.0613)]\n",
      "step 0: 40 of 55\n",
      "step 1: 80 of 55\n",
      "indicators: [tensor(-0.0256), tensor(0.0593)]\n",
      "step 0: 40 of 33\n",
      "indicators: [tensor(-0.2855)]\n",
      "step 0: 40 of 141\n",
      "step 1: 80 of 141\n",
      "step 2: 120 of 141\n",
      "step 3: 160 of 141\n",
      "indicators: [tensor(0.9709), tensor(0.4275), tensor(0.2201), tensor(0.1864)]\n",
      "step 0: 40 of 40\n",
      "step 1: 80 of 40\n",
      "indicators: [tensor(-0.4599), tensor(0.0620)]\n",
      "step 0: 40 of 47\n",
      "step 1: 80 of 47\n",
      "indicators: [tensor(-0.1483), tensor(0.1768)]\n",
      "step 0: 40 of 163\n",
      "step 1: 80 of 163\n",
      "step 2: 120 of 163\n",
      "step 3: 160 of 163\n",
      "step 4: 200 of 163\n",
      "indicators: [tensor(0.3995), tensor(0.2037), tensor(0.0567), tensor(0.0735), tensor(0.0634)]\n",
      "step 0: 40 of 55\n",
      "step 1: 80 of 55\n",
      "indicators: [tensor(0.3982), tensor(0.0595)]\n",
      "step 0: 40 of 29\n",
      "indicators: [tensor(0.0472)]\n",
      "step 0: 40 of 58\n",
      "step 1: 80 of 58\n",
      "indicators: [tensor(0.5210), tensor(0.1599)]\n",
      "step 0: 40 of 44\n",
      "step 1: 80 of 44\n",
      "indicators: [tensor(-0.2992), tensor(0.0622)]\n",
      "step 0: 40 of 65\n",
      "step 1: 80 of 65\n",
      "indicators: [tensor(0.2942), tensor(0.3081)]\n",
      "step 0: 40 of 163\n",
      "step 1: 80 of 163\n",
      "step 2: 120 of 163\n",
      "step 3: 160 of 163\n",
      "step 4: 200 of 163\n",
      "indicators: [tensor(-0.0011), tensor(0.0610), tensor(0.0613), tensor(0.1049), tensor(0.0622)]\n",
      "step 0: 40 of 123\n",
      "step 1: 80 of 123\n",
      "step 2: 120 of 123\n",
      "step 3: 160 of 123\n",
      "indicators: [tensor(0.3009), tensor(0.5820), tensor(0.0467), tensor(0.0805)]\n",
      "step 0: 40 of 73\n",
      "step 1: 80 of 73\n",
      "indicators: [tensor(0.5177), tensor(0.3366)]\n",
      "step 0: 40 of 62\n",
      "step 1: 80 of 62\n",
      "indicators: [tensor(0.6039), tensor(0.3413)]\n",
      "step 0: 40 of 159\n",
      "step 1: 80 of 159\n",
      "step 2: 120 of 159\n",
      "step 3: 160 of 159\n",
      "indicators: [tensor(0.0806), tensor(0.7077), tensor(0.2980), tensor(0.0600)]\n",
      "step 0: 40 of 130\n",
      "step 1: 80 of 130\n",
      "step 2: 120 of 130\n",
      "step 3: 160 of 130\n",
      "indicators: [tensor(0.0606), tensor(0.6472), tensor(0.1452), tensor(0.0636)]\n",
      "step 0: 40 of 44\n",
      "step 1: 80 of 44\n",
      "indicators: [tensor(0.1515), tensor(0.1030)]\n",
      "step 0: 40 of 116\n",
      "step 1: 80 of 116\n",
      "step 2: 120 of 116\n",
      "indicators: [tensor(0.8631), tensor(0.3333), tensor(0.2080)]\n",
      "step 0: 40 of 69\n",
      "step 1: 80 of 69\n",
      "indicators: [tensor(0.2943), tensor(0.1142)]\n",
      "step 0: 40 of 47\n",
      "step 1: 80 of 47\n",
      "indicators: [tensor(-0.0391), tensor(0.1603)]\n",
      "step 0: 40 of 62\n",
      "step 1: 80 of 62\n",
      "indicators: [tensor(0.4042), tensor(0.0618)]\n",
      "step 0: 40 of 55\n",
      "step 1: 80 of 55\n",
      "indicators: [tensor(0.3370), tensor(0.0984)]\n",
      "step 0: 40 of 101\n",
      "step 1: 80 of 101\n",
      "step 2: 120 of 101\n",
      "indicators: [tensor(0.1261), tensor(0.2602), tensor(0.2139)]\n",
      "step 0: 40 of 62\n",
      "step 1: 80 of 62\n",
      "indicators: [tensor(0.6306), tensor(0.0627)]\n",
      "step 0: 40 of 116\n",
      "step 1: 80 of 116\n",
      "step 2: 120 of 116\n",
      "indicators: [tensor(0.0590), tensor(0.8500), tensor(0.0607)]\n",
      "step 0: 40 of 101\n",
      "step 1: 80 of 101\n",
      "step 2: 120 of 101\n",
      "indicators: [tensor(0.2411), tensor(0.9804), tensor(0.0837)]\n",
      "step 0: 40 of 188\n",
      "step 1: 80 of 188\n",
      "step 2: 120 of 188\n",
      "step 3: 160 of 188\n",
      "step 4: 200 of 188\n",
      "indicators: [tensor(0.0704), tensor(0.2628), tensor(0.6297), tensor(0.0878), tensor(0.0617)]\n",
      "step 0: 40 of 73\n",
      "step 1: 80 of 73\n",
      "indicators: [tensor(0.5869), tensor(-0.0018)]\n",
      "step 0: 40 of 62\n",
      "step 1: 80 of 62\n",
      "indicators: [tensor(0.2613), tensor(0.0599)]\n",
      "step 0: 40 of 145\n",
      "step 1: 80 of 145\n",
      "step 2: 120 of 145\n",
      "step 3: 160 of 145\n",
      "indicators: [tensor(0.2715), tensor(0.2650), tensor(0.0678), tensor(0.0636)]\n",
      "step 0: 40 of 152\n",
      "step 1: 80 of 152\n",
      "step 2: 120 of 152\n",
      "step 3: 160 of 152\n",
      "indicators: [tensor(-0.1338), tensor(0.7447), tensor(0.0236), tensor(0.1679)]\n",
      "step 0: 40 of 206\n",
      "step 1: 80 of 206\n",
      "step 2: 120 of 206\n",
      "step 3: 160 of 206\n",
      "step 4: 200 of 206\n",
      "step 5: 240 of 206\n",
      "indicators: [tensor(0.8519), tensor(0.4980), tensor(0.1754), tensor(0.0687), tensor(0.0692), tensor(0.0628)]\n",
      "step 0: 40 of 55\n",
      "step 1: 80 of 55\n",
      "indicators: [tensor(0.0977), tensor(0.0921)]\n",
      "step 0: 40 of 116\n",
      "step 1: 80 of 116\n",
      "step 2: 120 of 116\n",
      "indicators: [tensor(0.2508), tensor(0.5659), tensor(0.0823)]\n",
      "step 0: 40 of 130\n",
      "step 1: 80 of 130\n",
      "step 2: 120 of 130\n",
      "step 3: 160 of 130\n",
      "indicators: [tensor(0.0599), tensor(0.3928), tensor(0.5152), tensor(0.0629)]\n",
      "step 0: 40 of 141\n",
      "step 1: 80 of 141\n",
      "step 2: 120 of 141\n",
      "step 3: 160 of 141\n",
      "indicators: [tensor(0.1328), tensor(0.1135), tensor(0.1670), tensor(0.0628)]\n",
      "step 0: 40 of 51\n",
      "step 1: 80 of 51\n",
      "indicators: [tensor(0.3335), tensor(0.1981)]\n",
      "step 0: 40 of 58\n",
      "step 1: 80 of 58\n",
      "indicators: [tensor(0.8585), tensor(0.0773)]\n",
      "step 0: 40 of 37\n",
      "indicators: [tensor(0.1725)]\n",
      "step 0: 40 of 29\n",
      "indicators: [tensor(0.3020)]\n",
      "step 0: 40 of 80\n",
      "step 1: 80 of 80\n",
      "step 2: 120 of 80\n",
      "indicators: [tensor(0.0921), tensor(0.2852), tensor(0.0638)]\n",
      "step 0: 40 of 141\n",
      "step 1: 80 of 141\n",
      "step 2: 120 of 141\n",
      "step 3: 160 of 141\n",
      "indicators: [tensor(0.1812), tensor(0.3078), tensor(0.0590), tensor(0.2373)]\n",
      "step 0: 40 of 206\n",
      "step 1: 80 of 206\n",
      "step 2: 120 of 206\n",
      "step 3: 160 of 206\n",
      "step 4: 200 of 206\n",
      "step 5: 240 of 206\n",
      "indicators: [tensor(0.0033), tensor(0.2161), tensor(0.1026), tensor(0.1072), tensor(0.1018), tensor(0.0966)]\n",
      "step 0: 40 of 40\n",
      "step 1: 80 of 40\n",
      "indicators: [tensor(-0.0898), tensor(0.0680)]\n",
      "step 0: 40 of 26\n",
      "indicators: [tensor(0.4607)]\n",
      "step 0: 40 of 130\n",
      "step 1: 80 of 130\n",
      "step 2: 120 of 130\n",
      "step 3: 160 of 130\n",
      "indicators: [tensor(0.1938), tensor(0.1244), tensor(0.8875), tensor(0.1159)]\n",
      "step 0: 40 of 55\n",
      "step 1: 80 of 55\n",
      "indicators: [tensor(0.2149), tensor(0.0833)]\n",
      "step 0: 40 of 177\n",
      "step 1: 80 of 177\n",
      "step 2: 120 of 177\n",
      "step 3: 160 of 177\n",
      "step 4: 200 of 177\n",
      "indicators: [tensor(0.0607), tensor(0.3396), tensor(0.5043), tensor(0.0807), tensor(0.0632)]\n",
      "step 0: 40 of 206\n",
      "step 1: 80 of 206\n",
      "step 2: 120 of 206\n",
      "step 3: 160 of 206\n",
      "step 4: 200 of 206\n",
      "step 5: 240 of 206\n",
      "indicators: [tensor(0.0613), tensor(0.5609), tensor(0.3607), tensor(0.0599), tensor(0.0589), tensor(0.0679)]\n",
      "step 0: 40 of 148\n",
      "step 1: 80 of 148\n",
      "step 2: 120 of 148\n",
      "step 3: 160 of 148\n",
      "indicators: [tensor(0.0606), tensor(0.3421), tensor(-0.0062), tensor(0.0615)]\n",
      "step 0: 40 of 94\n",
      "step 1: 80 of 94\n",
      "step 2: 120 of 94\n",
      "indicators: [tensor(0.1378), tensor(0.1003), tensor(0.2359)]\n",
      "step 0: 40 of 245\n",
      "step 1: 80 of 245\n",
      "step 2: 120 of 245\n",
      "step 3: 160 of 245\n",
      "step 4: 200 of 245\n",
      "step 5: 240 of 245\n",
      "step 6: 280 of 245\n",
      "indicators: [tensor(0.2254), tensor(0.0586), tensor(0.1880), tensor(0.1626), tensor(0.1787), tensor(0.1703), tensor(0.1279)]\n",
      "step 0: 40 of 166\n",
      "step 1: 80 of 166\n",
      "step 2: 120 of 166\n",
      "step 3: 160 of 166\n",
      "step 4: 200 of 166\n",
      "indicators: [tensor(0.3964), tensor(0.9526), tensor(0.1120), tensor(0.0768), tensor(0.0751)]\n",
      "step 0: 40 of 51\n",
      "step 1: 80 of 51\n",
      "indicators: [tensor(0.2926), tensor(0.0923)]\n",
      "step 0: 40 of 101\n",
      "step 1: 80 of 101\n",
      "step 2: 120 of 101\n",
      "indicators: [tensor(0.0606), tensor(0.4041), tensor(0.7470)]\n",
      "step 0: 40 of 47\n",
      "step 1: 80 of 47\n",
      "indicators: [tensor(-0.3434), tensor(0.0622)]\n",
      "step 0: 40 of 44\n",
      "step 1: 80 of 44\n",
      "indicators: [tensor(-0.6348), tensor(0.0659)]\n",
      "step 0: 40 of 55\n",
      "step 1: 80 of 55\n",
      "indicators: [tensor(0.5141), tensor(0.0664)]\n",
      "step 0: 40 of 51\n",
      "step 1: 80 of 51\n",
      "indicators: [tensor(-0.1268), tensor(0.0641)]\n",
      "step 0: 40 of 55\n",
      "step 1: 80 of 55\n",
      "indicators: [tensor(0.4821), tensor(0.0815)]\n",
      "step 0: 40 of 227\n",
      "step 1: 80 of 227\n",
      "step 2: 120 of 227\n",
      "step 3: 160 of 227\n",
      "step 4: 200 of 227\n",
      "step 5: 240 of 227\n",
      "indicators: [tensor(0.3075), tensor(0.5327), tensor(0.0614), tensor(0.0614), tensor(0.0614), tensor(0.1436)]\n",
      "step 0: 40 of 245\n",
      "step 1: 80 of 245\n",
      "step 2: 120 of 245\n",
      "step 3: 160 of 245\n",
      "step 4: 200 of 245\n",
      "step 5: 240 of 245\n",
      "step 6: 280 of 245\n",
      "indicators: [tensor(0.0382), tensor(0.3830), tensor(0.0471), tensor(0.0609), tensor(0.0613), tensor(0.1886), tensor(0.0978)]\n",
      "step 0: 40 of 69\n",
      "step 1: 80 of 69\n",
      "indicators: [tensor(0.6054), tensor(0.0744)]\n",
      "step 0: 40 of 112\n",
      "step 1: 80 of 112\n",
      "step 2: 120 of 112\n",
      "indicators: [tensor(0.9873), tensor(0.3165), tensor(0.1895)]\n",
      "step 0: 40 of 51\n",
      "step 1: 80 of 51\n",
      "indicators: [tensor(-0.3753), tensor(0.0698)]\n",
      "step 0: 40 of 58\n"
     ]
    },
    {
     "name": "stdout",
     "output_type": "stream",
     "text": [
      "step 1: 80 of 58\n",
      "indicators: [tensor(-0.3279), tensor(0.0608)]\n",
      "step 0: 40 of 73\n",
      "step 1: 80 of 73\n",
      "indicators: [tensor(0.0402), tensor(0.3109)]\n",
      "step 0: 40 of 54\n",
      "step 1: 80 of 54\n",
      "indicators: [tensor(0.1069), tensor(0.0610)]\n",
      "step 0: 40 of 201\n",
      "step 1: 80 of 201\n",
      "step 2: 120 of 201\n",
      "step 3: 160 of 201\n",
      "step 4: 200 of 201\n",
      "step 5: 240 of 201\n",
      "indicators: [tensor(0.1749), tensor(0.1632), tensor(0.1697), tensor(0.1797), tensor(0.1748), tensor(0.0775)]\n",
      "step 0: 40 of 301\n",
      "step 1: 80 of 301\n",
      "step 2: 120 of 301\n",
      "step 3: 160 of 301\n",
      "step 4: 200 of 301\n",
      "step 5: 240 of 301\n",
      "step 6: 280 of 301\n",
      "step 7: 320 of 301\n",
      "indicators: [tensor(0.4047), tensor(0.3554), tensor(0.2176), tensor(0.5274), tensor(0.1629), tensor(0.1976), tensor(0.5354), tensor(0.2189)]\n",
      "step 0: 40 of 201\n",
      "step 1: 80 of 201\n",
      "step 2: 120 of 201\n",
      "step 3: 160 of 201\n",
      "step 4: 200 of 201\n",
      "step 5: 240 of 201\n",
      "indicators: [tensor(0.4950), tensor(0.3681), tensor(0.4193), tensor(0.3139), tensor(0.1153), tensor(0.0623)]\n",
      "step 0: 40 of 201\n",
      "step 1: 80 of 201\n",
      "step 2: 120 of 201\n",
      "step 3: 160 of 201\n",
      "step 4: 200 of 201\n",
      "step 5: 240 of 201\n",
      "indicators: [tensor(0.1921), tensor(0.2071), tensor(0.1957), tensor(0.2028), tensor(0.2006), tensor(0.0877)]\n",
      "step 0: 40 of 83\n",
      "step 1: 80 of 83\n",
      "step 2: 120 of 83\n",
      "indicators: [tensor(0.9795), tensor(0.4898), tensor(0.0699)]\n",
      "step 0: 40 of 163\n",
      "step 1: 80 of 163\n",
      "step 2: 120 of 163\n",
      "step 3: 160 of 163\n",
      "step 4: 200 of 163\n",
      "indicators: [tensor(0.0589), tensor(0.7655), tensor(0.0601), tensor(0.1670), tensor(0.0631)]\n",
      "step 0: 40 of 127\n",
      "step 1: 80 of 127\n",
      "step 2: 120 of 127\n",
      "step 3: 160 of 127\n",
      "indicators: [tensor(0.0609), tensor(0.9925), tensor(0.0944), tensor(0.0642)]\n",
      "step 0: 40 of 91\n",
      "step 1: 80 of 91\n",
      "step 2: 120 of 91\n",
      "indicators: [tensor(0.2316), tensor(0.0660), tensor(0.0914)]\n",
      "step 0: 40 of 76\n",
      "step 1: 80 of 76\n",
      "indicators: [tensor(0.4060), tensor(0.6846)]\n",
      "step 0: 40 of 44\n",
      "step 1: 80 of 44\n",
      "indicators: [tensor(0.2702), tensor(0.3046)]\n",
      "step 0: 40 of 73\n",
      "step 1: 80 of 73\n",
      "indicators: [tensor(0.6881), tensor(0.2966)]\n",
      "step 0: 40 of 145\n",
      "step 1: 80 of 145\n",
      "step 2: 120 of 145\n",
      "step 3: 160 of 145\n",
      "indicators: [tensor(0.0583), tensor(0.0676), tensor(0.7342), tensor(0.0550)]\n",
      "step 0: 40 of 62\n",
      "step 1: 80 of 62\n",
      "indicators: [tensor(0.7256), tensor(0.9695)]\n",
      "step 0: 40 of 51\n",
      "step 1: 80 of 51\n",
      "indicators: [tensor(0.6639), tensor(0.2116)]\n",
      "step 0: 40 of 69\n",
      "step 1: 80 of 69\n",
      "indicators: [tensor(0.9464), tensor(0.4488)]\n",
      "step 0: 40 of 231\n",
      "step 1: 80 of 231\n",
      "step 2: 120 of 231\n",
      "step 3: 160 of 231\n",
      "step 4: 200 of 231\n",
      "step 5: 240 of 231\n",
      "indicators: [tensor(0.9760), tensor(0.9663), tensor(0.0682), tensor(0.0605), tensor(0.0613), tensor(0.1189)]\n",
      "step 0: 40 of 69\n",
      "step 1: 80 of 69\n",
      "indicators: [tensor(0.4840), tensor(0.5909)]\n",
      "step 0: 40 of 65\n",
      "step 1: 80 of 65\n",
      "indicators: [tensor(0.9504), tensor(0.1774)]\n",
      "step 0: 40 of 44\n",
      "step 1: 80 of 44\n",
      "indicators: [tensor(0.2194), tensor(0.1731)]\n",
      "step 0: 40 of 177\n",
      "step 1: 80 of 177\n",
      "step 2: 120 of 177\n",
      "step 3: 160 of 177\n",
      "step 4: 200 of 177\n",
      "indicators: [tensor(0.0804), tensor(0.9556), tensor(0.7628), tensor(0.0725), tensor(0.0670)]\n",
      "step 0: 40 of 148\n",
      "step 1: 80 of 148\n",
      "step 2: 120 of 148\n",
      "step 3: 160 of 148\n",
      "indicators: [tensor(0.1364), tensor(0.0722), tensor(0.6723), tensor(0.6635)]\n",
      "step 0: 40 of 199\n",
      "step 1: 80 of 199\n",
      "step 2: 120 of 199\n",
      "step 3: 160 of 199\n",
      "step 4: 200 of 199\n",
      "indicators: [tensor(0.5986), tensor(0.7661), tensor(0.1336), tensor(0.1640), tensor(0.1328)]\n",
      "step 0: 40 of 73\n",
      "step 1: 80 of 73\n",
      "indicators: [tensor(0.9957), tensor(0.7292)]\n",
      "step 0: 40 of 155\n",
      "step 1: 80 of 155\n",
      "step 2: 120 of 155\n",
      "step 3: 160 of 155\n",
      "indicators: [tensor(0.0421), tensor(0.7704), tensor(0.3445), tensor(-0.0215)]\n",
      "step 0: 40 of 76\n",
      "step 1: 80 of 76\n",
      "indicators: [tensor(0.4637), tensor(0.2925)]\n",
      "step 0: 40 of 80\n",
      "step 1: 80 of 80\n",
      "step 2: 120 of 80\n",
      "indicators: [tensor(0.0886), tensor(0.9879), tensor(0.0622)]\n",
      "step 0: 40 of 80\n",
      "step 1: 80 of 80\n",
      "step 2: 120 of 80\n",
      "indicators: [tensor(0.9258), tensor(0.8189), tensor(0.0623)]\n",
      "step 0: 40 of 227\n",
      "step 1: 80 of 227\n",
      "step 2: 120 of 227\n",
      "step 3: 160 of 227\n",
      "step 4: 200 of 227\n",
      "step 5: 240 of 227\n",
      "indicators: [tensor(0.2045), tensor(0.1745), tensor(0.9288), tensor(0.1992), tensor(0.2277), tensor(0.2516)]\n",
      "step 0: 40 of 119\n",
      "step 1: 80 of 119\n",
      "step 2: 120 of 119\n",
      "indicators: [tensor(0.6410), tensor(0.3212), tensor(0.1919)]\n",
      "step 0: 40 of 188\n",
      "step 1: 80 of 188\n",
      "step 2: 120 of 188\n",
      "step 3: 160 of 188\n",
      "step 4: 200 of 188\n",
      "indicators: [tensor(0.6927), tensor(0.2399), tensor(0.1210), tensor(0.0707), tensor(0.0950)]\n",
      "step 0: 40 of 62\n",
      "step 1: 80 of 62\n",
      "indicators: [tensor(0.8420), tensor(0.2422)]\n",
      "step 0: 40 of 50\n",
      "step 1: 80 of 50\n",
      "indicators: [tensor(0.3657), tensor(0.0629)]\n",
      "step 0: 40 of 63\n",
      "step 1: 80 of 63\n",
      "indicators: [tensor(0.3217), tensor(0.4398)]\n",
      "step 0: 40 of 57\n",
      "step 1: 80 of 57\n",
      "indicators: [tensor(0.4805), tensor(0.1234)]\n",
      "step 0: 40 of 217\n",
      "step 1: 80 of 217\n",
      "step 2: 120 of 217\n",
      "step 3: 160 of 217\n",
      "step 4: 200 of 217\n",
      "step 5: 240 of 217\n",
      "indicators: [tensor(0.0634), tensor(0.7051), tensor(0.9182), tensor(0.3387), tensor(0.0626), tensor(0.0630)]\n",
      "step 0: 40 of 245\n",
      "step 1: 80 of 245\n",
      "step 2: 120 of 245\n",
      "step 3: 160 of 245\n",
      "step 4: 200 of 245\n",
      "step 5: 240 of 245\n",
      "step 6: 280 of 245\n",
      "indicators: [tensor(0.0634), tensor(0.0789), tensor(0.0668), tensor(0.9760), tensor(0.6429), tensor(0.1055), tensor(0.0645)]\n",
      "step 0: 40 of 65\n",
      "step 1: 80 of 65\n",
      "indicators: [tensor(0.1395), tensor(0.0583)]\n",
      "step 0: 40 of 44\n",
      "step 1: 80 of 44\n",
      "indicators: [tensor(0.0798), tensor(0.0630)]\n",
      "step 0: 40 of 119\n",
      "step 1: 80 of 119\n",
      "step 2: 120 of 119\n",
      "indicators: [tensor(0.1143), tensor(0.1236), tensor(0.7351)]\n",
      "step 0: 40 of 44\n",
      "step 1: 80 of 44\n",
      "indicators: [tensor(0.7361), tensor(0.1371)]\n",
      "step 0: 40 of 69\n",
      "step 1: 80 of 69\n",
      "indicators: [tensor(0.2814), tensor(0.5347)]\n",
      "step 0: 40 of 62\n",
      "step 1: 80 of 62\n",
      "indicators: [tensor(0.1653), tensor(0.1434)]\n",
      "step 0: 40 of 69\n",
      "step 1: 80 of 69\n",
      "indicators: [tensor(0.5677), tensor(0.5090)]\n",
      "step 0: 40 of 152\n",
      "step 1: 80 of 152\n",
      "step 2: 120 of 152\n",
      "step 3: 160 of 152\n",
      "indicators: [tensor(0.3436), tensor(0.4880), tensor(0.1314), tensor(0.4304)]\n",
      "step 0: 40 of 47\n",
      "step 1: 80 of 47\n",
      "indicators: [tensor(0.4115), tensor(0.0611)]\n",
      "step 0: 40 of 87\n",
      "step 1: 80 of 87\n",
      "step 2: 120 of 87\n",
      "indicators: [tensor(0.6904), tensor(0.7329), tensor(0.0629)]\n",
      "step 0: 40 of 55\n",
      "step 1: 80 of 55\n",
      "indicators: [tensor(0.4023), tensor(0.0958)]\n",
      "step 0: 40 of 91\n",
      "step 1: 80 of 91\n",
      "step 2: 120 of 91\n",
      "indicators: [tensor(0.4129), tensor(0.1706), tensor(0.0620)]\n",
      "step 0: 40 of 87\n",
      "step 1: 80 of 87\n",
      "step 2: 120 of 87\n",
      "indicators: [tensor(0.8052), tensor(0.6035), tensor(0.3930)]\n",
      "step 0: 40 of 40\n",
      "step 1: 80 of 40\n",
      "indicators: [tensor(0.4181), tensor(0.0622)]\n",
      "step 0: 40 of 163\n",
      "step 1: 80 of 163\n",
      "step 2: 120 of 163\n",
      "step 3: 160 of 163\n",
      "step 4: 200 of 163\n",
      "indicators: [tensor(0.6292), tensor(0.2865), tensor(0.1555), tensor(0.1179), tensor(0.0740)]\n",
      "step 0: 40 of 65\n",
      "step 1: 80 of 65\n",
      "indicators: [tensor(-0.2209), tensor(0.1635)]\n",
      "step 0: 40 of 33\n",
      "indicators: [tensor(0.1239)]\n",
      "step 0: 40 of 62\n",
      "step 1: 80 of 62\n",
      "indicators: [tensor(0.4461), tensor(0.0729)]\n",
      "step 0: 40 of 55\n",
      "step 1: 80 of 55\n",
      "indicators: [tensor(0.7113), tensor(0.0634)]\n",
      "step 0: 40 of 80\n",
      "step 1: 80 of 80\n",
      "step 2: 120 of 80\n",
      "indicators: [tensor(0.6526), tensor(0.1745), tensor(0.0633)]\n",
      "step 0: 40 of 83\n",
      "step 1: 80 of 83\n",
      "step 2: 120 of 83\n",
      "indicators: [tensor(0.6232), tensor(0.5192), tensor(0.0623)]\n",
      "step 0: 40 of 62\n",
      "step 1: 80 of 62\n",
      "indicators: [tensor(0.3442), tensor(0.4652)]\n",
      "step 0: 40 of 98\n",
      "step 1: 80 of 98\n",
      "step 2: 120 of 98\n",
      "indicators: [tensor(0.1794), tensor(0.8927), tensor(0.9422)]\n",
      "step 0: 40 of 112\n",
      "step 1: 80 of 112\n",
      "step 2: 120 of 112\n",
      "indicators: [tensor(0.2506), tensor(0.5658), tensor(0.0812)]\n",
      "step 0: 40 of 101\n",
      "step 1: 80 of 101\n",
      "step 2: 120 of 101\n",
      "indicators: [tensor(0.6516), tensor(0.3610), tensor(0.1937)]\n",
      "step 0: 40 of 101\n",
      "step 1: 80 of 101\n",
      "step 2: 120 of 101\n",
      "indicators: [tensor(-0.0008), tensor(0.6361), tensor(0.0725)]\n",
      "step 0: 40 of 51\n",
      "step 1: 80 of 51\n",
      "indicators: [tensor(0.1106), tensor(0.1931)]\n",
      "step 0: 40 of 213\n",
      "step 1: 80 of 213\n",
      "step 2: 120 of 213\n",
      "step 3: 160 of 213\n",
      "step 4: 200 of 213\n",
      "step 5: 240 of 213\n",
      "indicators: [tensor(0.0613), tensor(0.8912), tensor(0.3777), tensor(0.0722), tensor(0.0619), tensor(0.0778)]\n",
      "step 0: 40 of 127\n",
      "step 1: 80 of 127\n",
      "step 2: 120 of 127\n",
      "step 3: 160 of 127\n",
      "indicators: [tensor(0.0602), tensor(0.9298), tensor(0.1707), tensor(0.0631)]\n",
      "step 0: 40 of 159\n",
      "step 1: 80 of 159\n",
      "step 2: 120 of 159\n",
      "step 3: 160 of 159\n",
      "indicators: [tensor(0.0603), tensor(0.7678), tensor(0.1620), tensor(0.0600)]\n",
      "step 0: 40 of 51\n",
      "step 1: 80 of 51\n",
      "indicators: [tensor(0.1445), tensor(0.1047)]\n",
      "step 0: 40 of 51\n",
      "step 1: 80 of 51\n",
      "indicators: [tensor(-0.0624), tensor(0.1725)]\n",
      "step 0: 40 of 91\n",
      "step 1: 80 of 91\n",
      "step 2: 120 of 91\n"
     ]
    },
    {
     "name": "stdout",
     "output_type": "stream",
     "text": [
      "indicators: [tensor(0.0480), tensor(0.8168), tensor(0.3807)]\n",
      "step 0: 40 of 33\n",
      "indicators: [tensor(0.5338)]\n",
      "step 0: 40 of 119\n",
      "step 1: 80 of 119\n",
      "step 2: 120 of 119\n",
      "indicators: [tensor(0.0965), tensor(0.8874), tensor(0.1395)]\n",
      "step 0: 40 of 80\n",
      "step 1: 80 of 80\n",
      "step 2: 120 of 80\n",
      "indicators: [tensor(0.9311), tensor(0.1023), tensor(0.0935)]\n",
      "step 0: 40 of 73\n",
      "step 1: 80 of 73\n",
      "indicators: [tensor(0.9363), tensor(0.1802)]\n",
      "step 0: 40 of 195\n",
      "step 1: 80 of 195\n",
      "step 2: 120 of 195\n",
      "step 3: 160 of 195\n",
      "step 4: 200 of 195\n",
      "indicators: [tensor(0.3846), tensor(0.2475), tensor(0.0728), tensor(0.0676), tensor(0.0675)]\n",
      "step 0: 40 of 80\n",
      "step 1: 80 of 80\n",
      "step 2: 120 of 80\n",
      "indicators: [tensor(0.5380), tensor(0.0099), tensor(0.0622)]\n",
      "step 0: 40 of 220\n",
      "step 1: 80 of 220\n",
      "step 2: 120 of 220\n",
      "step 3: 160 of 220\n",
      "step 4: 200 of 220\n",
      "step 5: 240 of 220\n",
      "indicators: [tensor(0.6924), tensor(0.6974), tensor(0.1873), tensor(0.1995), tensor(0.1653), tensor(0.1508)]\n",
      "step 0: 40 of 58\n",
      "step 1: 80 of 58\n",
      "indicators: [tensor(-0.2617), tensor(0.2563)]\n",
      "step 0: 40 of 148\n",
      "step 1: 80 of 148\n",
      "step 2: 120 of 148\n",
      "step 3: 160 of 148\n",
      "indicators: [tensor(0.6479), tensor(0.1389), tensor(0.1883), tensor(0.2363)]\n",
      "step 0: 40 of 47\n",
      "step 1: 80 of 47\n",
      "indicators: [tensor(0.8629), tensor(0.0722)]\n",
      "step 0: 40 of 62\n",
      "step 1: 80 of 62\n",
      "indicators: [tensor(0.1590), tensor(0.1087)]\n",
      "step 0: 40 of 62\n",
      "step 1: 80 of 62\n",
      "indicators: [tensor(0.1640), tensor(0.1596)]\n",
      "step 0: 40 of 55\n",
      "step 1: 80 of 55\n",
      "indicators: [tensor(-0.1074), tensor(0.1378)]\n",
      "step 0: 40 of 62\n",
      "step 1: 80 of 62\n",
      "indicators: [tensor(0.1284), tensor(0.3201)]\n",
      "step 0: 40 of 65\n",
      "step 1: 80 of 65\n",
      "indicators: [tensor(0.2823), tensor(0.1148)]\n",
      "step 0: 40 of 55\n",
      "step 1: 80 of 55\n",
      "indicators: [tensor(-0.0162), tensor(0.1693)]\n",
      "step 0: 40 of 69\n",
      "step 1: 80 of 69\n",
      "indicators: [tensor(0.0727), tensor(0.3808)]\n",
      "step 0: 40 of 51\n",
      "step 1: 80 of 51\n",
      "indicators: [tensor(0.1615), tensor(0.0625)]\n",
      "step 0: 40 of 231\n",
      "step 1: 80 of 231\n",
      "step 2: 120 of 231\n",
      "step 3: 160 of 231\n",
      "step 4: 200 of 231\n",
      "step 5: 240 of 231\n",
      "indicators: [tensor(0.7509), tensor(0.7661), tensor(0.0614), tensor(0.0613), tensor(0.0790), tensor(0.1076)]\n",
      "step 0: 40 of 43\n",
      "step 1: 80 of 43\n",
      "indicators: [tensor(-0.0510), tensor(0.0626)]\n",
      "step 0: 40 of 127\n",
      "step 1: 80 of 127\n",
      "step 2: 120 of 127\n",
      "step 3: 160 of 127\n",
      "indicators: [tensor(0.5654), tensor(0.5435), tensor(0.1497), tensor(0.0630)]\n",
      "step 0: 40 of 116\n",
      "step 1: 80 of 116\n",
      "step 2: 120 of 116\n",
      "indicators: [tensor(0.9478), tensor(0.5771), tensor(0.1205)]\n",
      "step 0: 40 of 119\n",
      "step 1: 80 of 119\n",
      "step 2: 120 of 119\n",
      "indicators: [tensor(-0.1125), tensor(0.0613), tensor(0.1349)]\n",
      "step 0: 40 of 69\n",
      "step 1: 80 of 69\n",
      "indicators: [tensor(-0.0411), tensor(0.7794)]\n",
      "step 0: 40 of 65\n",
      "step 1: 80 of 65\n",
      "indicators: [tensor(0.0168), tensor(0.2830)]\n",
      "step 0: 40 of 80\n",
      "step 1: 80 of 80\n",
      "step 2: 120 of 80\n",
      "indicators: [tensor(0.1240), tensor(0.2580), tensor(0.0814)]\n",
      "step 0: 40 of 62\n",
      "step 1: 80 of 62\n",
      "indicators: [tensor(0.5835), tensor(0.1873)]\n",
      "step 0: 40 of 87\n",
      "step 1: 80 of 87\n",
      "step 2: 120 of 87\n",
      "indicators: [tensor(0.5171), tensor(0.7732), tensor(0.3391)]\n",
      "step 0: 40 of 105\n",
      "step 1: 80 of 105\n",
      "step 2: 120 of 105\n",
      "indicators: [tensor(0.1055), tensor(0.1203), tensor(0.0570)]\n",
      "step 0: 40 of 91\n",
      "step 1: 80 of 91\n",
      "step 2: 120 of 91\n",
      "indicators: [tensor(-0.1902), tensor(0.2557), tensor(0.0756)]\n",
      "step 0: 40 of 83\n",
      "step 1: 80 of 83\n",
      "step 2: 120 of 83\n",
      "indicators: [tensor(0.2227), tensor(0.7250), tensor(0.3923)]\n",
      "step 0: 40 of 69\n",
      "step 1: 80 of 69\n",
      "indicators: [tensor(-0.0674), tensor(0.1860)]\n",
      "step 0: 40 of 83\n",
      "step 1: 80 of 83\n",
      "step 2: 120 of 83\n",
      "indicators: [tensor(0.5945), tensor(0.6624), tensor(0.1813)]\n",
      "step 0: 40 of 145\n",
      "step 1: 80 of 145\n",
      "step 2: 120 of 145\n",
      "step 3: 160 of 145\n",
      "indicators: [tensor(0.0597), tensor(0.7317), tensor(0.1352), tensor(0.0666)]\n",
      "step 0: 40 of 148\n",
      "step 1: 80 of 148\n",
      "step 2: 120 of 148\n",
      "step 3: 160 of 148\n",
      "indicators: [tensor(0.0743), tensor(0.9557), tensor(0.4465), tensor(0.0682)]\n",
      "step 0: 40 of 163\n",
      "step 1: 80 of 163\n",
      "step 2: 120 of 163\n",
      "step 3: 160 of 163\n",
      "step 4: 200 of 163\n",
      "indicators: [tensor(-0.0294), tensor(0.5182), tensor(0.2141), tensor(0.1651), tensor(0.0701)]\n",
      "step 0: 40 of 188\n",
      "step 1: 80 of 188\n",
      "step 2: 120 of 188\n",
      "step 3: 160 of 188\n",
      "step 4: 200 of 188\n",
      "indicators: [tensor(0.5109), tensor(-0.0733), tensor(0.1853), tensor(0.0842), tensor(0.2053)]\n",
      "step 0: 40 of 55\n",
      "step 1: 80 of 55\n",
      "indicators: [tensor(-0.2870), tensor(0.1041)]\n",
      "step 0: 40 of 65\n",
      "step 1: 80 of 65\n",
      "indicators: [tensor(-0.1823), tensor(0.0543)]\n",
      "step 0: 40 of 69\n",
      "step 1: 80 of 69\n",
      "indicators: [tensor(-0.6086), tensor(0.1175)]\n",
      "step 0: 40 of 69\n",
      "step 1: 80 of 69\n",
      "indicators: [tensor(-0.5296), tensor(0.0682)]\n",
      "step 0: 40 of 69\n",
      "step 1: 80 of 69\n",
      "indicators: [tensor(-0.4558), tensor(0.4643)]\n",
      "step 0: 40 of 73\n",
      "step 1: 80 of 73\n",
      "indicators: [tensor(-0.4023), tensor(0.0291)]\n",
      "step 0: 40 of 177\n",
      "step 1: 80 of 177\n",
      "step 2: 120 of 177\n",
      "step 3: 160 of 177\n",
      "step 4: 200 of 177\n",
      "indicators: [tensor(0.1772), tensor(0.8226), tensor(0.0781), tensor(0.0847), tensor(0.1785)]\n",
      "step 0: 40 of 112\n",
      "step 1: 80 of 112\n",
      "step 2: 120 of 112\n",
      "indicators: [tensor(0.0470), tensor(0.2282), tensor(0.0008)]\n",
      "step 0: 40 of 62\n",
      "step 1: 80 of 62\n",
      "indicators: [tensor(-0.1128), tensor(0.2663)]\n",
      "step 0: 40 of 69\n",
      "step 1: 80 of 69\n",
      "indicators: [tensor(-0.5121), tensor(0.0749)]\n",
      "step 0: 40 of 127\n",
      "step 1: 80 of 127\n",
      "step 2: 120 of 127\n",
      "step 3: 160 of 127\n",
      "indicators: [tensor(0.5079), tensor(0.5131), tensor(0.0797), tensor(0.0667)]\n",
      "step 0: 40 of 148\n",
      "step 1: 80 of 148\n",
      "step 2: 120 of 148\n",
      "step 3: 160 of 148\n",
      "indicators: [tensor(0.0814), tensor(0.2966), tensor(0.5189), tensor(0.5051)]\n",
      "step 0: 40 of 73\n",
      "step 1: 80 of 73\n",
      "indicators: [tensor(0.1969), tensor(-0.0780)]\n",
      "step 0: 40 of 101\n",
      "step 1: 80 of 101\n",
      "step 2: 120 of 101\n",
      "indicators: [tensor(0.3839), tensor(0.7409), tensor(0.1247)]\n",
      "step 0: 40 of 130\n",
      "step 1: 80 of 130\n",
      "step 2: 120 of 130\n",
      "step 3: 160 of 130\n",
      "indicators: [tensor(0.0586), tensor(0.9769), tensor(0.0492), tensor(0.0637)]\n",
      "step 0: 40 of 116\n",
      "step 1: 80 of 116\n",
      "step 2: 120 of 116\n",
      "indicators: [tensor(0.9748), tensor(0.5947), tensor(0.0611)]\n",
      "step 0: 40 of 69\n",
      "step 1: 80 of 69\n",
      "indicators: [tensor(0.9756), tensor(0.3172)]\n",
      "step 0: 40 of 55\n",
      "step 1: 80 of 55\n",
      "indicators: [tensor(0.5911), tensor(0.1264)]\n",
      "step 0: 40 of 62\n",
      "step 1: 80 of 62\n",
      "indicators: [tensor(0.8235), tensor(0.3955)]\n",
      "step 0: 40 of 231\n",
      "step 1: 80 of 231\n",
      "step 2: 120 of 231\n",
      "step 3: 160 of 231\n",
      "step 4: 200 of 231\n",
      "step 5: 240 of 231\n",
      "indicators: [tensor(0.0585), tensor(0.8616), tensor(0.1328), tensor(0.0663), tensor(0.1598), tensor(0.1265)]\n",
      "step 0: 40 of 73\n",
      "step 1: 80 of 73\n",
      "indicators: [tensor(0.1375), tensor(0.3579)]\n",
      "step 0: 40 of 119\n",
      "step 1: 80 of 119\n",
      "step 2: 120 of 119\n",
      "indicators: [tensor(0.1581), tensor(0.3087), tensor(0.6382)]\n",
      "step 0: 40 of 112\n",
      "step 1: 80 of 112\n",
      "step 2: 120 of 112\n",
      "indicators: [tensor(0.4972), tensor(0.1697), tensor(0.1701)]\n",
      "step 0: 40 of 52\n",
      "step 1: 80 of 52\n",
      "indicators: [tensor(0.2768), tensor(0.1530)]\n"
     ]
    }
   ],
   "source": [
    "y_stream = []\n",
    "for i in range(len(X_slable)):\n",
    "    idx = slice(i, i+1)\n",
    "    subject = X_slable[idx]\n",
    "    y, _idx = run_steps(net, subject, N)\n",
    "    y_stream.append(y)"
   ]
  },
  {
   "cell_type": "code",
   "execution_count": 221,
   "metadata": {},
   "outputs": [],
   "source": [
    "y_stream = [int(n) for n in y_stream]"
   ]
  },
  {
   "cell_type": "code",
   "execution_count": 223,
   "metadata": {},
   "outputs": [
    {
     "data": {
      "text/plain": [
       "0.8795620437956204"
      ]
     },
     "execution_count": 223,
     "metadata": {},
     "output_type": "execute_result"
    }
   ],
   "source": [
    "(y_static == y_stream).mean()"
   ]
  },
  {
   "cell_type": "markdown",
   "metadata": {},
   "source": [
    "So comparing with the static feeding we have ~88% accuracy when streaming. Maybe can reduce this error further."
   ]
  },
  {
   "cell_type": "code",
   "execution_count": null,
   "metadata": {},
   "outputs": [],
   "source": []
  },
  {
   "cell_type": "code",
   "execution_count": null,
   "metadata": {},
   "outputs": [],
   "source": []
  },
  {
   "cell_type": "code",
   "execution_count": null,
   "metadata": {},
   "outputs": [],
   "source": []
  },
  {
   "cell_type": "code",
   "execution_count": null,
   "metadata": {},
   "outputs": [],
   "source": []
  },
  {
   "cell_type": "code",
   "execution_count": null,
   "metadata": {},
   "outputs": [],
   "source": []
  },
  {
   "cell_type": "code",
   "execution_count": 37,
   "metadata": {},
   "outputs": [],
   "source": [
    "spec = X_slable[0:1]['X'][0]"
   ]
  },
  {
   "cell_type": "code",
   "execution_count": 38,
   "metadata": {},
   "outputs": [
    {
     "data": {
      "text/plain": [
       "<matplotlib.image.AxesImage at 0x7fa9926a93c8>"
      ]
     },
     "execution_count": 38,
     "metadata": {},
     "output_type": "execute_result"
    },
    {
     "data": {
      "image/png": "[encoded data removed]",
      "text/plain": [
       "<Figure size 360x648 with 1 Axes>"
      ]
     },
     "metadata": {
      "needs_background": "light"
     },
     "output_type": "display_data"
    }
   ],
   "source": [
    "plt.figure(figsize=(5,9))\n",
    "plt.imshow(spec[:, :123])"
   ]
  },
  {
   "cell_type": "code",
   "execution_count": 39,
   "metadata": {},
   "outputs": [],
   "source": [
    "audio_spect = parser.parse_audio('../data/own/shiiiit.ogg')\n",
    "inp = {'X': audio_spect[None], 'lens': np.array([audio_spect.shape[1]])}"
   ]
  },
  {
   "cell_type": "code",
   "execution_count": 40,
   "metadata": {},
   "outputs": [
    {
     "data": {
      "text/plain": [
       "<matplotlib.image.AxesImage at 0x7fa991df5780>"
      ]
     },
     "execution_count": 40,
     "metadata": {},
     "output_type": "execute_result"
    },
    {
     "data": {
      "image/png": "[encoded data removed]",
      "text/plain": [
       "<Figure size 792x648 with 1 Axes>"
      ]
     },
     "metadata": {
      "needs_background": "light"
     },
     "output_type": "display_data"
    }
   ],
   "source": [
    "plt.figure(figsize=(11, 9))\n",
    "plt.imshow(audio_spect[:, :audio_spect.shape[1]])"
   ]
  },
  {
   "cell_type": "code",
   "execution_count": null,
   "metadata": {},
   "outputs": [],
   "source": []
  },
  {
   "cell_type": "code",
   "execution_count": 41,
   "metadata": {},
   "outputs": [],
   "source": [
    "from deepspeech.data.data_loader import load_audio\n",
    "import librosa"
   ]
  },
  {
   "cell_type": "code",
   "execution_count": 42,
   "metadata": {},
   "outputs": [],
   "source": [
    "def parse_audio_stream(self, y):\n",
    "    n_fft = int(self.sample_rate * self.window_size)\n",
    "    win_length = n_fft\n",
    "    hop_length = int(self.sample_rate * self.window_stride)\n",
    "    # STFT\n",
    "    D = librosa.stft(y, n_fft=n_fft, hop_length=hop_length,\n",
    "                     win_length=win_length, window=self.window)\n",
    "    spect, phase = librosa.magphase(D)\n",
    "    # S = log(S+1)\n",
    "    spect = np.log1p(spect)\n",
    "    spect = torch.FloatTensor(spect)\n",
    "    if self.normalize:\n",
    "        mean = spect.mean()\n",
    "        std = spect.std()\n",
    "        spect.add_(-mean)\n",
    "        spect.div_(std)\n",
    "    return spect"
   ]
  },
  {
   "cell_type": "code",
   "execution_count": 154,
   "metadata": {},
   "outputs": [],
   "source": [
    "# use librosa.load instead of load_audio because we can set the SR\n",
    "audio_stream, sr = librosa.load('../data/own/shiiiit.ogg', sr=16000)"
   ]
  },
  {
   "cell_type": "code",
   "execution_count": 156,
   "metadata": {},
   "outputs": [],
   "source": [
    "def lowpass(x, a):\n",
    "    y = x.copy()\n",
    "    y[0] = a * x[0]\n",
    "    for i in range(1, len(x)):\n",
    "        y[i] = (1-a) * y[i-1] + a * x[i]\n",
    "    return y"
   ]
  },
  {
   "cell_type": "code",
   "execution_count": 157,
   "metadata": {},
   "outputs": [],
   "source": [
    "def highpass(x, a):\n",
    "    y = x.copy()\n",
    "    for i in range(1, len(x) - 1):\n",
    "        y[i] = a * (y[i-1] + x[i] - x[i-1])\n",
    "    return y"
   ]
  },
  {
   "cell_type": "code",
   "execution_count": 158,
   "metadata": {},
   "outputs": [],
   "source": [
    "def highpass_freq(x, fc, sampling_rate):\n",
    "    a = 1 / (2*np.pi*(1/sampling_rate)*fc + 1)\n",
    "    return highpass(x, a)"
   ]
  },
  {
   "cell_type": "code",
   "execution_count": 159,
   "metadata": {},
   "outputs": [],
   "source": [
    "from scipy import signal\n",
    "\n",
    "def butter_highpass(cutoff, fs, order=5):\n",
    "    nyq = 0.5 * fs\n",
    "    normal_cutoff = cutoff / nyq\n",
    "    b, a = signal.butter(order, normal_cutoff, btype='high', analog=False)\n",
    "    return b, a\n",
    "\n",
    "def butter_highpass_filter(data, cutoff, fs, order=1):\n",
    "    b, a = butter_highpass(cutoff, fs, order=order)\n",
    "    y = signal.filtfilt(b, a, data)\n",
    "    return y"
   ]
  },
  {
   "cell_type": "code",
   "execution_count": 160,
   "metadata": {},
   "outputs": [],
   "source": [
    "audio_inp_filtered = highpass_freq(audio_stream, 1000, sampling_rate=16e3)\n",
    "audio_inp_filtered = butter_highpass_filter(audio_stream, 300, 16e3)\n",
    "audio_spect_filtered = parse_audio_stream(parser, audio_inp_filtered)"
   ]
  },
  {
   "cell_type": "code",
   "execution_count": 161,
   "metadata": {},
   "outputs": [
    {
     "data": {
      "text/plain": [
       "<matplotlib.image.AxesImage at 0x7fa983220c50>"
      ]
     },
     "execution_count": 161,
     "metadata": {},
     "output_type": "execute_result"
    },
    {
     "data": {
      "image/png": "[encoded data removed]",
      "text/plain": [
       "<Figure size 792x648 with 1 Axes>"
      ]
     },
     "metadata": {
      "needs_background": "light"
     },
     "output_type": "display_data"
    }
   ],
   "source": [
    "plt.figure(figsize=(11, 9))\n",
    "plt.imshow(audio_spect_filtered[:, :audio_spect_filtered.shape[1]])"
   ]
  },
  {
   "cell_type": "code",
   "execution_count": 162,
   "metadata": {},
   "outputs": [
    {
     "data": {
      "text/plain": [
       "<matplotlib.image.AxesImage at 0x7fa9831e6c18>"
      ]
     },
     "execution_count": 162,
     "metadata": {},
     "output_type": "execute_result"
    },
    {
     "data": {
      "image/png": "[encoded data removed]",
      "text/plain": [
       "<Figure size 792x648 with 1 Axes>"
      ]
     },
     "metadata": {
      "needs_background": "light"
     },
     "output_type": "display_data"
    }
   ],
   "source": [
    "plt.figure(figsize=(11, 9))\n",
    "plt.imshow(audio_spect_filtered[:, :audio_spect_filtered.shape[1]])"
   ]
  },
  {
   "cell_type": "code",
   "execution_count": null,
   "metadata": {},
   "outputs": [],
   "source": []
  },
  {
   "cell_type": "code",
   "execution_count": null,
   "metadata": {},
   "outputs": [],
   "source": []
  },
  {
   "cell_type": "code",
   "execution_count": 178,
   "metadata": {},
   "outputs": [
    {
     "data": {
      "text/plain": [
       "array([0], dtype=uint8)"
      ]
     },
     "execution_count": 178,
     "metadata": {},
     "output_type": "execute_result"
    }
   ],
   "source": [
    "inp = {'X': audio_spect[None], 'lens': np.array([audio_spect.shape[1]])}\n",
    "net.predict(inp)"
   ]
  },
  {
   "cell_type": "code",
   "execution_count": 179,
   "metadata": {},
   "outputs": [
    {
     "data": {
      "text/plain": [
       "array([1], dtype=uint8)"
      ]
     },
     "execution_count": 179,
     "metadata": {},
     "output_type": "execute_result"
    }
   ],
   "source": [
    "inp_filtered = {'X': audio_spect_filtered[None], 'lens': np.array([audio_spect_filtered.shape[1]])}\n",
    "net.predict(inp_filtered)"
   ]
  },
  {
   "cell_type": "code",
   "execution_count": 180,
   "metadata": {},
   "outputs": [
    {
     "data": {
      "text/plain": [
       "array([[0.47617006, 0.52382994]], dtype=float32)"
      ]
     },
     "execution_count": 180,
     "metadata": {},
     "output_type": "execute_result"
    }
   ],
   "source": [
    "net.predict_proba(inp_filtered)"
   ]
  },
  {
   "cell_type": "code",
   "execution_count": 183,
   "metadata": {
    "scrolled": true
   },
   "outputs": [],
   "source": [
    "c, i, ics, hX, cX = zip(*list(net.forward_iter(inp)))"
   ]
  },
  {
   "cell_type": "code",
   "execution_count": 193,
   "metadata": {},
   "outputs": [
    {
     "data": {
      "text/plain": [
       "tensor([0.0269])"
      ]
     },
     "execution_count": 193,
     "metadata": {},
     "output_type": "execute_result"
    }
   ],
   "source": [
    "torch.sigmoid(c[0])"
   ]
  },
  {
   "cell_type": "code",
   "execution_count": 184,
   "metadata": {},
   "outputs": [
    {
     "data": {
      "image/png": "[encoded data removed]",
      "text/plain": [
       "<Figure size 432x288 with 1 Axes>"
      ]
     },
     "metadata": {
      "needs_background": "light"
     },
     "output_type": "display_data"
    }
   ],
   "source": [
    "plot_seq_base(ics[0][0], c[0].item(), fpath='shiiit raw')"
   ]
  },
  {
   "cell_type": "code",
   "execution_count": null,
   "metadata": {},
   "outputs": [],
   "source": []
  },
  {
   "cell_type": "code",
   "execution_count": 173,
   "metadata": {
    "scrolled": true
   },
   "outputs": [],
   "source": [
    "c, i, ics, hX, cX = zip(*list(net.forward_iter(inp_filtered)))"
   ]
  },
  {
   "cell_type": "code",
   "execution_count": 174,
   "metadata": {},
   "outputs": [
    {
     "data": {
      "image/png": "[encoded data removed]",
      "text/plain": [
       "<Figure size 432x288 with 1 Axes>"
      ]
     },
     "metadata": {
      "needs_background": "light"
     },
     "output_type": "display_data"
    }
   ],
   "source": [
    "plot_seq_base(ics[0][0], c[0].item(), fpath='shiiit filtered')"
   ]
  },
  {
   "cell_type": "code",
   "execution_count": null,
   "metadata": {},
   "outputs": [],
   "source": []
  },
  {
   "cell_type": "code",
   "execution_count": null,
   "metadata": {},
   "outputs": [],
   "source": []
  },
  {
   "cell_type": "code",
   "execution_count": null,
   "metadata": {},
   "outputs": [],
   "source": []
  },
  {
   "cell_type": "code",
   "execution_count": 145,
   "metadata": {},
   "outputs": [],
   "source": [
    "audio_stream = load_audio('../data/own/shiiiit.ogg')"
   ]
  },
  {
   "cell_type": "code",
   "execution_count": null,
   "metadata": {},
   "outputs": [],
   "source": []
  },
  {
   "cell_type": "code",
   "execution_count": null,
   "metadata": {},
   "outputs": [],
   "source": []
  },
  {
   "cell_type": "code",
   "execution_count": null,
   "metadata": {},
   "outputs": [],
   "source": []
  },
  {
   "cell_type": "code",
   "execution_count": null,
   "metadata": {},
   "outputs": [],
   "source": []
  },
  {
   "cell_type": "code",
   "execution_count": 59,
   "metadata": {},
   "outputs": [
    {
     "data": {
      "text/plain": [
       "array([0], dtype=uint8)"
      ]
     },
     "execution_count": 59,
     "metadata": {},
     "output_type": "execute_result"
    }
   ],
   "source": [
    "net.predict(X_slable[4:5])"
   ]
  },
  {
   "cell_type": "markdown",
   "metadata": {},
   "source": [
    "Let's inspect the indicator neuron (what does it do)"
   ]
  },
  {
   "cell_type": "code",
   "execution_count": 60,
   "metadata": {},
   "outputs": [],
   "source": [
    "outputs = list(net.forward_iter(X_train))"
   ]
  },
  {
   "cell_type": "markdown",
   "metadata": {},
   "source": [
    "It seems to strongly, inversely correlate with the predicted output class"
   ]
  },
  {
   "cell_type": "code",
   "execution_count": 61,
   "metadata": {},
   "outputs": [
    {
     "ename": "ValueError",
     "evalue": "too many values to unpack (expected 3)",
     "output_type": "error",
     "traceback": [
      "\u001b[0;31m---------------------------------------------------------------------------\u001b[0m",
      "\u001b[0;31mValueError\u001b[0m                                Traceback (most recent call last)",
      "\u001b[0;32m<ipython-input-61-d1447dd2835b>\u001b[0m in \u001b[0;36m<module>\u001b[0;34m\u001b[0m\n\u001b[0;32m----> 1\u001b[0;31m \u001b[0mclass_log\u001b[0m\u001b[0;34m,\u001b[0m \u001b[0mindicator_log\u001b[0m\u001b[0;34m,\u001b[0m \u001b[0mindicator_sequence_log\u001b[0m \u001b[0;34m=\u001b[0m \u001b[0mzip\u001b[0m\u001b[0;34m(\u001b[0m\u001b[0;34m*\u001b[0m\u001b[0moutputs\u001b[0m\u001b[0;34m)\u001b[0m\u001b[0;34m\u001b[0m\u001b[0;34m\u001b[0m\u001b[0m\n\u001b[0m\u001b[1;32m      2\u001b[0m \u001b[0mclass_log\u001b[0m \u001b[0;34m=\u001b[0m \u001b[0mtorch\u001b[0m\u001b[0;34m.\u001b[0m\u001b[0mcat\u001b[0m\u001b[0;34m(\u001b[0m\u001b[0mclass_log\u001b[0m\u001b[0;34m)\u001b[0m\u001b[0;34m\u001b[0m\u001b[0;34m\u001b[0m\u001b[0m\n\u001b[1;32m      3\u001b[0m \u001b[0mindicator_log\u001b[0m \u001b[0;34m=\u001b[0m \u001b[0mtorch\u001b[0m\u001b[0;34m.\u001b[0m\u001b[0mcat\u001b[0m\u001b[0;34m(\u001b[0m\u001b[0mindicator_log\u001b[0m\u001b[0;34m)\u001b[0m\u001b[0;34m\u001b[0m\u001b[0;34m\u001b[0m\u001b[0m\n",
      "\u001b[0;31mValueError\u001b[0m: too many values to unpack (expected 3)"
     ]
    }
   ],
   "source": [
    "class_log, indicator_log, indicator_sequence_log = zip(*outputs)\n",
    "class_log = torch.cat(class_log)\n",
    "indicator_log = torch.cat(indicator_log)"
   ]
  },
  {
   "cell_type": "code",
   "execution_count": null,
   "metadata": {},
   "outputs": [],
   "source": [
    "plt.plot(class_log)\n",
    "plt.ylabel('class logit')\n",
    "\n",
    "ax = plt.twinx()\n",
    "ax.plot(indicator_log, c='orange')\n",
    "plt.ylabel('indicator logit')\n",
    "\n",
    "plt.gcf().legend(['class', 'indic']);"
   ]
  },
  {
   "cell_type": "markdown",
   "metadata": {},
   "source": [
    "How does it evolve in time?"
   ]
  },
  {
   "cell_type": "code",
   "execution_count": null,
   "metadata": {},
   "outputs": [],
   "source": [
    "indicator_sequences = debatch_indicator_sequences(outputs)"
   ]
  },
  {
   "cell_type": "code",
   "execution_count": null,
   "metadata": {},
   "outputs": [],
   "source": [
    "plot_seq(0)"
   ]
  },
  {
   "cell_type": "code",
   "execution_count": null,
   "metadata": {},
   "outputs": [],
   "source": [
    "plot_seq(2)"
   ]
  },
  {
   "cell_type": "code",
   "execution_count": null,
   "metadata": {},
   "outputs": [],
   "source": [
    "plot_seq(3)"
   ]
  },
  {
   "cell_type": "code",
   "execution_count": null,
   "metadata": {},
   "outputs": [],
   "source": [
    "plot_seq(4)"
   ]
  },
  {
   "cell_type": "code",
   "execution_count": null,
   "metadata": {
    "scrolled": true
   },
   "outputs": [],
   "source": [
    "plot_seq(20)"
   ]
  },
  {
   "cell_type": "code",
   "execution_count": null,
   "metadata": {
    "scrolled": true
   },
   "outputs": [],
   "source": [
    "plot_seq(27)"
   ]
  },
  {
   "cell_type": "markdown",
   "metadata": {},
   "source": [
    "Test on a single sample, a long-stretched 'shiiit'"
   ]
  },
  {
   "cell_type": "code",
   "execution_count": null,
   "metadata": {},
   "outputs": [],
   "source": [
    "audio_inp = parser.parse_audio('../data/own/shiiiit.ogg')\n",
    "inp = {'X': audio_inp[None], 'lens': np.array([audio_inp.shape[1]])}"
   ]
  },
  {
   "cell_type": "code",
   "execution_count": null,
   "metadata": {
    "scrolled": true
   },
   "outputs": [],
   "source": [
    "c, i, ics = zip(*list(net.forward_iter(inp)))"
   ]
  },
  {
   "cell_type": "code",
   "execution_count": null,
   "metadata": {},
   "outputs": [],
   "source": [
    "plot_seq_base(ics[0][0], c[0].item(), fpath='shiiit')"
   ]
  },
  {
   "cell_type": "code",
   "execution_count": null,
   "metadata": {},
   "outputs": [],
   "source": []
  }
 ],
 "metadata": {
  "kernelspec": {
   "display_name": "Python 3",
   "language": "python",
   "name": "python3"
  },
  "language_info": {
   "codemirror_mode": {
    "name": "ipython",
    "version": 3
   },
   "file_extension": ".py",
   "mimetype": "text/x-python",
   "name": "python",
   "nbconvert_exporter": "python",
   "pygments_lexer": "ipython3",
   "version": "3.6.6"
  }
 },
 "nbformat": 4,
 "nbformat_minor": 2
}
