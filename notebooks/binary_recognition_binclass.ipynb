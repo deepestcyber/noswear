{
 "cells": [
  {
   "cell_type": "code",
   "execution_count": 1,
   "metadata": {},
   "outputs": [],
   "source": [
    "%matplotlib inline\n",
    "from matplotlib import pyplot as plt\n",
    "import torch\n",
    "import skorch\n",
    "from skorch.helper import predefined_split\n",
    "from skorch.dataset import Dataset"
   ]
  },
  {
   "cell_type": "code",
   "execution_count": 2,
   "metadata": {},
   "outputs": [],
   "source": [
    "from functools import partial"
   ]
  },
  {
   "cell_type": "code",
   "execution_count": 3,
   "metadata": {},
   "outputs": [],
   "source": [
    "import numpy as np"
   ]
  },
  {
   "cell_type": "code",
   "execution_count": 4,
   "metadata": {},
   "outputs": [],
   "source": [
    "from sklearn.model_selection import StratifiedKFold\n",
    "from sklearn.metrics import accuracy_score"
   ]
  },
  {
   "cell_type": "code",
   "execution_count": 5,
   "metadata": {},
   "outputs": [
    {
     "name": "stderr",
     "output_type": "stream",
     "text": [
      "/home/nemo/envs/noswear/lib/python3.6/site-packages/torchaudio/backend/utils.py:54: UserWarning: \"sox\" backend is being deprecated. The default backend will be changed to \"sox_io\" backend in 0.8.0 and \"sox\" backend will be removed in 0.9.0. Please migrate to \"sox_io\" backend. Please refer to https://github.com/pytorch/audio/issues/903 for the detail.\n",
      "  '\"sox\" backend is being deprecated. '\n"
     ]
    }
   ],
   "source": [
    "from deepspeech.model import DeepSpeech\n",
    "from deepspeech.model import SequenceWise\n",
    "from deepspeech.data.data_loader import SpectrogramParser\n",
    "from deepspeech.data.data_loader import BucketingSampler"
   ]
  },
  {
   "cell_type": "code",
   "execution_count": 6,
   "metadata": {},
   "outputs": [],
   "source": [
    "from data import dataset\n",
    "from utils import RNNValueExtractor\n",
    "from utils import Identity\n",
    "from utils import bucketing_dataloader\n",
    "from utils import filter_low_count_words\n",
    "from layers import ResidualRNN"
   ]
  },
  {
   "cell_type": "markdown",
   "metadata": {},
   "source": [
    "We are building upon DeepSpeech CNN layers."
   ]
  },
  {
   "cell_type": "code",
   "execution_count": 7,
   "metadata": {},
   "outputs": [],
   "source": [
    "base_model = DeepSpeech.load_model(\n",
    "    'models/librispeech_pretrained.pth'\n",
    ")\n",
    "audio_conf = DeepSpeech.get_audio_conf(base_model)\n",
    "parser = SpectrogramParser(audio_conf, normalize=True)"
   ]
  },
  {
   "cell_type": "markdown",
   "metadata": {},
   "source": [
    "We have our own swear/non-swear data, load it."
   ]
  },
  {
   "cell_type": "code",
   "execution_count": 8,
   "metadata": {},
   "outputs": [],
   "source": [
    "ds_swear = dataset.SwearDataset(dataset.DEFAULT_PROVIDERS)"
   ]
  },
  {
   "cell_type": "code",
   "execution_count": 9,
   "metadata": {},
   "outputs": [],
   "source": [
    "X_swear, y_swear = ds_swear.load()"
   ]
  },
  {
   "cell_type": "code",
   "execution_count": 10,
   "metadata": {},
   "outputs": [],
   "source": [
    "ds = dataset.SwearBinaryAudioDataset(X_swear, y_swear, parser)"
   ]
  },
  {
   "cell_type": "code",
   "execution_count": 17,
   "metadata": {},
   "outputs": [],
   "source": [
    "X, y = ds.load()"
   ]
  },
  {
   "cell_type": "code",
   "execution_count": 18,
   "metadata": {},
   "outputs": [
    {
     "data": {
      "text/plain": [
       "(663, 238.64055299539172, 173.0)"
      ]
     },
     "execution_count": 18,
     "metadata": {},
     "output_type": "execute_result"
    }
   ],
   "source": [
    "seq_lens = np.array([x.shape[1] for x in X])\n",
    "max_seq_len = max(seq_lens)\n",
    "max_seq_len, np.mean(seq_lens), np.median(seq_lens)"
   ]
  },
  {
   "cell_type": "code",
   "execution_count": 19,
   "metadata": {},
   "outputs": [],
   "source": [
    "X_pad = np.zeros(\n",
    "    (len(X), X[0].shape[0], max_seq_len), \n",
    "    dtype='float32'\n",
    ")\n",
    "for i, _ in enumerate(X):\n",
    "    X_pad[i, :, :seq_lens[i]] = X[i]\n",
    "    \n",
    "y = np.array(y)"
   ]
  },
  {
   "cell_type": "markdown",
   "metadata": {},
   "source": [
    "Filter low count words"
   ]
  },
  {
   "cell_type": "code",
   "execution_count": 21,
   "metadata": {},
   "outputs": [],
   "source": [
    "idcs = filter_low_count_words(X_swear, min_count=4)\n",
    "X_pad = X_pad[idcs]\n",
    "y = y[idcs]"
   ]
  },
  {
   "cell_type": "markdown",
   "metadata": {},
   "source": [
    "Splitting into train/valid/test"
   ]
  },
  {
   "cell_type": "code",
   "execution_count": 22,
   "metadata": {},
   "outputs": [],
   "source": [
    "split = StratifiedKFold(n_splits=5, shuffle=True, random_state=0)"
   ]
  },
  {
   "cell_type": "code",
   "execution_count": 23,
   "metadata": {},
   "outputs": [
    {
     "name": "stderr",
     "output_type": "stream",
     "text": [
      "/home/nemo/envs/noswear/lib/python3.6/site-packages/scikit_learn-0.23.2-py3.6-linux-x86_64.egg/sklearn/model_selection/_split.py:672: UserWarning: The least populated class in y has only 4 members, which is less than n_splits=5.\n",
      "  % (min_groups, self.n_splits)), UserWarning)\n"
     ]
    }
   ],
   "source": [
    "# use word as class for stratified split to make sure that train/test\n",
    "# set both contain examples of the all words.\n",
    "y_word = np.array([n[0] for n in X_swear])[idcs]\n",
    "train_idcs_proto, test_idcs = next(split.split(y, y=y_word))"
   ]
  },
  {
   "cell_type": "code",
   "execution_count": 24,
   "metadata": {},
   "outputs": [
    {
     "name": "stderr",
     "output_type": "stream",
     "text": [
      "/home/nemo/envs/noswear/lib/python3.6/site-packages/scikit_learn-0.23.2-py3.6-linux-x86_64.egg/sklearn/model_selection/_split.py:672: UserWarning: The least populated class in y has only 3 members, which is less than n_splits=5.\n",
      "  % (min_groups, self.n_splits)), UserWarning)\n"
     ]
    }
   ],
   "source": [
    "train_idcs, valid_idcs = next(split.split(y[train_idcs_proto], y=y_word[train_idcs_proto]))"
   ]
  },
  {
   "cell_type": "code",
   "execution_count": 25,
   "metadata": {},
   "outputs": [],
   "source": [
    "train_idcs = train_idcs_proto[train_idcs]\n",
    "valid_idcs = train_idcs_proto[valid_idcs]"
   ]
  },
  {
   "cell_type": "markdown",
   "metadata": {},
   "source": [
    "Plot the class distribution (words)"
   ]
  },
  {
   "cell_type": "code",
   "execution_count": 26,
   "metadata": {},
   "outputs": [
    {
     "data": {
      "image/png": "[encoded data removed]",
      "text/plain": [
       "<Figure size 432x288 with 3 Axes>"
      ]
     },
     "metadata": {
      "needs_background": "light"
     },
     "output_type": "display_data"
    }
   ],
   "source": [
    "plt.subplot(311)\n",
    "plt.title('\"class\" balance between train/test\\ntrain')\n",
    "plt.hist(y_word[train_idcs]);\n",
    "plt.subplot(312)\n",
    "plt.title('valid')\n",
    "plt.hist(y_word[valid_idcs]);\n",
    "plt.subplot(313)\n",
    "plt.title('test')\n",
    "plt.hist(y_word[test_idcs]);"
   ]
  },
  {
   "cell_type": "code",
   "execution_count": 28,
   "metadata": {},
   "outputs": [],
   "source": [
    "X_train = {'lens': seq_lens[train_idcs], 'X': X_pad[train_idcs]}\n",
    "y_train = np.array(y)[train_idcs].astype('float32')\n",
    "\n",
    "X_valid = {'lens': seq_lens[valid_idcs], 'X': X_pad[valid_idcs]}\n",
    "y_valid = np.array(y)[valid_idcs].astype('float32')\n",
    "\n",
    "X_test = {'lens': seq_lens[test_idcs], 'X': X_pad[test_idcs]}\n",
    "y_test = np.array(y)[test_idcs].astype('float32')"
   ]
  },
  {
   "cell_type": "code",
   "execution_count": 29,
   "metadata": {},
   "outputs": [
    {
     "data": {
      "text/plain": [
       "(134, 34, 42)"
      ]
     },
     "execution_count": 29,
     "metadata": {},
     "output_type": "execute_result"
    }
   ],
   "source": [
    "len(X_train['X']), len(X_valid['X']), len(X_test['X'])"
   ]
  },
  {
   "cell_type": "markdown",
   "metadata": {},
   "source": [
    "Check if train/valid/test are balanced ($y \\approx 0.5$)"
   ]
  },
  {
   "cell_type": "code",
   "execution_count": 30,
   "metadata": {
    "scrolled": false
   },
   "outputs": [
    {
     "data": {
      "text/plain": [
       "(0.51492536, 0.5, 0.5)"
      ]
     },
     "execution_count": 30,
     "metadata": {},
     "output_type": "execute_result"
    }
   ],
   "source": [
    "y_train.mean(), y_valid.mean(), y_test.mean()"
   ]
  },
  {
   "cell_type": "markdown",
   "metadata": {},
   "source": [
    "Model definition"
   ]
  },
  {
   "cell_type": "code",
   "execution_count": 31,
   "metadata": {},
   "outputs": [],
   "source": [
    "class NoSwearModel(torch.nn.Module):\n",
    "    def __init__(\n",
    "        self, \n",
    "        base_model, \n",
    "        n_hidden=10, \n",
    "        n_layers=1,\n",
    "        p_dropout=0.2,\n",
    "        selector='last',\n",
    "    ):\n",
    "        super().__init__()\n",
    "        self.base_model = base_model\n",
    "        self.base_model.rnns = Identity()\n",
    "        self.base_model.lookahead = Identity()\n",
    "        self.base_model.fc = Identity()\n",
    "        self.base_model.inference_softmax = Identity()\n",
    "        \n",
    "        self.selector = selector\n",
    "        \n",
    "        self.rnn = torch.nn.Sequential(\n",
    "            torch.nn.LSTM(672, n_hidden, num_layers=n_layers, bias=False, batch_first=True),\n",
    "            RNNValueExtractor(),\n",
    "        )\n",
    "\n",
    "        self.clf = torch.nn.Linear(n_hidden, 1, bias=False)\n",
    "        self.dropout = torch.nn.Dropout(p=p_dropout)\n",
    "        \n",
    "        self.reset_parameters()\n",
    "        \n",
    "    def reset_parameters(self):\n",
    "        self.rnn[0].reset_parameters()\n",
    "        #self.rnn[2].reset_parameters()\n",
    "        self.clf.reset_parameters()\n",
    "        \n",
    "    def forward(self, X, lens):\n",
    "        # run base model, output is NxTxH with\n",
    "        # T=Time, N=samples, H=hidden.\n",
    "        y_pre = self.base_model(X)\n",
    "        y_pre = self.dropout(y_pre)\n",
    "        \n",
    "        # run RNN over sequence and extract last item\n",
    "        y = self.rnn(y_pre)\n",
    "        #import pdb; pdb.set_trace()\n",
    "        \n",
    "        if self.selector == 'designated':\n",
    "            # instead of taking element -1 we just\n",
    "            # designate neuron 0 to be our confidence indicator;\n",
    "            # we take the element where [0] is greatest.\n",
    "            idcs_time = y[:, :, 0].argmax(axis=-1)\n",
    "            idcs_batch = list(range(X.shape[0]))\n",
    "\n",
    "            # index using (batch, time) tuples        \n",
    "            y = y[idcs_batch, idcs_time, :]\n",
    "        else:\n",
    "            y = y[:, -1]\n",
    "            \n",
    "        y = self.clf(y)\n",
    "        #y = torch.sigmoid(y)\n",
    "        \n",
    "        return y"
   ]
  },
  {
   "cell_type": "markdown",
   "metadata": {},
   "source": [
    "Training loop and stuff"
   ]
  },
  {
   "cell_type": "code",
   "execution_count": 32,
   "metadata": {},
   "outputs": [],
   "source": [
    "def bucket(Xi, yi):\n",
    "    Xi['X'] = Xi['X'][:, :, :max(Xi['lens'])]\n",
    "    return Xi, yi"
   ]
  },
  {
   "cell_type": "code",
   "execution_count": 46,
   "metadata": {},
   "outputs": [],
   "source": [
    "torch.manual_seed(42)\n",
    "\n",
    "net = skorch.classifier.NeuralNetBinaryClassifier(\n",
    "    partial(NoSwearModel, base_model), \n",
    "    \n",
    "    iterator_train=bucketing_dataloader,\n",
    "    iterator_train__bucket_fn=bucket,\n",
    "    iterator_train__shuffle=True,\n",
    "    iterator_valid=bucketing_dataloader,\n",
    "    iterator_valid__bucket_fn=bucket,\n",
    "    \n",
    "    batch_size=4,\n",
    "    max_epochs=80,\n",
    "    device='cuda',\n",
    "    \n",
    "    train_split=predefined_split(Dataset(X_valid, y_valid)),\n",
    "    \n",
    "    module__p_dropout=0.0,\n",
    "    module__n_hidden=32,\n",
    "    module__n_layers=1,\n",
    "    module__selector='designated',\n",
    "        \n",
    "    optimizer=torch.optim.Adam,\n",
    "    optimizer__lr=0.0004,\n",
    "    \n",
    "    callbacks=[\n",
    "        skorch.callbacks.Freezer('base_model.*'),\n",
    "        skorch.callbacks.Checkpoint(monitor='valid_acc_best'),\n",
    "        #skorch.callbacks.TrainEndCheckpoint(),\n",
    "    ]\n",
    ")"
   ]
  },
  {
   "cell_type": "code",
   "execution_count": 47,
   "metadata": {
    "scrolled": false
   },
   "outputs": [
    {
     "name": "stdout",
     "output_type": "stream",
     "text": [
      "Automatic pdb calling has been turned ON\n",
      "  epoch    train_loss    valid_acc    valid_loss    cp     dur\n",
      "-------  ------------  -----------  ------------  ----  ------\n",
      "      1        \u001b[36m0.6998\u001b[0m       \u001b[32m0.5294\u001b[0m        \u001b[35m0.6821\u001b[0m     +  1.8563\n",
      "      2        \u001b[36m0.6842\u001b[0m       0.4706        \u001b[35m0.6795\u001b[0m        1.6106\n",
      "      3        \u001b[36m0.6593\u001b[0m       0.5000        \u001b[35m0.6728\u001b[0m        1.4397\n",
      "      4        \u001b[36m0.6564\u001b[0m       0.5294        0.6782        1.3673\n",
      "      5        \u001b[36m0.6361\u001b[0m       \u001b[32m0.6471\u001b[0m        \u001b[35m0.6484\u001b[0m     +  1.4017\n",
      "      6        \u001b[36m0.6216\u001b[0m       \u001b[32m0.6765\u001b[0m        \u001b[35m0.6324\u001b[0m     +  1.3120\n",
      "      7        \u001b[36m0.6090\u001b[0m       0.6176        0.6525        1.5246\n",
      "      8        0.6253       0.6765        0.6334        1.3165\n",
      "      9        \u001b[36m0.6089\u001b[0m       0.5882        \u001b[35m0.6209\u001b[0m        1.5588\n",
      "     10        \u001b[36m0.5789\u001b[0m       0.6765        \u001b[35m0.5850\u001b[0m        1.4248\n",
      "     11        0.5864       \u001b[32m0.7647\u001b[0m        \u001b[35m0.5574\u001b[0m     +  1.3387\n",
      "     12        \u001b[36m0.5595\u001b[0m       \u001b[32m0.7941\u001b[0m        \u001b[35m0.5292\u001b[0m     +  1.3949\n",
      "     13        \u001b[36m0.5380\u001b[0m       0.7059        0.5569        1.3670\n",
      "     14        \u001b[36m0.5262\u001b[0m       0.7941        \u001b[35m0.4514\u001b[0m        1.3415\n",
      "     15        \u001b[36m0.4855\u001b[0m       0.7353        0.4767        1.3925\n",
      "     16        \u001b[36m0.4379\u001b[0m       0.7941        \u001b[35m0.4170\u001b[0m        1.3776\n",
      "     17        \u001b[36m0.4147\u001b[0m       \u001b[32m0.8235\u001b[0m        \u001b[35m0.4129\u001b[0m     +  1.3738\n",
      "     18        \u001b[36m0.4048\u001b[0m       0.8235        0.4200        1.4236\n",
      "     19        \u001b[36m0.3960\u001b[0m       0.8235        0.4210        1.3363\n",
      "     20        \u001b[36m0.3246\u001b[0m       \u001b[32m0.8529\u001b[0m        0.4161     +  1.4348\n",
      "     21        \u001b[36m0.2889\u001b[0m       \u001b[32m0.8824\u001b[0m        \u001b[35m0.3647\u001b[0m     +  1.4871\n",
      "     22        \u001b[36m0.2686\u001b[0m       0.8529        \u001b[35m0.3584\u001b[0m        1.5888\n",
      "     23        \u001b[36m0.2509\u001b[0m       \u001b[32m0.9118\u001b[0m        \u001b[35m0.2903\u001b[0m     +  1.4856\n",
      "     24        \u001b[36m0.2123\u001b[0m       0.7353        0.5942        1.4133\n",
      "     25        0.3085       0.7059        0.5533        1.4503\n",
      "     26        0.3731       0.5882        0.8360        1.4840\n",
      "     27        0.2743       0.7059        0.7234        1.4024\n",
      "     28        0.2874       0.6765        0.6827        1.3388\n",
      "     29        0.2291       0.7353        0.6051        1.3725\n",
      "     30        \u001b[36m0.1948\u001b[0m       0.7941        0.5604        1.4220\n",
      "     31        \u001b[36m0.1641\u001b[0m       0.7647        0.5946        1.3832\n",
      "     32        0.1917       0.7059        0.6213        1.3422\n",
      "     33        0.1695       0.7647        0.4543        1.3654\n",
      "     34        \u001b[36m0.1324\u001b[0m       0.7353        0.5054        1.5897\n",
      "     35        \u001b[36m0.1133\u001b[0m       0.7647        0.5893        1.3825\n",
      "     36        0.2280       0.7647        0.5728        1.3555\n",
      "     37        0.1146       0.7059        0.5980        1.4624\n",
      "     38        0.1441       0.7059        0.6308        1.3726\n",
      "     39        \u001b[36m0.0941\u001b[0m       0.7941        0.5064        1.4417\n",
      "     40        0.1529       0.7647        0.5629        1.3400\n",
      "     41        0.1336       0.7647        0.5811        1.4571\n",
      "     42        0.1594       0.8235        0.4526        1.3370\n",
      "     43        0.1050       0.7353        0.5281        1.4038\n",
      "     44        \u001b[36m0.0841\u001b[0m       0.7647        0.5820        1.4878\n",
      "     45        0.1310       0.7941        0.5331        1.3485\n",
      "     46        0.0918       0.7353        0.5934        1.3156\n",
      "     47        0.1065       0.8529        0.3329        1.3812\n",
      "     48        0.1220       0.8529        0.3151        1.4091\n",
      "     49        0.0987       0.7647        0.5253        1.4064\n",
      "     50        0.0842       0.7941        0.5102        1.4157\n",
      "     51        \u001b[36m0.0730\u001b[0m       0.7353        0.6775        1.3505\n",
      "     52        0.1005       0.7647        0.6199        1.4157\n",
      "     53        0.3644       0.6471        1.3786        1.5083\n",
      "     54        0.6449       0.8235        0.4220        1.4568\n",
      "     55        0.2882       0.8529        0.3105        1.5749\n",
      "     56        0.2081       0.7353        0.5545        1.4030\n",
      "     57        0.1741       0.8529        0.3273        1.4756\n",
      "     58        0.2029       0.8235        0.4062        1.4964\n",
      "     59        0.1821       0.8529        0.3610        1.3808\n",
      "     60        0.1657       0.8529        \u001b[35m0.2572\u001b[0m        1.3230\n",
      "     61        0.0790       0.8529        0.2991        1.3894\n",
      "     62        0.0830       0.8235        0.2832        1.5465\n",
      "     63        0.1209       0.8235        0.2595        1.5200\n",
      "     64        0.1144       0.8529        0.3358        1.5048\n",
      "     65        0.0911       0.8824        \u001b[35m0.2285\u001b[0m        1.4748\n",
      "     66        0.1094       0.7941        0.4944        1.4185\n",
      "     67        0.1417       0.7353        0.7778        1.3535\n",
      "     68        0.1115       0.8529        0.3072        1.2953\n",
      "     69        0.1163       0.8235        0.3154        1.3946\n",
      "     70        \u001b[36m0.0587\u001b[0m       0.8824        0.3063        1.4258\n",
      "     71        0.0606       0.8235        0.3660        1.6752\n",
      "     72        \u001b[36m0.0431\u001b[0m       0.7941        0.4271        1.8263\n",
      "     73        0.0731       0.8529        0.3506        1.3953\n",
      "     74        0.0781       0.8235        0.3757        1.4018\n",
      "     75        0.0619       0.8824        0.3134        1.4396\n",
      "     76        0.0536       0.8824        0.3360        1.6249\n",
      "     77        0.0697       0.8529        0.3305        1.4835\n",
      "     78        0.0821       0.8235        0.4423        1.5529\n",
      "     79        0.0454       0.8235        0.4390        1.4431\n",
      "     80        0.0760       0.8235        0.4422        1.4617\n"
     ]
    },
    {
     "data": {
      "text/plain": [
       "<class 'skorch.classifier.NeuralNetBinaryClassifier'>[initialized](\n",
       "  module_=NoSwearModel(\n",
       "    (base_model): DeepSpeech(\n",
       "      (conv): Sequential(\n",
       "        (0): Conv2d(1, 32, kernel_size=(41, 11), stride=(2, 2), padding=(0, 10))\n",
       "        (1): BatchNorm2d(32, eps=1e-05, momentum=0.1, affine=True, track_running_stats=True)\n",
       "        (2): Hardtanh(min_val=0, max_val=20, inplace=True)\n",
       "        (3): Conv2d(32, 32, kernel_size=(21, 11), stride=(2, 1))\n",
       "        (4): BatchNorm2d(32, eps=1e-05, momentum=0.1, affine=True, track_running_stats=True)\n",
       "        (5): Hardtanh(min_val=0, max_val=20, inplace=True)\n",
       "      )\n",
       "      (rnns): Identity()\n",
       "      (fc): Identity()\n",
       "      (inference_softmax): Identity()\n",
       "      (lookahead): Identity()\n",
       "    )\n",
       "    (rnn): Sequential(\n",
       "      (0): LSTM(672, 32, bias=False, batch_first=True)\n",
       "      (1): RNNValueExtractor()\n",
       "    )\n",
       "    (clf): Linear(in_features=32, out_features=1, bias=False)\n",
       "    (dropout): Dropout(p=0.0, inplace=False)\n",
       "  ),\n",
       ")"
      ]
     },
     "execution_count": 47,
     "metadata": {},
     "output_type": "execute_result"
    }
   ],
   "source": [
    "%pdb on\n",
    "net.fit(X_train, y_train)"
   ]
  },
  {
   "cell_type": "code",
   "execution_count": null,
   "metadata": {},
   "outputs": [],
   "source": []
  },
  {
   "cell_type": "code",
   "execution_count": 37,
   "metadata": {},
   "outputs": [],
   "source": [
    "net.load_params(checkpoint=dict(net.callbacks_)['Checkpoint'])"
   ]
  },
  {
   "cell_type": "code",
   "execution_count": 38,
   "metadata": {},
   "outputs": [
    {
     "data": {
      "text/plain": [
       "0.8571428571428571"
      ]
     },
     "execution_count": 38,
     "metadata": {},
     "output_type": "execute_result"
    }
   ],
   "source": [
    "accuracy_score(y_test, net.predict(X_test))"
   ]
  },
  {
   "cell_type": "code",
   "execution_count": 39,
   "metadata": {},
   "outputs": [
    {
     "data": {
      "text/plain": [
       "0.9117647058823529"
      ]
     },
     "execution_count": 39,
     "metadata": {},
     "output_type": "execute_result"
    }
   ],
   "source": [
    "accuracy_score(y_valid, net.predict(X_valid))"
   ]
  },
  {
   "cell_type": "code",
   "execution_count": null,
   "metadata": {},
   "outputs": [],
   "source": []
  },
  {
   "cell_type": "code",
   "execution_count": null,
   "metadata": {},
   "outputs": [],
   "source": []
  },
  {
   "cell_type": "code",
   "execution_count": null,
   "metadata": {},
   "outputs": [],
   "source": []
  },
  {
   "cell_type": "code",
   "execution_count": null,
   "metadata": {},
   "outputs": [],
   "source": [
    "from sklearn.model_selection import GridSearchCV\n",
    "from skorch.helper import SliceDict"
   ]
  },
  {
   "cell_type": "code",
   "execution_count": null,
   "metadata": {},
   "outputs": [],
   "source": [
    "#net.initialize();\n",
    "net.set_params(verbose=False);"
   ]
  },
  {
   "cell_type": "code",
   "execution_count": null,
   "metadata": {},
   "outputs": [],
   "source": [
    "params = {\n",
    "    'optimizer__lr': [0.02, 0.002, 0.0002],\n",
    "    'optimizer__weight_decay': [0, 1e-4],\n",
    "    'optimizer': [torch.optim.RMSprop, torch.optim.Adam],\n",
    "    'module__p_dropout': [0, 0.5],\n",
    "    'module__n_hidden': [10, 100, 200, 400],\n",
    "    'module__n_layer': [1, 2],\n",
    "}"
   ]
  },
  {
   "cell_type": "code",
   "execution_count": null,
   "metadata": {},
   "outputs": [],
   "source": [
    "cv = TODO"
   ]
  },
  {
   "cell_type": "code",
   "execution_count": null,
   "metadata": {},
   "outputs": [],
   "source": [
    "gs = GridSearchCV(net, params, scoring='accuracy', cv=cv)"
   ]
  },
  {
   "cell_type": "code",
   "execution_count": null,
   "metadata": {
    "scrolled": false
   },
   "outputs": [],
   "source": [
    "%%time\n",
    "gs.fit(SliceDict(**X_train), y_train);"
   ]
  },
  {
   "cell_type": "code",
   "execution_count": null,
   "metadata": {},
   "outputs": [],
   "source": []
  },
  {
   "cell_type": "code",
   "execution_count": null,
   "metadata": {},
   "outputs": [],
   "source": [
    "gs"
   ]
  },
  {
   "cell_type": "code",
   "execution_count": null,
   "metadata": {},
   "outputs": [],
   "source": []
  },
  {
   "cell_type": "code",
   "execution_count": null,
   "metadata": {},
   "outputs": [],
   "source": [
    "import pandas as pd\n",
    "results = pd.DataFrame(gs.cv_results_)"
   ]
  },
  {
   "cell_type": "code",
   "execution_count": null,
   "metadata": {},
   "outputs": [],
   "source": [
    "top_results = results.sort_values(by='mean_test_score').head(10)"
   ]
  },
  {
   "cell_type": "code",
   "execution_count": null,
   "metadata": {},
   "outputs": [],
   "source": [
    "top_results"
   ]
  },
  {
   "cell_type": "code",
   "execution_count": null,
   "metadata": {},
   "outputs": [],
   "source": []
  },
  {
   "cell_type": "code",
   "execution_count": null,
   "metadata": {},
   "outputs": [],
   "source": [
    "top_results.params"
   ]
  },
  {
   "cell_type": "code",
   "execution_count": null,
   "metadata": {},
   "outputs": [],
   "source": []
  },
  {
   "cell_type": "code",
   "execution_count": null,
   "metadata": {},
   "outputs": [],
   "source": []
  },
  {
   "cell_type": "code",
   "execution_count": null,
   "metadata": {},
   "outputs": [],
   "source": [
    "net.set_params(verbose=True, **top_results.params.iloc[1]);"
   ]
  },
  {
   "cell_type": "code",
   "execution_count": null,
   "metadata": {},
   "outputs": [],
   "source": [
    "net.fit(X_train, y_train);"
   ]
  },
  {
   "cell_type": "code",
   "execution_count": null,
   "metadata": {},
   "outputs": [],
   "source": []
  },
  {
   "cell_type": "code",
   "execution_count": null,
   "metadata": {},
   "outputs": [],
   "source": [
    "accuracy_score(y_test, net.predict(X_test))"
   ]
  },
  {
   "cell_type": "code",
   "execution_count": null,
   "metadata": {},
   "outputs": [],
   "source": []
  }
 ],
 "metadata": {
  "kernelspec": {
   "display_name": "Python 3",
   "language": "python",
   "name": "python3"
  },
  "language_info": {
   "codemirror_mode": {
    "name": "ipython",
    "version": 3
   },
   "file_extension": ".py",
   "mimetype": "text/x-python",
   "name": "python",
   "nbconvert_exporter": "python",
   "pygments_lexer": "ipython3",
   "version": "3.6.6"
  }
 },
 "nbformat": 4,
 "nbformat_minor": 2
}
